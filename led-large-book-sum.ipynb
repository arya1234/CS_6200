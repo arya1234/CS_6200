{
 "cells": [
  {
   "cell_type": "raw",
   "id": "882991e9",
   "metadata": {
    "papermill": {
     "duration": 0.004825,
     "end_time": "2023-12-09T14:32:39.256351",
     "exception": false,
     "start_time": "2023-12-09T14:32:39.251526",
     "status": "completed"
    },
    "tags": []
   },
   "source": []
  },
  {
   "cell_type": "code",
   "execution_count": 1,
   "id": "4c66bf67",
   "metadata": {
    "_cell_guid": "b1076dfc-b9ad-4769-8c92-a6c4dae69d19",
    "_uuid": "8f2839f25d086af736a60e9eeb907d3b93b6e0e5",
    "execution": {
     "iopub.execute_input": "2023-12-09T14:32:39.267673Z",
     "iopub.status.busy": "2023-12-09T14:32:39.266855Z",
     "iopub.status.idle": "2023-12-09T14:32:39.797001Z",
     "shell.execute_reply": "2023-12-09T14:32:39.795630Z"
    },
    "papermill": {
     "duration": 0.53975,
     "end_time": "2023-12-09T14:32:39.800425",
     "exception": false,
     "start_time": "2023-12-09T14:32:39.260675",
     "status": "completed"
    },
    "tags": []
   },
   "outputs": [
    {
     "name": "stdout",
     "output_type": "stream",
     "text": [
      "/kaggle/input/original-data/data.json\n"
     ]
    }
   ],
   "source": [
    "# This Python 3 environment comes with many helpful analytics libraries installed\n",
    "# It is defined by the kaggle/python Docker image: https://github.com/kaggle/docker-python\n",
    "# For example, here's several helpful packages to load\n",
    "\n",
    "import numpy as np # linear algebra\n",
    "import pandas as pd # data processing, CSV file I/O (e.g. pd.read_csv)\n",
    "\n",
    "# Input data files are available in the read-only \"../input/\" directory\n",
    "# For example, running this (by clicking run or pressing Shift+Enter) will list all files under the input directory\n",
    "\n",
    "import os\n",
    "for dirname, _, filenames in os.walk('/kaggle/input'):\n",
    "    for filename in filenames:\n",
    "        print(os.path.join(dirname, filename))\n",
    "\n",
    "# You can write up to 20GB to the current directory (/kaggle/working/) that gets preserved as output when you create a version using \"Save & Run All\" \n",
    "# You can also write temporary files to /kaggle/temp/, but they won't be saved outside of the current session"
   ]
  },
  {
   "cell_type": "code",
   "execution_count": 2,
   "id": "f88203ef",
   "metadata": {
    "execution": {
     "iopub.execute_input": "2023-12-09T14:32:39.814166Z",
     "iopub.status.busy": "2023-12-09T14:32:39.812584Z",
     "iopub.status.idle": "2023-12-09T14:33:18.048167Z",
     "shell.execute_reply": "2023-12-09T14:33:18.046664Z"
    },
    "papermill": {
     "duration": 38.244068,
     "end_time": "2023-12-09T14:33:18.050618",
     "exception": false,
     "start_time": "2023-12-09T14:32:39.806550",
     "status": "completed"
    },
    "tags": []
   },
   "outputs": [
    {
     "name": "stdout",
     "output_type": "stream",
     "text": [
      "Collecting wikipedia\r\n",
      "  Downloading wikipedia-1.4.0.tar.gz (27 kB)\r\n",
      "  Preparing metadata (setup.py) ... \u001b[?25l-\b \bdone\r\n",
      "\u001b[?25hRequirement already satisfied: beautifulsoup4 in /opt/conda/lib/python3.10/site-packages (from wikipedia) (4.12.2)\r\n",
      "Requirement already satisfied: requests<3.0.0,>=2.0.0 in /opt/conda/lib/python3.10/site-packages (from wikipedia) (2.31.0)\r\n",
      "Requirement already satisfied: charset-normalizer<4,>=2 in /opt/conda/lib/python3.10/site-packages (from requests<3.0.0,>=2.0.0->wikipedia) (3.2.0)\r\n",
      "Requirement already satisfied: idna<4,>=2.5 in /opt/conda/lib/python3.10/site-packages (from requests<3.0.0,>=2.0.0->wikipedia) (3.4)\r\n",
      "Requirement already satisfied: urllib3<3,>=1.21.1 in /opt/conda/lib/python3.10/site-packages (from requests<3.0.0,>=2.0.0->wikipedia) (1.26.15)\r\n",
      "Requirement already satisfied: certifi>=2017.4.17 in /opt/conda/lib/python3.10/site-packages (from requests<3.0.0,>=2.0.0->wikipedia) (2023.11.17)\r\n",
      "Requirement already satisfied: soupsieve>1.2 in /opt/conda/lib/python3.10/site-packages (from beautifulsoup4->wikipedia) (2.3.2.post1)\r\n",
      "Building wheels for collected packages: wikipedia\r\n",
      "  Building wheel for wikipedia (setup.py) ... \u001b[?25l-\b \b\\\b \bdone\r\n",
      "\u001b[?25h  Created wheel for wikipedia: filename=wikipedia-1.4.0-py3-none-any.whl size=11678 sha256=3efbf2f530f74afd7e217507345e37c6b1e9418f62cf59c3fd60e7e2eb0b52ad\r\n",
      "  Stored in directory: /root/.cache/pip/wheels/5e/b6/c5/93f3dec388ae76edc830cb42901bb0232504dfc0df02fc50de\r\n",
      "Successfully built wikipedia\r\n",
      "Installing collected packages: wikipedia\r\n",
      "Successfully installed wikipedia-1.4.0\r\n",
      "Collecting rank_bm25\r\n",
      "  Downloading rank_bm25-0.2.2-py3-none-any.whl (8.6 kB)\r\n",
      "Requirement already satisfied: numpy in /opt/conda/lib/python3.10/site-packages (from rank_bm25) (1.24.3)\r\n",
      "Installing collected packages: rank_bm25\r\n",
      "Successfully installed rank_bm25-0.2.2\r\n",
      "[nltk_data] Downloading package punkt to /usr/share/nltk_data...\n",
      "[nltk_data]   Package punkt is already up-to-date!\n"
     ]
    },
    {
     "data": {
      "text/plain": [
       "True"
      ]
     },
     "execution_count": 2,
     "metadata": {},
     "output_type": "execute_result"
    }
   ],
   "source": [
    "!pip install wikipedia\n",
    "!pip install rank_bm25\n",
    "import nltk\n",
    "nltk.download('punkt')"
   ]
  },
  {
   "cell_type": "code",
   "execution_count": 3,
   "id": "f5724e8c",
   "metadata": {
    "execution": {
     "iopub.execute_input": "2023-12-09T14:33:18.065941Z",
     "iopub.status.busy": "2023-12-09T14:33:18.065023Z",
     "iopub.status.idle": "2023-12-09T14:33:18.130648Z",
     "shell.execute_reply": "2023-12-09T14:33:18.128654Z"
    },
    "papermill": {
     "duration": 0.077136,
     "end_time": "2023-12-09T14:33:18.133805",
     "exception": false,
     "start_time": "2023-12-09T14:33:18.056669",
     "status": "completed"
    },
    "tags": []
   },
   "outputs": [],
   "source": [
    "import json\n",
    "\n",
    "# Import from JSON file\n",
    "with open('/kaggle/input/original-data/data.json', 'r') as json_file:\n",
    "    imported_data = json.load(json_file)\n",
    "\n",
    "# Now, imported_data is a list of dictionaries"
   ]
  },
  {
   "cell_type": "code",
   "execution_count": 4,
   "id": "b60b8478",
   "metadata": {
    "execution": {
     "iopub.execute_input": "2023-12-09T14:33:18.149460Z",
     "iopub.status.busy": "2023-12-09T14:33:18.148674Z",
     "iopub.status.idle": "2023-12-09T14:34:09.221944Z",
     "shell.execute_reply": "2023-12-09T14:34:09.220088Z"
    },
    "papermill": {
     "duration": 51.085141,
     "end_time": "2023-12-09T14:34:09.225480",
     "exception": false,
     "start_time": "2023-12-09T14:33:18.140339",
     "status": "completed"
    },
    "tags": []
   },
   "outputs": [
    {
     "data": {
      "application/vnd.jupyter.widget-view+json": {
       "model_id": "0571c828bfbe48289548d9a1b5086314",
       "version_major": 2,
       "version_minor": 0
      },
      "text/plain": [
       "tokenizer_config.json:   0%|          | 0.00/1.32k [00:00<?, ?B/s]"
      ]
     },
     "metadata": {},
     "output_type": "display_data"
    },
    {
     "data": {
      "application/vnd.jupyter.widget-view+json": {
       "model_id": "64dc43cdc837420da7aef3fbe2f96766",
       "version_major": 2,
       "version_minor": 0
      },
      "text/plain": [
       "vocab.json:   0%|          | 0.00/798k [00:00<?, ?B/s]"
      ]
     },
     "metadata": {},
     "output_type": "display_data"
    },
    {
     "data": {
      "application/vnd.jupyter.widget-view+json": {
       "model_id": "e875d21f4e2946e8853f195f83040795",
       "version_major": 2,
       "version_minor": 0
      },
      "text/plain": [
       "merges.txt:   0%|          | 0.00/456k [00:00<?, ?B/s]"
      ]
     },
     "metadata": {},
     "output_type": "display_data"
    },
    {
     "data": {
      "application/vnd.jupyter.widget-view+json": {
       "model_id": "4f5bc89ac4114dda8a944abc33d7b311",
       "version_major": 2,
       "version_minor": 0
      },
      "text/plain": [
       "tokenizer.json:   0%|          | 0.00/2.11M [00:00<?, ?B/s]"
      ]
     },
     "metadata": {},
     "output_type": "display_data"
    },
    {
     "data": {
      "application/vnd.jupyter.widget-view+json": {
       "model_id": "99636aa4568a4b8e8d0d8c06c65ba69c",
       "version_major": 2,
       "version_minor": 0
      },
      "text/plain": [
       "special_tokens_map.json:   0%|          | 0.00/772 [00:00<?, ?B/s]"
      ]
     },
     "metadata": {},
     "output_type": "display_data"
    },
    {
     "data": {
      "application/vnd.jupyter.widget-view+json": {
       "model_id": "c5eb9cd205a044049ce6b87ed1dd7ce0",
       "version_major": 2,
       "version_minor": 0
      },
      "text/plain": [
       "config.json:   0%|          | 0.00/1.44k [00:00<?, ?B/s]"
      ]
     },
     "metadata": {},
     "output_type": "display_data"
    },
    {
     "data": {
      "application/vnd.jupyter.widget-view+json": {
       "model_id": "0e585b9525504161af78b4f8768ce9f3",
       "version_major": 2,
       "version_minor": 0
      },
      "text/plain": [
       "model.safetensors:   0%|          | 0.00/1.84G [00:00<?, ?B/s]"
      ]
     },
     "metadata": {},
     "output_type": "display_data"
    }
   ],
   "source": [
    "# import and initialize the tokenizer and model from the checkpoint\n",
    "from transformers import AutoTokenizer, AutoModelForSeq2SeqLM\n",
    "\n",
    "checkpoint = \"pszemraj/led-large-book-summary\"\n",
    "\n",
    "tokenizer = AutoTokenizer.from_pretrained(checkpoint)\n",
    "model = AutoModelForSeq2SeqLM.from_pretrained(checkpoint)"
   ]
  },
  {
   "cell_type": "code",
   "execution_count": 5,
   "id": "2acb2570",
   "metadata": {
    "execution": {
     "iopub.execute_input": "2023-12-09T14:34:09.244069Z",
     "iopub.status.busy": "2023-12-09T14:34:09.243169Z",
     "iopub.status.idle": "2023-12-09T14:34:09.251932Z",
     "shell.execute_reply": "2023-12-09T14:34:09.250218Z"
    },
    "papermill": {
     "duration": 0.021122,
     "end_time": "2023-12-09T14:34:09.254595",
     "exception": false,
     "start_time": "2023-12-09T14:34:09.233473",
     "status": "completed"
    },
    "tags": []
   },
   "outputs": [],
   "source": [
    "content = [page['content'][:10000] for page in imported_data]"
   ]
  },
  {
   "cell_type": "code",
   "execution_count": 6,
   "id": "8ceb0882",
   "metadata": {
    "execution": {
     "iopub.execute_input": "2023-12-09T14:34:09.271818Z",
     "iopub.status.busy": "2023-12-09T14:34:09.271304Z",
     "iopub.status.idle": "2023-12-09T18:23:14.502009Z",
     "shell.execute_reply": "2023-12-09T18:23:14.500923Z"
    },
    "papermill": {
     "duration": 13745.269623,
     "end_time": "2023-12-09T18:23:14.531713",
     "exception": false,
     "start_time": "2023-12-09T14:34:09.262090",
     "status": "completed"
    },
    "tags": []
   },
   "outputs": [
    {
     "name": "stderr",
     "output_type": "stream",
     "text": [
      "  1%|          | 1/100 [04:21<7:11:15, 261.37s/it]"
     ]
    },
    {
     "name": "stdout",
     "output_type": "stream",
     "text": [
      "In this chapter, Wollstonecraft explains the concept of solar energy, which is \"radiant light and heat from the sun that is harnessed using a range of technologies such as solar power to generate electricity, solar thermal energy, solar water heating, and solar architecture. It is an essential source of renewable energy.\" Solar energy can be classified into two broad categories: passive solar or active solar. Active solar techniques include photovoltaic systems, concentrating solar power, concentrated solar power and solar water cooling. Passive solar methods include orienting a building to the sun, selecting materials with favorable thermal mass or light-dispersing properties, and designing spaces that naturally circulate air. In 2011, the International Energy Agency said that \"the development of affordable, inexhaustible and clean solar energy technologies will have huge longer-term benefits. It will increase countries' energy security,\" it will increase sustainability, reduce pollution, lower the costs of mitigating greenhouse warming and mitigate global warming.... these advantages are global.\" The Earth receives 174 petawatts of incoming solar radiation in the upper atmosphere; approximately 30% is reflected back to space, while the rest is absorbed by clouds, oceans and land masses. Most of the world's population live in areas with insolation levels of 150–300 watts/m2 or 3.5–7.0 kWh/M2 per day. By photosynthesis, green plants convert solar energy into chemically stored energy, which produces food, wood and the biomass from which fossil fuels are derived. The potential solar energy that could be used by humans differs slightly from the amount currently available because factors such as geography, time variations, cloud cover and the land available to humans limit the amount of solar capacity. In 2021, Carbon Tracker Initiative estimated the land area needed to generate all of the energy from solar alone was 450,000 km2.Solar technologies are characterized as either passive or active, depending on the way they capture, convert and distribute sunlight. Both passive and active solar energy can use different solar technologies to achieve the same end.\n"
     ]
    },
    {
     "name": "stderr",
     "output_type": "stream",
     "text": [
      "  2%|▏         | 2/100 [05:15<3:48:01, 139.60s/it]"
     ]
    },
    {
     "name": "stdout",
     "output_type": "stream",
     "text": [
      "George Washington was born on February 22, 1732 in Westmoreland County, Virginia and was the first of six children of Augustine and Mary Ball Washington. His father was a justice of the peace and a prominent public figure. George Washington served as the commander of the Continental Army during the American Revolutionary War and also served as president of the Constitutional Convention that drafted the Constitution of the United States and established the American federal government. Washington is considered by some to be the \"Father of his Country\". He owned slaves and was controversial over time because of his ownership of slaves and his relationship with slavery. However, he is regarded as one of the greatest U.S. presidents. According to his own records, George Washington was very interested in mathematics, trigonometry, and land surveying. He even wrote a set of rules for social interaction titled Rules of Civility and Decent Behaviour.\n"
     ]
    },
    {
     "name": "stderr",
     "output_type": "stream",
     "text": [
      "  3%|▎         | 3/100 [10:14<5:43:21, 212.38s/it]"
     ]
    },
    {
     "name": "stdout",
     "output_type": "stream",
     "text": [
      "In this chapter, the narrator explains the history of cricket, the most popular spectator sport in England. The sport of cricket has a known history beginning in the late 16th century and developed globally during the 19th and 20th centuries. International matches have been played since the early 19th century, and formal Test cricket matches are considered to date from 1877. The game's rules are defined in the \"Laws of cricket\". The game has various formats, ranging from T-10 (Ten-10) played in around 90 minutes to Test matches which can last up to five days. Development of the Laws of Cricket. It's not clear when the basic rules of cricket such as bat and ball, the wicket, pitch dimensions, overs, how out, etc. were originally formulated. In 1728, Duke of Richmond and Alan Brodick drew up Articles of Agreement to determine the code of practice in a particular game and this became a common feature, especially around payment of stake money and distributing the winnings. During the course of the 17th and 18th centuries, the game began to develop into an adult sport. The first reference to cricket being played as an official sport was in 1611, when two men in Sussex were prosecuted for playing cricket on Sunday instead of going to church. In the same year, a dictionary defined cricket as a boys' game, and this suggests that adult participation was a recent development. Derivation of the name \"cricket\" Various words are thought to be possible sources for the term crickett. The name may have been derived from the Middle Dutch krickett, meaning stick; the Old English cricketyard, meaning a stick; or staff; or the French word criquet meaning wooden post. According to Heiner Gillmeister at the University of Bonn, the use of the middle Dutch word krickstoel means kneeling in church; this resembled the long low stool with two stumps used in early cricket. The codes were drawn up by the members of the Garter and Garter's club. The Mouldy Club, whose members ultimately founded the Marylebone Cricket Club, made their way into the maintenance of the game throughout England. Throughout England, public schools compete against public schools and also against baseball.Internationally, cricket is governed by the International Cricket Council, which has over one hundred countries and territories in membership although only twelve currently play Test cricket.\n"
     ]
    },
    {
     "name": "stderr",
     "output_type": "stream",
     "text": [
      "  4%|▍         | 4/100 [12:38<4:56:46, 185.48s/it]"
     ]
    },
    {
     "name": "stdout",
     "output_type": "stream",
     "text": [
      "This chapter provides a detailed overview of the various terms used to describe association football, the sport most commonly referred to in the English-speaking world as \"football\" or \"soccer\". The rules of Association football were codified in England by the Football Association in 1863. The alternative name soccer was coined in the late 19th century England to help distinguish between several codes of football that were growing in popularity at that time, in particular rugby football. It first appeared in English Public Schools and universities in the 1880s. This is unusual compared to francophone countries, where football is generally used. In 1889, the word soccer was used as an uncontroversial alternative in Britain to football for over 100 years. However, as the working class lost influence in British society from the 1960s on, \"football supplanted'soccer' as the most commonly used and accepted word. The use of soccer is declining in Britain and is now considered (albeit incorrectly, due to the word's British origin) to be an exclusively American English term. Across Europe, there are many different official languages that have their own federations and leagues. These include: France, Germany, Spain, Italy, Belgium, Holland, France's Lowlands, Scotland, Ireland, Turkey, Greece, Cyprus, and many other places. Most non-official English-speakers also speak the language of these countries but some dialects do not. Here, we focus on those places with English as the official language. In Australia, traditionally referred to as soccer, the game is now known as football. Historically, the derogatory term \"wogball\" has been used to refer to the sport. In the United States, it was called collegiate football until the 1910s, when the word was added to the U.S. Soccer Football Association. Similarly, in Canada, the Canadian Soccer Association is called the Fédération de Soccer du Québec. Many teams in Major League Soccer use the word \"FC\" as a suffix or prefix in their names, reflecting the Spanish-speaking and Francophone communities where the teams are from. All teams in the Canadian Premier League except those owned by Atlético Madrid all use FC as a prefixed word, with the exception of Edmonton. In Central America, such as Belize, the unqualified term football refers to association football; similarly, in many parts of Europe, Asia, Africa, the Caribbean and South America.\n"
     ]
    },
    {
     "name": "stderr",
     "output_type": "stream",
     "text": [
      "  5%|▌         | 5/100 [15:29<4:45:11, 180.12s/it]"
     ]
    },
    {
     "name": "stdout",
     "output_type": "stream",
     "text": [
      "In American football, the game is played as a series of \"downs, individual plays of short duration, outside of which the ball is dead or not in play\". Each team has only 11 players on the field and each player has specific tasks to perform in order to win the play. The objective of the gameis to score more points than the other team during the allotted time. The team with the ball has 4 plays (downs) to advance the ball at least 10 yards and can score points once they reach the opposite end of the field. In addition, points are scored by advancing the ball into the opponent's end zone for a touchdown, kicking the ball from the playing field through the raised vertical posts for a field goal or by kicking it through the goalposts for a three-point conversion. Time of play In college and professional football games are played in 1 hour long halves divided into four quarters of 15 minutes each. The referee controls the game clock and stops the clock after any play that ends out of bounds. During the regular season in the NFL, one overtime period is played with each team receiving two timeouts. In the playoffs, teams use media time-outs. The amount of time that each team has to spend on the clock depends on the game situation. If a game is tied after the first possession, then either team gets to keep possession of the ball. If there is no possession left, then the coin toss is used to determine which team will possess the ball first. If both teams take possession at the end of regulation time, then an automatic timeout is called. A coin flip is also occurs prior to the start of overtime where the team that wins receives the toss. The winning team may choose either to receive or receive the kickoff. If neither team scores a touchdown or if the receiving team does, then sudden death rules are played. If the opposing team fails to score and takes possession back, then suddenly the game goes into sudden death. Any time a safety is recorded in the post-game, the winning team is the winner. If someone on the receiving side captures an interception or a fumble, the defense attempts to run the offense's offensive player into the end zone but misses the opportunity to score. The defense may also score points by tackling the ball carrier in the offenses end zone. The design of the neutral field in American football differs from that of many European countries. Many European countries have set up modified versions of the American game with fixed time periods and fixed amounts of time devoted to each play. For example, in England, the English Premier League, the time is cut from 90 minutes to 80 minutes for the second half of a game and the English Grand Final is played over two 40-minute halves.\n"
     ]
    },
    {
     "name": "stderr",
     "output_type": "stream",
     "text": [
      "  6%|▌         | 6/100 [17:52<4:22:27, 167.53s/it]"
     ]
    },
    {
     "name": "stdout",
     "output_type": "stream",
     "text": [
      "A stock exchange, securities exchange, or bourse is an exchange where stockbrokers and traders can buy and sell securities. Stock exchanges may also provide facilities for the issue and redemption of such securities and instruments and capital events including the payment of income and dividends. A stock exchange is often the most important component of a stock market. Supply and demand in stock markets are driven by various factors that, as in all free markets, affect the price of stocks. There is usually no obligation for stock to be issued through the stock exchange itself, nor must stock be subsequently traded on an exchange. Increasingly, stock exchanges are part of a global securities market. The history of stock market-based economies begins with BC Phoenicia's large trade network. In the late Middle Ages, Venetian lenders carried slates with information on the various issues for sale and meet with clients, much like a broker does today. As the evolution of their business continued, the lenders began to sell debt issues to the first individual investors in the late 1900s. The beginning of lending dates back to the 12th century; lenders exchanged notes between moneylenders. By the 1500s, there were societates publicanorum, organizations of contractors or leaseholders who performed temple-building and other services for the government. They traded shares under the buttonwood tree at the junction of Meadows Street and what was then called Esplanade Road. At last, in 1874, the brokers found a permanent location, the one that they could call their own. The Bombay Stock Exchange was started by Premchand Roychand in 1875. It later became the first stock exchange recognized by the Indian Government under the Securities Contracts Regulation Act. One of history's greatest financial bubbles occurred around 1720. The South Sea Company, set up in 1711 to conduct English trade with South America, and the Mississippi Company, focused on commerce with France's Louisiana colony, promoted by transplanted Scottish financier John Law. Investors snapped up shares in both, and whatever else was available. In 1720, at the height of the mania, there was even an offering of \"a company for carrying out an undertaking of great advantage, but nobody to know what it is\". By the end of that same year, share prices had started collapsing. In London, Parliament passed the Bubble Act, which stated that only royally chartered companies could issue public shares. In Paris, Law abandoned his office and fled the country. Stock trading was more limited and subdued in subsequent decades.\n"
     ]
    },
    {
     "name": "stderr",
     "output_type": "stream",
     "text": [
      "  7%|▋         | 7/100 [19:27<3:42:51, 143.78s/it]"
     ]
    },
    {
     "name": "stdout",
     "output_type": "stream",
     "text": [
      "Jaguar is the luxury vehicle brand of Jaguar Land Rover. It was founded as the Swallow Sidecar Company in 1922, originally making motorcycle sidecars before developing into a full line of passenger cars. In 1945, they changed their name to Jaguar Cars. They became fully merged with Land Rover in January 2013. Jaguar made its name by producing a series of eye-catching sports cars, the Jaguar XK120, XK140, and XK150, which all embodying Lyons' mantra of \"value for money. During the Second World War, the company's success lies in the design of a new Twin OHCXK engine. Later, this would become the mainstay powerplant of Jaguar, used in the XK 120, Mk VII Saloon, Mk I and II Saloons and XKS 140 and 150. Two of the proudest moments in Jaguar's long history in motor sport involve winning the Le Mans 24 hours race twice, first in 1951 and again in 1953. In spite of such a performance orientation, it was always Lyons' intention to build the business by producing world-class sporting saloons in larger numbers than the sports car market could support. By adopting the Daimler marque, Jaguar eventually went completely under the control of Tata Motors. In July 1984, Jaguar was floated off as a separate company on the London Stock Exchange; during the Thatcher government's many privatisations-to create its own track record. Sir John Egan is credited with overseeing Jaguar's unprecedented prosperity after privatization.\n"
     ]
    },
    {
     "name": "stderr",
     "output_type": "stream",
     "text": [
      "  8%|▊         | 8/100 [20:12<2:52:00, 112.18s/it]"
     ]
    },
    {
     "name": "stdout",
     "output_type": "stream",
     "text": [
      "The FIFA World Cup is the pinnacle of international association football, held every four years. The host nation receives the trophy and its name is engraved on the bottom side of the trophy. Brazil has won the tournament eight times and finished second twice. Argentina defeated France on penalties in the latest final, staged at Qatar's Lusail Stadium in 2022. In case of a draw, extra time is used. If scores are still level after extra time, a penalty shoot-out determines the winner. The only exception to this type of format was the 1950 World Cup, which featured a final round-robin group of four teams; the decisive match of that group is often regarded as the de facto final of that tournament, including FIFA itself. Footnotes Footnotes Note : General references refer to \"World Cup 1930-2018\" by Rec. Sport. Soccer Statistics Foundation (RSSSF) dated 9 August 2018.Specific References = External Links <ref>FIFA World Cup at FIFA.com\n"
     ]
    },
    {
     "name": "stderr",
     "output_type": "stream",
     "text": [
      "  9%|▉         | 9/100 [22:03<2:49:55, 112.04s/it]"
     ]
    },
    {
     "name": "stdout",
     "output_type": "stream",
     "text": [
      "In this chapter, Wollstonecraft explains the concept of kinetic energy, or \"kinetic energy,\" which is the energy that an object possesses due to its motion. In classical mechanics, the kinetic energy of a non-rotating object traveling at a speed v is equal to the work needed to accelerate it from rest to its stated velocity. Kinetic energy can be divided into several different forms: chemical, physical, gravitational, electric, and radiological. For example, a cyclist with a moving bicycle could encounter a hill just high enough to coast up, so that the bicycle comes to a complete halt at the top. The kinetic energy has now largely been converted to gravitational potential energy. Another possibility would be for the cyclist to apply the brakes; this would decelerate the bike and dissipate some of its kinetic energy into heat. Similarly, in the game billiards, the player can impose kinetic energy on a cue ball by striking it with the cue stick. In relativistic mechanics, one can also use flywheels as an energy storage device.\n"
     ]
    },
    {
     "name": "stderr",
     "output_type": "stream",
     "text": [
      " 10%|█         | 10/100 [23:17<2:30:11, 100.12s/it]"
     ]
    },
    {
     "name": "stdout",
     "output_type": "stream",
     "text": [
      "An electric vehicle is one that uses electric motors for propulsion. It can be powered by a battery, solar panels, or fuel cells. EVs include but are not limited to road and rail vehicles, and broadly can also include electric boat and underwater vessels. Electric passenger cars, electric buses, electric trucks and personal transporters such as electric buggy, electric tricycles, electric bicycles and electric motorcycles/scooters form a future vision of transportation called Connected, Autonomous, Shared and Electric (CASE) mobility. Early electric vehicles first came into existence in the late 19th century. Government incentives to increase adoption were first introduced by Norway in 1990, followed by larger markets in the 2000s, including in the United States and the European Union, leading to a growing market for vehicles in the 2010s. Increasing public interest and awareness and structural incentives, such as those being built into the green recovery from the COVID-19 pandemic, are expected to greatly increase the electric vehicle market. The International Energy Agency has stated that governments should do more to meet climate goals, including policies for heavy electric vehicles. By 2023, two-wheelers are already the most electrified road transport segment today, and are projected to continue to be the largest EV fleet among all transport modes.\n"
     ]
    },
    {
     "name": "stderr",
     "output_type": "stream",
     "text": [
      " 11%|█         | 11/100 [24:46<2:23:48, 96.94s/it] "
     ]
    },
    {
     "name": "stdout",
     "output_type": "stream",
     "text": [
      "In this chapter, the author explains two different types of encryption: symmetric-key encryption and block cipher technology. Symmetric key encryption algorithms are those that use the same cryptographic keys for both the encryption of plaintext and the decryption of ciphertext. They can be used for bulk encryption as well as secure messages. The terms \"symmetric\" and \"re reciprocal\" are used to describe these two different kinds of encryption methods. Ciphers are similar to regular ciphers, but they can be more widely used for non-reduction purposes. For example, a message that is encrypted in one form or another can be added to a ciphertext to ensure that any changes to the ciphertext will be noted by the receiver. Message authentication codes can be constructed from either a conventional cipher or anAEAD cipher. Similarly, message authentication codes built from block cipher devices can also be used. Although most modern block cipher machines implement a reciprocal cipher, some older ones did not. A reciprocal cipher is a cipher where just as one enters the plaintext into the system to get the cipher text, one could enter the same place in the system with the cipher code on the same machine to getthe plaintext.\n"
     ]
    },
    {
     "name": "stderr",
     "output_type": "stream",
     "text": [
      " 12%|█▏        | 12/100 [25:38<2:02:02, 83.20s/it]"
     ]
    },
    {
     "name": "stdout",
     "output_type": "stream",
     "text": [
      "This chapter provides information about the states of primary affiliation and birth for each president of the United States. Presidential birthplaces and early childhood historic sites are listed in the table below. Martin Van Buren was the first president born an American citizen and not a British subject. The term Virginia dynasty is sometimes used to describe the fact that four of the first five U.S. presidents were from Virginia. Andrew Jackson was from South Carolina. Presidents with an asterisk (*) did not primarily reside in their respective birth states.\n"
     ]
    },
    {
     "name": "stderr",
     "output_type": "stream",
     "text": [
      " 13%|█▎        | 13/100 [28:03<2:27:41, 101.86s/it]"
     ]
    },
    {
     "name": "stdout",
     "output_type": "stream",
     "text": [
      "Citizenship of the United States is a legal status that entails Americans with specific rights, duties, protections, and benefits. It serves as a foundation of fundamental rights derived from and protected by the Constitution and laws of the U.S. The first of these two pathways to citizenship is specified in the Citizenship Clause of the Fourteenth Amendment. Birthright citizenship is naturalized by naturalization, i.e. an eligible legal immigrant applies for citizenship and is accepted. Citizens of other countries who are naturalized as United States citizens retain their previous citizenship although they must renounce allegiance to the other country. National citizenship signifies membership in the country as a whole; state citizenship, in contrast, signifies a relation between a person and a particular state and has application generally limited to domestic matters. State citizenship may affect tax decisions, eligibility for higher education, and eligibility for state political posts such asUnited States senator. Rights include freedom to reside and work. Certain non-citizens, such as lawful permanent residents, have similar rights; however, non-citizen, unlike citizens, may have the right taken away. Freedom to enter and leave the United states. Non-citizens also have the same rights. Political participation means the ability to participate fully in the civic life of the country. There is disagreement about whether popular lack of involvement in politics is helpful or harmful. However, writers such as Robert D. Kaplan in The Atlantic see benefits to non-involvement; he wrote \"the very indifference of most people allows for a calm and healthy political climate\".\n"
     ]
    },
    {
     "name": "stderr",
     "output_type": "stream",
     "text": [
      " 14%|█▍        | 14/100 [29:43<2:25:01, 101.17s/it]"
     ]
    },
    {
     "name": "stdout",
     "output_type": "stream",
     "text": [
      "Using social media as a marketing tool, Biondello explains the use of social media platforms and websites to promote a product or service. \"Social media\" can be used not only as public relations and direct marketing tools, but also as communication channels \"target very specific audiences with social media influencers and social media personalities as effective customer engagement tools\". Brands can interact with their audience directly through these sites and this type of interaction can be more personal to end-users than traditional \"outbound marketing and advertising\". The ability to influence people through word of mouth has given \"e-word of mouth\" a powerful voice and is defined as an influence network. Social media allows followers to \"retweet\" or \"repost\" comments made by others about a product being promoted, which occurs quite frequently on some social media sites. Because the information about the product is being put out there and is getting repeated, more traffic is brought to the product/company. This can be useful in the \"highly dynamic, competitive, fast-paced and global marketplace of the '2010s.\" In addition to being a means of advertising, social media can also be used as a way to get real-time information about consumer behavior and viewpoints on a company's brand or products. Many companies are now putting QR (Quick Response) codes along with products for individuals to access the company websites or online services with their smart phones. \"Retailers use QR codes to facilitate consumer interaction with brands by linking the code to brand interaction via linkages such as brand websites, promotions, product information, and any other mobile content\". Real time bidding in the mobile advertising industry is high due to its value on mobile devices. Mobile phones have altered the path-to-purchase process by allowing consumers to easily obtain pricing and product information in real time.\n"
     ]
    },
    {
     "name": "stderr",
     "output_type": "stream",
     "text": [
      " 15%|█▌        | 15/100 [31:09<2:16:58, 96.69s/it] "
     ]
    },
    {
     "name": "stdout",
     "output_type": "stream",
     "text": [
      "A credit rating is an evaluation of the credit risk of a prospective debtor and an implicit forecast of the likelihood of the debtor defaulting. Credit reporting is a subset of credit rating - it is a numeric evaluation of an individual's credit worthiness, which is done by a credit bureau or consumer credit reporting agency. Sovereign credit ratings are another type of credit rated agency. They can address a corporation's financial instruments i.e. debt security such as bonds, but also the corporations themselves. Ratings are assigned by credit rating agencies, the largest of which are Standard & Poor's, Moody's, Fitch and Fitch Ratings. Ratings in Europe have been under close scrutiny, particularly the highest ratings given to countries like Spain, Ireland and Italy, because they affect how much banks can borrow against sovereign debt they hold. Various studies have estimated the average risk and reward of bonds by rating. One study by Moody's claimed that over a 5-year time horizon bonds it gave its highest rating Aaa to had a \"cumulative default rate\" of 0.18%. The report also calculated the additional interest rate or spread of corporate bonds pay over that of \"riskless\" US Treasury bonds.\n"
     ]
    },
    {
     "name": "stderr",
     "output_type": "stream",
     "text": [
      " 16%|█▌        | 16/100 [32:54<2:18:59, 99.28s/it]"
     ]
    },
    {
     "name": "stdout",
     "output_type": "stream",
     "text": [
      "In this chapter, Mill explains how energy storage is achieved with various different technologies. Thermal energy storage can be divided into three separate categories: sensible heat, latent heat, and thermo-chemical heat storage. Each category has its own advantages and disadvantages, but the most straightforward method is \"sensible heat storage.\" It simply means that the temperature of some medium is either increased or decreased. Heat storage, both seasonal and short term, is considered an important means for cheaply balancing high shares of variable renewable electricity production and integration of electricity and heating sectors in energy systems. He discusses the different kinds of thermal energy storage and their uses. Sensible heat storage is the broadest and most common type. Molten salt technology can also be used to store solar energy at very high temperatures. Seismic heat storage devices are more specific. They can store solid or liquid metals, molten salts, or even aluminized pebbles. The idea is to use stored energy as a form of heat before turning it into electricity, rather than immediately converting it directly into electricity. There are many different types of heat storage including steam turbines, electric power plants, combined heat and power stations, and waste heat from industrial processes.\n"
     ]
    },
    {
     "name": "stderr",
     "output_type": "stream",
     "text": [
      " 17%|█▋        | 17/100 [34:36<2:18:25, 100.07s/it]"
     ]
    },
    {
     "name": "stdout",
     "output_type": "stream",
     "text": [
      "The first official international football match was played in 1872 in Glasgow between Scotland and England, although at this stage the sport was rarely played outside Great Britain. By the end of the 19th century, games that were considered the \"football world championship\" were meetings between leading English and Scottish clubs, like the 1895 game between Sunderland A.F.C. and Heart of Midlothian F.C., which Sunderland won. In the early 1900s, football had gained popularity all over the world and national football associations were being founded. The Fédération Internationale de Football Association (FIFA) was founded in Paris on 22 May 1904. As football began to increase in popularity, it was contested as an IOC-recognized Olympic sport at the 1900 and 1904 Summer Olympics, as well as at the 1906 Intercalated Games, before becoming an official FIFA-supervised Olympic competition at the 1908 Summer Olympics. Both tournaments were contested between individual clubs, each one of which represented an entire nation. The World Cup was planned to take place in 1942. Germany officially applied to host the 1942 FIFA World Cup. During World War II, FIFA struggled to keep itself afloat and it had no financial or personnel resources with which to plan a peacetime tournament for when hostilities ended. When the war ended in 1945, it became clear that FIFA would have no hope in a single year of planning and scheduling a 1946 World Cup.\" The only major international tournament in 1946 was the 1946 South American Championship. Post-war years onwards, the 1950 World Cup included British participants. The 1952 Summer Olympics did not include any intercontinental competitions because of political reasons, while the 1954 and 1960 editions of the World Cup featured no ties. The 1962 edition of the Women's World Cup saw the United States win their first gold medal.\n"
     ]
    },
    {
     "name": "stderr",
     "output_type": "stream",
     "text": [
      " 18%|█▊        | 18/100 [37:50<2:55:08, 128.15s/it]"
     ]
    },
    {
     "name": "stdout",
     "output_type": "stream",
     "text": [
      "In this chapter, Hobbes explores the meaning of Twenty20, a shortened version of cricket played in limited overs. In a Twenty20 game, the two teams have only one innings each, which is restricted to a maximum of twenty overs. Along with first-class and List A cricket, Twenty20 is the third most popular form of cricket recognized by the International Cricket Council as being at the highest international or domestic level. The game is completed in about two and a half hours, with each innings lasting around 70 minutes and an official 10-minute break between the innings. It was introduced to create a fast-paced game that would be attractive to spectators at the ground and viewers on television. Twenty20 leagues are also played across the world. \"History == Introduction The Benson & Hedges Cup ended in 2002, and the ECB needed another one-day competition to fill its place. Cricket authorities were looking to boost the game's popularity with the younger generation in response to dwindling crowds and reduced sponsorship. Cricket Board member Stuart Robertson proposed a 20-over per-innings game, invented by New Zealand cricketer Martin Crowe, to county chairmen in 2001 and they voted 11–7 in favour of adopting the new format. The first official Twenty20 matches were played on 13 June 2003 between the English counties in the Twenty20 Cup. The tournament was a success, with the Surrey Lions defeating the Warwickshire Bears by nine wickets in the final. Spread worldwide The spread of cricket has been great. Many leagues leagues leagues have been started, including the Big Bash League, the Women's Big Bash league, the Kia Super League and the Mzansi Super Bowl in South Africa. Most international tours have at least one Twenty20 match and all Test-playing nations have their own domestic cup competitions .\n"
     ]
    },
    {
     "name": "stderr",
     "output_type": "stream",
     "text": [
      " 19%|█▉        | 19/100 [40:53<3:15:33, 144.86s/it]"
     ]
    },
    {
     "name": "stdout",
     "output_type": "stream",
     "text": [
      "In this chapter, the author explains the concept of potential energy, which is the energy held by an object due to its position relative to other objects, stresses within itself, electric charge, or other factors. The unit for energy in the International System of Units (SI) is the joule. Potential energy is associated with forces that act on an object in such a way that the total work done by these forces depends only on the initial and final positions of the object in space. In particular, the relationship between work and potential energy is presented in more detail. Work consists of the energy gained from performing certain kinds of work, such as adjusting a spring to alter its size or velocity, correcting a spring that has moved too quickly, etc. Likewise, potential energy can be obtained from any number of different types of force. For example, the work of stretching a spring or lifting a mass is performed by an external force that works against the force field of the potential. If the external force is removed, then the force acts on the potential to perform the work as it moves the spring back to its initial position, reducing the stretch of the spring or causing a fall. The term \"potential energy\" was introduced by the nineteenth-century Scottish engineer and physicist William Rankine, although it has links to the ancient Greek philosopher Aristotelian notions of potentiality. The fundamental idea of possible energy is to hold onto the energy produced by a given force. It arises as a difference between the energy of an object at a given position and its energy at a reference position. Most commonly used terms are elasticity, gravitation, suction, electric current, and chemical potential energy. Another important concept is work, which involves the energy released when a force is applied to an object. A function called the potential energy of a linear spring is also introduced. Finally, work and energy are related to each other using the gradient theorem to obtain a scalar integral. The line integral that defines work along a curve C takes a special form if the force F is related to a scalars field U′(x) so thatWork along the curve is given bywhich can be evaluated using the Gradient Method to obtain the scalar function associated with potential Energy. The following generalizations apply to several specific forces. The work of gravity and spring forces can be computed using the principle of estimation using the gradients. The next section deals with the relations between various possible energy and forces. First, work is derived from their scalars. Then potential energy comes from the energy gain from performing some kind of work. Next, work of a stiff object is calculated using the proportional value of the kinetic energy of random motions of particles and could be further extended using the momentum of the inertial frame. After this section, the reader will notice that the equations of motion are not concerned with deterministic dynamical systems; rather, they deal with stochastic phenomena involving large numbers of moving objects at the same time.\n"
     ]
    },
    {
     "name": "stderr",
     "output_type": "stream",
     "text": [
      " 20%|██        | 20/100 [42:41<2:58:19, 133.74s/it]"
     ]
    },
    {
     "name": "stdout",
     "output_type": "stream",
     "text": [
      "The United States of America, commonly known as the United States, or America, is a country primarily located in North America. It consists of 50 states, a federal district, five major unincorporated territories, and nine Minor Outlying Islands. It includes 326 Indian reservations. The U.S. is the third largest country by land area, and by total area. It shares land borders with Canada to its north, with Mexico to its south, and has maritime borders with the Bahamas, Cuba, Russia, and other nations. The most populous city and principal financial center is New York City. Native Americans have inhabited the Americas for thousands of years. British colonization led to the establishment of the Thirteen Colonies in what is now the Eastern United States. They clashed with the British Crown over taxation and political representation, which led to American Revolution and the ensuing Revolutionary War. The United States declared independence on July 4, 1776. It is the first nation-state founded on Enlightenment principles of unalienable natural rights, consent of the governed, and republicanism. The country began expanding across North America during the period of 1848-1861. During the American Civil War, slavery was abolished nationally. After winning the French and Indian War, Britain began to assert greater control over local colonial affairs, creating colonial political resistance; one of the primary colonial grievances was that Britain taxed the colonies without giving them representation in government. The British attempt to disarm the colonists resulted in the 1775 Battles of Lexington and Concord, igniting the American Revolutionary War. The founding fathers of the Federalist Party wrote the Declaration of Independence. The political values of the American Revolution included liberty, individualism, and limited government. Culturally, the country was primarily Anglophonic, with other prominent regional influences.\n"
     ]
    },
    {
     "name": "stderr",
     "output_type": "stream",
     "text": [
      " 21%|██        | 21/100 [43:34<2:24:12, 109.53s/it]"
     ]
    },
    {
     "name": "stdout",
     "output_type": "stream",
     "text": [
      "George Washington was born on February 22, 1732 in Westmoreland County, Virginia and was the first of six children of Augustine and Mary Ball Washington. His father was a justice of the peace and a prominent public figure. George Washington served as the commander of the Continental Army during the American Revolutionary War and also served as president of the Constitutional Convention that drafted the Constitution of the United States and established the American federal government. Washington is considered by some to be the \"Father of his Country\". He owned slaves and was controversial over time because of his ownership of slaves and his relationship with slavery. However, he is regarded as one of the greatest U.S. presidents. According to his own records, George Washington was very interested in mathematics, trigonometry, and land surveying. He even wrote a set of rules for social interaction titled Rules of Civility and Decent Behaviour.\n"
     ]
    },
    {
     "name": "stderr",
     "output_type": "stream",
     "text": [
      " 22%|██▏       | 22/100 [44:45<2:07:17, 97.92s/it] "
     ]
    },
    {
     "name": "stdout",
     "output_type": "stream",
     "text": [
      "Crickets are small to medium-sized insects, related to bush crickets and grasshoppers. They are nocturnal and spend the day hidden in cracks, under bark, inside curling leaves, under stones or fallen logs, in leaf litter or in cracks in the ground. Some species have camouflage, fleeing and aggression. Chirping is the sound made by cricket chirping. Various types of cricket songs are used by different species. An aggressive song is triggered by chemoreceptors on the antennae that detect the presence of another male cricket. Flight Some species, such as the ground crickets, are wingless; others have small fore wings and no hind wings (Copholandrevus) others lack hind wings and have shortened fore wings in females only, while others are macropterous, with the hind wings longer than the fore wings. In general, all crickets fly and take off at different rates depending on the temperature. Dolbear's law governs the variation in the rate of chirps produced by crickets.\n"
     ]
    },
    {
     "name": "stderr",
     "output_type": "stream",
     "text": [
      " 23%|██▎       | 23/100 [47:44<2:36:58, 122.31s/it]"
     ]
    },
    {
     "name": "stdout",
     "output_type": "stream",
     "text": [
      "The Laws of the Game are the codified rules of association football. The laws mention the number of players a team should have, the game length, the size of the field and ball, the type and nature of fouls, the offside law, and many other laws that define the sport. During a match, it is the task of the referee to interpret and enforce these laws. The extant Laws date back to 1863, when the newly formed Football Association (FA) formally adopted by its first secretary Ebenezer Cobb Morley. Over time, the Laws have been amended, and since 1886 they have been maintained by the International Football Association Board (IFAB). The Laws are written in English Common Law style and are meant to be guidelines and goals of principle that are then clarified through practice, tradition, and enforcement by the referees. Presentation and interpretation In 1997, a major revision dropped whole paragraphs and clarified many sections to simplify and strengthen the principles. In the 2016/2017 revision of the Laws, the material from this section was folded into the Laws themselves. Referees are expected to use their judgment and common sense in applying the laws; this is colloquially known as Law 18. Jurisdiction and change management The laws are administered by FIFA, who meet at least once a year to debate and decide any changes to the text as it exists at that time. The Laws govern all international matches and national matches of member organisations. A minimum of six of the eight-seat IFAB board needs to vote to accept a rule change. Thus, no change can be made without FIFA's approval. History Section: The nineteenth century saw several attempts to codify rules among the various types of football in the mid-19th century. Various sets of rules were published by football clubs, varying widely on such questions as the extent to which the ball could be handled, the treatment of offside, the amount of physical contact allowed with opponents, and the height at which a goal could be scored. In 1863, some football clubs followed the example of Rugby School by allowing the ball to be carried in the hands, with players allowed to hack and kick at an opponent who was carrying the ball. Other clubs forbade both practices. The FA meeting of 17 November 1863 discussed this question, with the \"hacking\" clubs predominating. A further meeting was scheduled in order to finalize the laws. At this crucial 24 November meeting, however, the delegates' attention to a recently published set of football laws from Cambridge University that banned carrying and hacking. Discussion of the Cambridge rules, and suggestions for possible communication with Cambridge on the subject, served to delay the final adoption of the laws to a further meeting on 1 December. The final version of the FA's laws was formally adopted and published in December 1863. Permitted variations All high-level association football is played according to the same laws. However, there are some variation for youth, veterans, disability and grassroots football, such as shortening the length of the game and the use of temporary dismissals.\n"
     ]
    },
    {
     "name": "stderr",
     "output_type": "stream",
     "text": [
      " 24%|██▍       | 24/100 [49:13<2:21:59, 112.10s/it]"
     ]
    },
    {
     "name": "stdout",
     "output_type": "stream",
     "text": [
      "The narrator explains the term \"visual arts\" to begin with an overview of painting, drawing, printmaking, sculpture, and other forms of art that include fine art as well as applied or decorative arts and crafts. Before the Arts and Crafts Movement artists tended to consider the fine arts to be separate from the crafts, maintaining that a craftsperson could not be considered a practitioner of the arts. Nowadays most people who want to pursue a career in the arts train in art schools at tertiary levels. Education and training in the visual arts has generally been through variations of apprentice and workshop systems. In Europe, the Renaissance movement to increase the prestige of the artist led to the academy system for training artists. In East Asia, calligraphy and Chinese painting were among the six arts of gentlemen in the Zhou Dynasty, and calligraphY and Chinese Painting were numbered among the four arts of scholar-officials in imperial China. Drawing is a drawing medium used for creating pictures using a wide variety of tools and techniques. Impressionism began in France in the 19th century with works by Claude Monet, Pierre-Auguste Renoir, Paul Cézanne, and others. Post-impressionism (or impressionism) emerged in France during the same period and was more experimental and free-flowing than realism. The greatest painters of this period were Da Vinci, Michelangelo, Raphael, and Botticelli.\n"
     ]
    },
    {
     "name": "stderr",
     "output_type": "stream",
     "text": [
      " 25%|██▌       | 25/100 [51:35<2:31:36, 121.28s/it]"
     ]
    },
    {
     "name": "stdout",
     "output_type": "stream",
     "text": [
      "In this chapter, Wollstonecraft begins by defining a social network as \"a social structure made up of a set of social actors (such as individuals or organizations)... sets of dyadic ties, and other social interactions between actors.\" The study of these structures uses social network analysis to identify local and global patterns, locate influential entities, and examine network dynamics. Social networks and the analysis of them is an inherently interdisciplinary academic field which emerged from social psychology, sociology, statistics, and graph theory. In general, social networks are self-organizing, emergent, complex, and multi-level. They can be analyzed in terms of whole social entities as well as different types of theories explaining the patterns observed in these structures. The concept of the social network is introduced in the first half of the twentieth century. There are three levels into which networks may fall: micro-level, meso-level, large-scale, and macro-level.Micro-level concerns the relations between individuals, groups, organizations, or even entire societies. Macro-level focuses on the relationships between small groups within a particular social context. Large-scale studies focus on the connections between multiple individuals or groups. Segmental level refers to the relationship between individuals across a single social group or organization. Mid-level views cover issues such as size, strength, density, centrality, prestige, reliability, isolation, and so on. Small-scale approaches focus on various aspects of a person's interaction with another person or group. Geographical scale refers to those who live in a specific to a town or city. Nomenclature also holds true for nations, countries, states, individual sovereignties, etc. Overall, there are many different levels that have been studied in the history of social science.\n"
     ]
    },
    {
     "name": "stderr",
     "output_type": "stream",
     "text": [
      " 26%|██▌       | 26/100 [53:26<2:25:32, 118.01s/it]"
     ]
    },
    {
     "name": "stdout",
     "output_type": "stream",
     "text": [
      "In this chapter, Carpenter explains the process of making a motion picture, or \"filmmaking,\" as it is more than just writing and producing a short film. He discusses the various stages of the process from conception through production to distribution and exhibition. In the last chapter, he focused on the pre-production stage, but throughout the book there are many other stages that can be considered. Filmmaking takes place in many different economic, social, and political contexts around the world, and uses a variety of technologies and cinematic techniques. The most common form of filmmaking is \"audio-visual story commercially for distribution or broadcast.\" A motion picture is produced in five major stages: development: ideas for the project are created; rights to the film are purchased; financing is sought and obtained; Pre-production: arrangements and preparations are made for the shoot; prim photography and set construction are made; post-production : the images, sound, and visual effects are recorded during the film shoot; distribution: The completed film is distributed, marketed, and screened in cinemas or released to home video to be viewed. In addition to these five stages, Carpenter describes the \"proper aspects of filmmaking finance\" as the science of the money management of all phases involved in filmmaking. This includes, among other things, the estimation of the cost of capital, the negotiation of deals with producers and screenwriters, the planning of the set pieces, the selection of shooting locations, the use of insurance for accidents, the design of sets, and so on a limited scale. As well known studio executives hold retreats where they deliberate on the topics they wish to explore each year. They may also purchase the rights to articles, bestselling novels, plays, remaking older films, stories with some basis in real life, video games, fairy tales, comic books, and graphic novels. These decisions are informed by their prior year's blockbusters and whether they want to make a sequel or acquire a completed and independently financed and produced film.\n"
     ]
    },
    {
     "name": "stderr",
     "output_type": "stream",
     "text": [
      " 27%|██▋       | 27/100 [55:54<2:34:27, 126.96s/it]"
     ]
    },
    {
     "name": "stdout",
     "output_type": "stream",
     "text": [
      "Cars 3 is a 2017 American animated sports comedy-adventure film produced by Pixar Animation Studios for Walt Disney Pictures. It is the sequel to Cars 2 released in 2011 and the third installment of the Cars film series. It features the returning voices of Owen Wilson, Larry the Cable Guy, Bonnie Hunt, Tony Shalhoub, Guido Quaroni, Cheech Marin, Jenifer Lewis, Paul Dooley, Lloyd Sherr, Michael Wallis, Katherine Helmond and John Ratzenberger along with many other well-known actors such as Cristela Alonzo, Chris Cooper, Armie Hammer, Nathan Fillion, Kerry Washington and Lea DeLaria. The plot returns five years later to the World Grand Prix. Lightning McQueen, now a seven-time Piston Cup champion, finds himself overshadowed by Jackson Storm, a rookie who uses the latest racing technology to improve his performance. As Storm's success progresses throughout the season and attracts other rookies, most of the veterans either retire or are dismissed by their sponsors. Four months later, Lightning decides to continue racing and calls his sponsors, who reveal they have sold Rust-eze to a business car named Sterling. Sterling assigns Lightning to train under Cruz Ramirez, where he struggles to adapt to new training methods. At the Florida 500, she overtakes him and he suffers a flashback to his crash from five years ago. Back at the Radiator Springs, he begins to gradually advance in the ranks using her as his sparring partner. When she wins the race, Sterling offers her a role on his team but she accepts only on condition that Dinoco takes a counteroffer from Tex Dinoco. Thus, Lightning has to decide if he will continue racing or retire. He trains Cruz first for the rest of the regular season. Voice cast Owen Wilson is Owen Wilson as Lightning's trainer/coach. Cristela alonzo is Cruz's trainer. Chris Cooper is Smokey, Doc Hudson's former mechanic and crew chief. Nathan Frillion is Sterling, a rich businessman and the new Rust-Eze team owner. Larry the cable guy is Mater, a jolly tow truck and Lightning's best friend. Andra Day is Sweet Tea, a forklift and Louise Nash's former pitty. Bob Costas Bob Cutlass, a race commentator. Many drivers and other racing-related personalities from NASCAR make cameo appearances. Sebastian Vettel and Fernando Alonso voice the foreign language versions of Hamilton.\n"
     ]
    },
    {
     "name": "stderr",
     "output_type": "stream",
     "text": [
      " 28%|██▊       | 28/100 [56:59<2:10:15, 108.55s/it]"
     ]
    },
    {
     "name": "stdout",
     "output_type": "stream",
     "text": [
      "Grover's algorithm, also known as the \"quadracheal search algorithm,\" is a type of search that finds the most probable solution to a problem by examining only the inputs to a black box function. It was devised by Lov Grover in 1996. It can be used for both classical and non-classical problems. For example, one could use it to find the correct answer to a riddle in a text book.\n"
     ]
    },
    {
     "name": "stderr",
     "output_type": "stream",
     "text": [
      " 29%|██▉       | 29/100 [1:00:09<2:37:26, 133.05s/it]"
     ]
    },
    {
     "name": "stdout",
     "output_type": "stream",
     "text": [
      "The history of women's cricket can be traced back to a report in The Reading Mercury on 26 July 1745 and a match between the villages of Bramley and Hambledon near Guildford in Surrey. The girls bowled, batted, ran and caught as well as most men could do in that game. The spread to other countries follows. Women's cricket in England dates back to the early 1900s and early matches were not necessarily genteel affairs. A match on 13 July 1747 at the Artillery Ground between a team from Charlton and another from Westdean and Chilgrove in Sussex spilled over into the following day after it was interrupted by crowd trouble. Early matches were played between villages in Sussex, Hampshire and Surrey. Some were played in large crowds with heavy betting. The first county match was held in 1811 between Surrey and Hampshire at Ball's Pond in Middlesex. In 1890, a team known as the Original English Lady Cricketers toured England, playing in exhibition matches to large crowds. The team was highly successful until its manager absconded with the profits, forcing the ladies to disband. James Lillywhite's Cricketer's Annual for 1890 has a photograph of the team and a short article on women's cricketers. The Women's Cricket Association was founded in 1926. The England team played against The Rest at Leicester in 1933 and undertook the first international tour to Australia in 1934/35, playing the first Women's Test match between England and Australia in December 1934. England went on to win two tests and drawing one. Women have beaten male teams to several milestones in one-day cricket. They have played over three days and have won many matches. Women also have scored more than 1,000 Test runs. Many women have achieved great success in the game. Betty Wilson became the first player, male or female, to record a century and ten wickets in a Test match when she played against England at the MCG in 1958. She also made 252 not out on a separate occasion in a 477 run partnership with Dawn Rae, again for the Olympic grade final in 1967.. Feminist attitudes towards womens cricket in the modern era have undergone constant evolution. Lily Poulett-Harris, who captained the Oyster Cove Cove team, is considered the \"founding mother\" of WCC in Australia. Lily also captains the Tasmania Tasmanian team in the league she created in 1894. Other leagues and competitions are organized by vWomen's Cricket Associations such as the Victoria Women's Club Association and the Australian Women's CACA. The current competition is run by the Women's National Cricket League. Women compete against Australia, England, New Zealand, South Africa, the West Indies, Denmark and the Netherlands.\n"
     ]
    },
    {
     "name": "stderr",
     "output_type": "stream",
     "text": [
      " 30%|███       | 30/100 [1:01:12<2:10:30, 111.86s/it]"
     ]
    },
    {
     "name": "stdout",
     "output_type": "stream",
     "text": [
      "In this chapter, Wollstonecraft explains the concept of hashing, a hashing function that is used to map values into fixed-size values. It can be used to store, retrieve, or search for items in a hashtable. A hash function is similar to many other functions such as checksums, fingerprinting, randomization, and ciphers, but it differs from these other functions in that it takes into account data integrity. For example, a hash function may be able to calculate the expected values of a variable-length value over a given range. It also enables retrieval of large amounts of data at a very fast speed. It all depends on statistical properties of key and function interaction: worst-case scenarios are intolerably bad but rare, and average-case behaviour can be nearly optimal.\n"
     ]
    },
    {
     "name": "stderr",
     "output_type": "stream",
     "text": [
      " 31%|███       | 31/100 [1:05:15<2:53:48, 151.14s/it]"
     ]
    },
    {
     "name": "stdout",
     "output_type": "stream",
     "text": [
      "Cars is an animated film series and Disney media franchise set in a world populated by anthropomorphic vehicles. The franchise began with the 2006 film, Cars, produced by Pixar and released by Walt Disney Pictures. The films went on to earn over $1.4 billion in box office revenue worldwide. The first two films were directed by John Lasseter, then-chief creative officer of Pixar, Walt Disney Animation Studios, and Disneytoon Studios, while the third was directed by Brian Fee, a storyboard artist on the previous installments. All three films have accrued over $10 billion in merchandising sales within its first five years. The story is about rookie race car Lightning McQueen who gets lost on the way to California for a tiebreaker race at the Piston Cup. He ends up in a little town called Radiator Springs on Route 66 that had been bypassed and forgotten when Interstate 40 was built. He meets his best friend Mater, Sally, and Clifford. He also meets Doc Hudson, who used to be a famous racecar called the Hudson Hornet until a career-ending crash in 1954. After Lightning fixes the road, Doc Hudson no longer wants him in town, so he secretly alerts the media about Lightning's presence. Owen Wilson states at a Cars 3 press event that possible stories have been discussed for a Cars 4, though he would personally like for a fourth Cars movie to delve into aspects of the thriller genre akin to Cars 2. Lea Delaria expressed interest in reprising her role as Miss Fritter in the short movie Miss Foster's Racing Skool with the Cars 3 DVD and Blu-ray release. Car series  = Animated short films Cars 3 is the eighteenth Pixar film. On December 10, 2020, Pixar announces that an animated series starring Lightning Mcqueen and Mater traveling the country will be in production. It will be titled Cars on the Road. It was released on Disney+ on September 8, 2022 as part of Disney+ Day. == Short films ==. Mater and the Ghostlight (2006). Carpenter describes the short film as a \"2006 Pixar computer-animated sh\n"
     ]
    },
    {
     "name": "stderr",
     "output_type": "stream",
     "text": [
      " 32%|███▏      | 32/100 [1:06:04<2:16:31, 120.47s/it]"
     ]
    },
    {
     "name": "stdout",
     "output_type": "stream",
     "text": [
      "Chemical energy is the energy released when chemical substances undergo a chemical reaction and transform into other substances. It can also be defined in terms of the difference between the energy content of the products and the reactants. For example, batteries, food, and gasoline have very high chemical energy due to their relatively weak chemical bonds. The amount of energy released depends on the \"temperature\" of the product, which is determined by the \"electron-pair bonds\" between the reacting agent and the final product. In addition, there is a great deal of potential energy in the form of non-monetary resources that can be converted to chemical energy through electrochemical reactions.\n"
     ]
    },
    {
     "name": "stderr",
     "output_type": "stream",
     "text": [
      " 33%|███▎      | 33/100 [1:06:37<1:45:31, 94.51s/it] "
     ]
    },
    {
     "name": "stdout",
     "output_type": "stream",
     "text": [
      "The president of the United States is indirectly elected to a four-year term through the electoral college. He leads the executive branch of the federal government and is the commander-in-chief of the armed forces. Since the office was established in 1789, 45 men have served in 46 presidencies. Four presidents have died natural deaths, four have been assassinated, one has been impeached and removed from office, and one has resigned. The current president is Joe Biden. Throughout most of its history, American politics has been dominated by political parties. Washington remained unaffiliated with any political faction or party throughout his eight-year presidency. He was, and remains, the only U.S. president never affiliated with a political party.\n"
     ]
    },
    {
     "name": "stderr",
     "output_type": "stream",
     "text": [
      " 34%|███▍      | 34/100 [1:10:10<2:23:04, 130.06s/it]"
     ]
    },
    {
     "name": "stdout",
     "output_type": "stream",
     "text": [
      "A dividend is a distribution of profits by a corporation to its shareholders. Dividends can provide at least temporarily stable income and raise morale among shareholders, but are not guaranteed to continue. In the common law jurisdictions, courts have typically refused to intervene in companies' dividend policies, giving directors wide discretion as to the declaration or payment of dividends. The principle of non-interference was established in the Canadian case of Burland v Earle (1902), the British case of Bond v Barrow Haematite Steel Co (1912) and the Australian case of Miles v Sydney Meat-Preserving Co Ltd (2013). However, in Sumiseki Materials Co Ltd v Wambo Coal Pty Ltd. the Supreme Court of New South Wales broke with this precedent and recognised a shareholder's \" contractual right to a dividend.\" Cash dividends are the most common form of payment. Other forms of payment include: indirect dividend payments made before a company's Annual General Meeting (AGM) and final financial statements. Direct dividend payments paid may be cash, bank transfer, or, if the corporation has a dividend reinvestment plan, can be paid by the issue of further shares or by share repurchase. In some cases, the distribution may be of assets. The dividend received by a shareholder is income of the shareholder and may be subject to income tax. The tax treatment of this income varies considerably between jurisdictions. Public companies usually pay dividends on a fixed schedule but may cancel a scheduled dividend, or declare an unscheduled dividend at any time, sometimes called a special dividend to distinguish it from the regular dividends. Cooperatives, on the other hand, allocate dividends according to members' activity, so their dividends are often considered to be a pre-tax expense. The word dividend comes from the Latin word dividendum, \"thing to be divided.\" In the financial history of the world, the Dutch East India Company was the first recorded public company ever to pay regular dividends,\" the narrator says. The VOC paid annual dividends worth around 18 percent of the value of the shares for almost 200 years of existence (1602–1800). In common law countries, taxes are different when it comes to dividend payments. Most often, the payout ratio is calculated based on dividends per share and earnings per share. A payout ratio greater than 100 means that the company is paying out more in dividends for the year than it earned. Various classes of stocks have different priorities when it come to dividend pays. Stock or scrip dividends are those paid out in the form of additional shares of the issuing corporation, or another corporation. They are usually paid out quarterly, semi-annually, quarterly and monthly.Dividend frequency refers to the number of dividend payments within a single business year. Any amount not distributed is taken to be re-invested in the business; retained earnings). The current year profit as well as the retained earnings of previous years are available for distribution; a corporation is usually prohibited from paying a dividend out of its capital. Distribution to shareholders may be in cash, usually by bank transfer/dividend reinvestment scheme. In addition, many investors prefer direct dividend payments because they do not believe in the concept of taxation.\n"
     ]
    },
    {
     "name": "stderr",
     "output_type": "stream",
     "text": [
      " 35%|███▌      | 35/100 [1:13:13<2:37:52, 145.73s/it]"
     ]
    },
    {
     "name": "stdout",
     "output_type": "stream",
     "text": [
      "In this chapter, Deryn Sharp explains how stocks, also known as capital stock, are traded on the stock exchange. She discusses the relative value of different types of shares of a company and their relationship to the firm. Stock options are another type of stock in which an employee has the right to purchase ownership at a later date at a predetermined price; these options can provide workers with a windfall if the stock is sold at a future time at a price that is higher than the agreed-upon price.. Introduction to Stock Derivatives  Stock derivatives are financial instruments that are based on the price of an equity, such as bonds or common stock. They can be bought and sold on exchanges either privately or on stock exchanges. In the United Kingdom, Republic of Ireland, South Africa and Australia, stock can also refer to all kinds of marketable securities. The most popular method of valuing stock options is the BlackScholes model. Comparison of history == History == During the Roman Republic, the state contracted out many of its services to private companies. These government contractors were called publicANI, or societas publicanorum as individual companies. They issued shares called partes (for large cooperatives) and particulae which were small shares that acted like today's over-the-counter shares. Convertible preferred stock is preferred stock that includes an option for the holder to convert the preferred shares into common shares at any time after a predetermined date. Shares of such preferred preferred shares are called \"convertible preferred shares\" in the UK. Preferred stock differs from common stock in that it typically does not carry voting rights but does receive a certain level of dividend payments before any dividends can be passed on to other shareholders. In addition, preferred stock usually comes with a ticker labeled \"BRK\". Class A shares are those that have certain exclusive privileges that do not accrue to the class of the underlying company, i.e., Berkshire Hathaway Inc.. Under SEC Rule 144: Selling Restricted and Control Securities, restricted and control securities are acquired in an unregistered form. Investors may only be allowed to liquidate their securities after meeting the specific conditions set forth by SECRule 144. However, the SEC allows public re-sale of restricted securities if a number of different conditions are met. Stock derivatives include both fixed and variable futures on stocks. Both public and private traded companies have shareholders. Definition Of Stock derivative A stock derivative is any financial instrument for which the underlying asset is the priceOf an equity. The main types of derivatives on stocks include futures and options. Specifically, call options granted to employees grant the right--not obligation to buy stock in the future at a fixed price and put options grants the right—to sell stock in some fixed price. The value of a stock option changes in reaction to the underlying stock of which it is a derivative. The Black Sholes model is the most commonly used method of determining the value of stock options according to the Black Scholes distribution of options. Historical Context This chapter covers historical examples of preferred and convertible preferred stock as well as the earliest recognized joint-stock companies.\n"
     ]
    },
    {
     "name": "stderr",
     "output_type": "stream",
     "text": [
      " 36%|███▌      | 36/100 [1:13:57<2:03:03, 115.36s/it]"
     ]
    },
    {
     "name": "stdout",
     "output_type": "stream",
     "text": [
      "Constant Power Inc. is one of the first companies to offer energy storage as a service, a unique combination of an advanced battery storage system, an energy management system, and a service contract. The term \"Energy Storage-as-Service\" was coined by Scott Foster, former head of the United Nations Economic Commission for Europe, in order to refer to a type of public utility that would provide reliable power without ever having to purchase it. In this chapter, Constant Power describes how this service model differs from conventional power purchase contracts in that it allows a facility to benefit from the advantages of energy storage without ever purchasing the entire system. It also enables the facility to participate in incentive programs designed to reduce energy demand on the electricity grid.\n"
     ]
    },
    {
     "name": "stderr",
     "output_type": "stream",
     "text": [
      " 37%|███▋      | 37/100 [1:14:43<1:39:18, 94.57s/it] "
     ]
    },
    {
     "name": "stdout",
     "output_type": "stream",
     "text": [
      "In this chapter, Watson explains the concept of \"post-quantum cryptography,\" which is the development of cryptographic algorithms that are \"thought to be secure against a cryptanalytic attack by a quantum computer\". In particular, he discusses six different approaches to secure Lattice-based cryptography, ranging from learning with errors to ring-learning with errors. He also discusses the various schemes for security reductions, such as multi-factor authentication and hash functions. Finally, he covers some of the most commonly used techniques for detecting and defeating attacks by quantum computers.\n"
     ]
    },
    {
     "name": "stderr",
     "output_type": "stream",
     "text": [
      " 38%|███▊      | 38/100 [1:17:45<2:04:48, 120.79s/it]"
     ]
    },
    {
     "name": "stdout",
     "output_type": "stream",
     "text": [
      "Cricket is a \"bat-and-ball game played between two teams of eleven players on a field at the center of which is a 22-yard (20-metre) pitch. The batting side scores runs by striking the ball bowled at one of the wickets with the bat and then running between the lines, while the bowling and fielding side tries to prevent this. Means of dismissal include being bowled, when the ball hits the stumps and dislodges the bails, and by the fielding side either catching the ball after it is hit by the bat but before it hits the ground. The game's governing body is the International Cricket Council (ICC) which has over 100 members. The rules of the Laws of Cricket, are maintained by the Marylebone Cricket Club (MCC) in London. The sport is followed in South Asia, Australia, New Zealand, the United Kingdom, Southern Africa and the West Indies. The most successful side playing international cricket is Australia, which has won eight One Day International trophies, including six World Cups, more than any other country and has been the top-rated Test side more than every other country. History Section  Introduction  Definition  Context  Teases us about the history of the game. It is believed that cricket originated as a children's game in the south-eastern counties of England sometime during the medieval period. Although there are claims for prior dates, the earliest definite reference to cricket being played comes from evidence given at a court in 1597. In 1611, the year Cotgrave's dictionary was published, ecclesiastical court records at Sidlesham in Sussex state that two parishioners, Bartholomew Wyatt and Richard Latter, failed to attend church on Easter Sunday because they were playing cricket. Cricket remained a low key local pursuit for much of the 17th century. It spread throughout England and became a major sport by the end of the century. The problem was nearly always the issue of Sunday play as the Puritans considered cricket to be \"profane\" if played on the Sabbath, especially if large crowds or gambling were involved. Gambling on sport became a problem significant enough for Parliament to pass the 1664 Gambling Act, limiting stakes to a colossal sum exceeding the annual income of 99% of the population. The patrons, and other players from the social class known as the \"working class,\" including nobles, began to establish a clear distinction from the professionals who constituted the class of the professionals. The gentry began to hold separate dining facilities and used separate coaching and match making facilities. In 1962, the University of Cambridge took up cricket as a school sport alongside their traditional athletic pursuits. English cricket in the 18th and 19th centuries. Its success was underwritten by the twin necessities  meant that the amateur would theoretically claim expenses for playing while the professional counterpart played under contract and was paid a wage or match fee; in practice, many amateurs claimed more than actual expenditure and the derisive term \"shamateur\" was coined to describe the practice.\n"
     ]
    },
    {
     "name": "stderr",
     "output_type": "stream",
     "text": [
      " 39%|███▉      | 39/100 [1:22:42<2:56:29, 173.60s/it]"
     ]
    },
    {
     "name": "stdout",
     "output_type": "stream",
     "text": [
      "In this chapter, Wollstonecraft explores the concept of a virtual community and what it means to be part of one. A virtual community is an entity that has no physical boundaries between its members and non-members, just as real life communities do. Howard Rheingold first discussed virtual communities in his book, The Virtual Community, published in 1993. What he meant by \"the Virtual Community\" was a social work of individuals who connect through specific social media technologies to pursue mutual interests or goals. Some of the most pervasive virtual communities are online communities operating under social networking services. In essence, these communities provide support, information, friendship, and acceptance between strangers. They also encourage interaction, sometimes focusing around a particular interest or just communicate. Members of these communities may interact over a shared passion through various means: message boards, chat rooms, social networking World Wide Web sites, or virtual worlds. Members usually become attached to the community world, logging in and out on sites all day every day, which can certainly become an addiction. Introduction The traditional definition of a community is of a geographically circumscribed entity. Virtual communities are not communities under the original definition. However, if one considers communities to simply possess boundaries of some sort between their members and those who do not join them, then avirtual community is certainly a community. Similar to true life communities, virtual communities resemble real life ones in the sense that they both provide support, information, friend and acceptance among strangers. Being in a virtual space you may be expected to feel a sense of belonging and a mutual attachment among the members that are in your space. Most important is the ability to communicate across multiple media platforms or networks. Now that virtual communities exists, this had leveraged out the things we once did prior to virtual communities, such as postal services, fax machines, and even speaking on the telephone. Benedict Anderson's Imagined Communities in 1983, described how different technologies contribute to the development of national and regional consciousness among early nation states. Some authors that built their theories on Anderson's imaginary communities have been critical of the concept, claiming that all communities are based on communication and that virtual/real dichotomy is disintegrating. Purpose Purpose overviews the purpose of virtual communities for a variety of social and professional groups; interaction between community members vary from personal to purely formal. Social codes are established and reinforced by the regular repetition of behavioral patterns. Efficient communication requires a common set of signs in the minds of those seeking to communicate. Dialogue and social interactions, support information design, navigation support, and accessibility are integral components specific to online communities. As technology evolve and mature, they tend to be used by an increasingly diverse set of users. This kind of increasing complexity and evolution of technology doesn't necessarily mean that the technologies are becoming easier to use. Usability testing in virtual communities can ensure that communicating effectively through social and semiotic codes and maintenance of social realities and identities.User experience testing to determine social codes. User experience testing is the ultimate goal for the program or software used by the internet community, because user experience will determine the software's success. Three main characteristics are needed: a user who is engaged, a user with a product or interface, and defining the users’ experience in ways that are observable or observable. Indicative tools include Usene8t, MUDs (Multi-User Dungeon) and their derivatives MUSHes and MOOs, Internet Relay Chat (IRC), chat rooms and electronic mailing lists. Useningold also points out the potential benefits for personal psychological well-being, as well as for society at large, of belonging to aVirtual community. At the same time, it showed that job engagement positively influences virtual communities of practice engagement.\n"
     ]
    },
    {
     "name": "stderr",
     "output_type": "stream",
     "text": [
      " 40%|████      | 40/100 [1:25:08<2:45:12, 165.20s/it]"
     ]
    },
    {
     "name": "stdout",
     "output_type": "stream",
     "text": [
      "A credit score is a numerical expression based on a level analysis of a person's credit files, to represent the creditworthiness of an individual. Credit scores are used by lenders and other organizations to evaluate the risk posed by lending money to consumers and to mitigate losses due to bad debt. By country Australia uses credit scoring as the primary method of assessing creditworthiness. In Austria, it is done as a black list. Consumers who did not pay bills end up on the blacklists that are held by different credit bureaus. Other organizations such as telecom carriers and banks also use these lists. In Brazil, credit scoring is relatively new. It is calculated from information provided by the applicant and publicly available data. In general, scores range from 0 to 1000 indicating what is the chance of a certain profile of consumers paying their bills on time in the next 12 months. The system of credit reports and scores in the United States is very similar to that in India. Although all the four credit information companies have developed their individual credit scores, the most popular is CIBIL credit score. According to Equifax's Score Power Report, Equifax Beacon Scores range from 300 to 900. In Canada, the Government of Canada offers a free publication called Understanding Your Credit Report. This publication provides sample credit report and credit score documents, with explanations of the notations and codes that are used. It also contains general information on how to build or improve credit history, and how to check for signs that identity theft has occurred. China uses private companies to develop credit score systems such as Sesame Credit and Tencent Credit. Denmark uses public assessment tools such as credit scorecards. In Germany, credit scores are widely accepted as the means of assessing one's credit worthiness. Various companies specialise in developing credit score cards in the country. In France, there are several agencies that provide credit scores using information from various sources, such as demographic data, tax returns, income, and other financial relationships. In England, people can purchase credit scores from one of the three major credit bureaux: Serasa Experian, Boa Vista, QuoGard, Foregon, and Societe Generale. In Russia, some third-parties offer credit scores ranging from 100 to 1,000. In India, credit reporting is classified as a blacklist. Anyone who defaults under a credit contract may be denied a loan. Wrong or unlawfully collected data must be deleted or corrected. In South America, where interest rates are high, many pawnbrokers offer credit scoring services. In addition, insurance companies, retail banks, and government departments all use alternative methods to calculate interest rates.\n"
     ]
    },
    {
     "name": "stderr",
     "output_type": "stream",
     "text": [
      " 41%|████      | 41/100 [1:30:01<3:20:10, 203.57s/it]"
     ]
    },
    {
     "name": "stdout",
     "output_type": "stream",
     "text": [
      "In this chapter, Deryn Sharp focuses on cryptanalysis, the scientific method of analyzing information systems in order to understand hidden aspects of them. The term cryptanalysis comes from the Greek kryptós, meaning \"hidden\" and analýein, or \"to analyze,\" and refers to the process of studying information systems. It is used to breach cryptographic security systems and gain access to the contents of encrypted messages, even if the cryptographic key is unknown. In addition to mathematical analysis of cryptographic algorithms, cryptanalysis also includes the study of side-channel attacks that do not specifically target weaknesses in the cryptographic algorithms themselves but instead exploit weaknesses in their implementation.. Introduction In encryption, confidential information is sent to a recipient and decrypted. To decrypt the ciphertext, the recipient requires a secret knowledge from the sender, usually a string of letters, numbers, or bits called a cryptographic key. Encryption has been used throughout history to send important military, diplomatic, commercial and commercial messages, and it is widely used in computer networking to protect email and internet communication. The goal of cryptanalysis is for a third party, a cryptanalyst, to gain as much information as possible about the original ciphertext. This can be divided into three parts: the amount of information available to the attacker; the difficulty of the attack; the resources required to break the encryption; and the types of attacks that may be used. Examples of what kinds of attacks to use include those that focus on solving problems in pure mathematics, such as integer factorization. An overview of modern cryptanalysis follows. Definitions Of course, we already covered some of the more recent developments in this field, but first need to consider the word \"cryptanalysis.\" First up to date was the concept of frequency analysis, which was used during World War I until World War II. Briefly, frequency analysis is the basic tool for breaking most classical ciphertexts. Frequency analysis relies on a cipher failing to hide these statistics. Similarly, academic attacks are often against weakened versions of a cryptosystem. Many, but not all, attacks become exponentially more difficult to execute as rounds are added to a system, so it's possible for the full cryptosyn to be strong even though reduced-round variants are weak. Nonetheless, partial breaks that come close to breaking the original cryptoSystem may mean that a full break will follow. The successful attacks on DES, MD5, and SHA-1 were all preceded by attacks on weakened versions. In academic cryptography, a weakness or a break in a scheme is usually defined quite conservatively. It might require impractical amounts of time, memory, or known plaintexts ; it also might require the attacker to do things many real-world attackers can't. For example, the attacker may need to choose particular plain texts to be encrypted or even to ask for plaintextS using several keys related to the secret key so future messages can be decrypted and read. A mathematical technique to do this is described as a cryptographic attack. Attacks can be classified based on what type of information the attacker has available. Ciphertext only: the cryptanalytic has access only to a collection of ciphertips or codetexts. Known-plaintext: the adversary has a set of ciphertextPs to which they know the corresponding plaintext. Choppy-planoxt: like a chosen-plaintritext attack, except the attacker can choose subsequent plain Texts based on information learned from previous encryptions, similarly to the Adaptive Chosen Plaintext/Coated-Plaintext attack. Related-key attack: Like a chosen planoxt attack, the enemy can obtain ciphertext under two different keys. The keys are unknown, but the relationship between them is known; for example, two keys that differ in one bit. Two keys that have differing in the one-word character are known; likewise, two Different-Plantext/Ciphertext attacks depend on the fact that there are two different Key Identifiers (PLANTROs) with the same General Alkhalil works on implementing an inverse decryption algorithm to recover the plaintext without learning the key.\n"
     ]
    },
    {
     "name": "stderr",
     "output_type": "stream",
     "text": [
      " 42%|████▏     | 42/100 [1:31:11<2:38:00, 163.46s/it]"
     ]
    },
    {
     "name": "stdout",
     "output_type": "stream",
     "text": [
      "The term \"streaming\" was first used for tape drives manufactured by Data Electronics Inc. that were meant to slowly ramp up and run for the entire track; slower ramp times lowered drive costs. In the early 1990s, the term \" streaming\" was applied to video on demand and later live video on IP networks. Business developments Xing Technology develops a JPEG streaming product called \"StreamWorks\" and another streaming product named StarWorks. Other companies that created streaming media technology include Progressive Networks and Protocomm prior to the widespread World Wide Web usage. From the late 1980s through the early 2000s, streaming media has been gaining popularity on the web. The band Severe Tire Damage is credited with the first group to perform live on the Internet. Muzak, a system for streaming music over electrical lines, became very popular in the early 1920s. Commodity corporations such as Procter & Gamble, General Electric, and Du Pont have all made significant advancements in the field of streaming since then.\n"
     ]
    },
    {
     "name": "stderr",
     "output_type": "stream",
     "text": [
      " 43%|████▎     | 43/100 [1:34:16<2:41:28, 169.98s/it]"
     ]
    },
    {
     "name": "stdout",
     "output_type": "stream",
     "text": [
      "In chemistry, a solution is a special type of homogeneous mixture composed of two or more substances. Solutes can be gases, liquids, solids or solutes. The solute from a solution cannot be separated by filtration, mechanically or otherwise. It is composed of only one phase. Homogeneous means that the components of the mixture form a single phase and heterogeneous means different phases with different characteristics. Solubility is the ability of one compound to dissolve into another compound. In this case, a solute is a substance dissolved in another substance called a solvent. If the attraction between the solvent and solute particles is greater than the attractive forces holding them together, the solvent particles pull the solute particle apart and surround them. These surrounded solute bits then move away from the solid solute and out into the solution. The mixing process of a solution happens at a scale where the effects of chemical polarity are involved, resulting in interactions that are specific to solvation. The solution usually has the state of the solvent when the solvent is the larger fraction ofthe mixture, as is commonly the case. The concentration is a measure of the amount of solute in a given amount of solution or solvent. Characteristics Of a solution This chapter deals primarily with solubility. Here are some examples: Gas solutes Gaseous solutions Non-condensable gas mixtures do not spontaneously demix nor sediment, as distinctly stratified and separate gas layers as a function of their relative density. The Brownian motion and the permanent molecular agitation of gas molecules guarantee the homogeneity of the gaseous systems. Water, the most commonly used solvent is both polar and non-polar. Salts dissolve in polar solvents. As an example, all alcoholic beverages are aqueous solutions of ethanol in water. Solid solids Solid solutions Liquid solutions Solid solutions Molecules such as syrups and solids are not solids since they contain many essential solutives such as potassium and urea. Many other solutes, such as salt, salt, sugar, and molasses are also solids. Similarly, certain solutes such as phosphorus, propylene, and phosphorus bromide can be solids if they are mixed with liquid solutions containing several solute types. For example, gunpowder contains naphthalate in liquid solutions.\n"
     ]
    },
    {
     "name": "stderr",
     "output_type": "stream",
     "text": [
      " 44%|████▍     | 44/100 [1:36:23<2:26:34, 157.04s/it]"
     ]
    },
    {
     "name": "stdout",
     "output_type": "stream",
     "text": [
      "In this chapter, the authors discuss the use of quantum key distribution, a method of secure communication based on information theory and forward secrecy, to allow two parties to produce a shared random secret key known only to them. This key can then be used with any chosen encryption algorithm to encrypt and decrypt a message. The unique property of this method is the ability of the two communicating parties to detect the presence of eavesdropping. This results from a fundamental aspect of quantum mechanics: the process of measuring a quantum system in general disturbs the system. Thus, any third party trying to eavesdrop on the key must measure it, thus introducing detectable anomalies. By using quantum superpositions or quantum entanglement, and transmitting information in quantum states, a communication system can be implemented that detects eavesdrops. If the level of eavesdroppability is below a certain threshold, a key can be produced that is guaranteed to be secure. Otherwise, the communication is aborted. The security of encryption that uses quantum-key distribution relies on the foundations of quantum physics, in contrast to traditional public key cryptography.Quantum key distribution exploits certain properties of these quantum states to ensure its security. There are several different approaches to QKD, but they can be divided into two main categories depending on which property they exploit. Quantum communication involves encoding information in \"quantum states, or qubits\" as opposed to classical communication's use of bits. In particular, the concept of measurement is discussed. Entanglement based protocols The quantum states of two separate objects can become linked together in such a way that they must be described by a combined quantum state, not as individual objects. This is known as entanglements. This means that, if an entangled pair of objects is shared between two parties, anyone could compromise the overall system, revealing the existence of the third party. These two approaches can each be further divided into three families of protocols: discrete variable, continuous variable and distributed phase reference coding. Brain Snack: Eavesdropper was originally devised by Charles Bernard de Bois-Guilbert at the Royal Society for the Promotion of Astronomy in Paris in 1816th century. Later inventions include radar, optical fiber, Morse code, telephone, telegraph, wireless, and more.\n"
     ]
    },
    {
     "name": "stderr",
     "output_type": "stream",
     "text": [
      " 45%|████▌     | 45/100 [1:39:03<2:24:56, 158.11s/it]"
     ]
    },
    {
     "name": "stdout",
     "output_type": "stream",
     "text": [
      "The 2011 American animated spy comedy film produced by Pixar Animation Studios for Walt Disney Pictures. It is the sequel to the 2006 animated film Cars and the 12th animated film from the studio. The film was directed by John Lasseter, written by Brad Lewis, produced by Denise Ream, and written by Ben Queen, Lassett, Lewis, and Dan Fogelman. Owen Wilson, Larry the Cable Guy, Tony Shalhoub, Guido Quaroni, Bonnie Hunt, and John Ratzenberger reprise their roles from the first film. New characters include Michael Caine, Emily Mortimer, John Turturro, Eddie Izzard, and Thomas Kretschmann. Lightning McQueen and his best friend Mater go overseas to compete in the World Grand Prix promoting an alternative fuel Allinol but Mater gets involved in international espionage that could determine their fate. Voice cast Many of the voice actors from the original Cars have returned for the sequel, but three have died during the span of ten years since its release. In addition, several of the original's most famous voices have also been used in the sequel. Country crook Jeff Gorvette is replaced by many of the professional race car drivers of various countries as well as sportsmen such as Sebastian Schnell. The story takes place in Paris, Paris, France where the FIA Grand Prix is held. A \"Radiator Springs Grand Prix\" is held at the Radiator Springs racetracks. For the first race, Finn captures Zündapp. During the second race, the lemons plant a tracking device on Mater, causing the spy Finn McMissile and his associate Holley Shiftwell to mistake Mater for the spy. After the race, they are all ambushed by Redline, who detonates the bomb strapped to Mater's air filter. They escape just in time for fear of being captured by the British Army. At Buckingham Palace, Mater exposes Axlerod as the mastermind of the plot against him. He also reveals that the real sponsor of the Grand Prix was actually running on an old gasoline engine, much to the dismay of the Queen. Back at home, fillmore reveals that Sarge has switched Alladinol with organic fuel, explaining the lack of effectiveness on Lightning. Jake Mandeville-Anthony, a U.K. screenwriter, sues Disney and Pixar alleging copyright infringement and breach of implied contract. In his complaint, he alleged that Cars and Cars 2 are based on work that he had submitted in the early 1990s. On May 13, 2011, Disney responded to the lawsuit, denying \"each and every one of\n"
     ]
    },
    {
     "name": "stderr",
     "output_type": "stream",
     "text": [
      " 46%|████▌     | 46/100 [1:43:13<2:46:56, 185.50s/it]"
     ]
    },
    {
     "name": "stdout",
     "output_type": "stream",
     "text": [
      "This chapter discusses large-scale energy storage, dammed hydroelectricity, battery storage, and demand response. In this chapter, energy storage is discussed as a collection of methods used for energy storage on a large scale within an electrical power grid. It is different from battery storage in that it stores energy during times of plentiful and inexpensive electricity or when demand is high, and it can be used to shift load to other times. The term \"large-scale\" refers to large enough to encompass many different energy storage systems. Battery storage has been developed with the advent of new battery technology. Green hydrogen, which is produced by electrolysis of water via electricity generated by renewables or relatively lower carbon emission sources, is more economical than pumped-storage hydro electricity or batteries. Other studies have conducted surveys to determine the suitability of energy storage for specific applications. As of 2020, the largest form of grid energy storage will be dammed hydelectricity. The United States Department of Energy further describes the potential benefits of energy generation and demand side technologies to the electric grid in terms of helping to modernize the electric system. Its report was written by a core group of developers representing the Office of Electricity Delivery and Energy Reliability, ARPA-E, Office of Science, Navy Office of Energy Efficiency and Renewable Energy, Sandia National Laboratories, and Pacific Northwest National Laboratory; all of whom are engaged in the development of gridEnergy storage. The report goes into considerable detail on the various energy storage options available to the utility in order to help meet the nation's energy needs. According to the report, fuel-based power plants can be more efficiently and easily operated at constant production levels whereas those that rely on intermittent sources such as coal, oil, gas, and natural gas must be scaled up and down to match the rise and fall of electrical production from intermittent sources. Utility types reliant on natural gas, natural gas, and coal are more dependent on demand management, grid interconnections, and costly pumped storage. Demand side management and grid storage are alternatives to energy storage. Market research estimates that the market could be worth as much as $13.5 billion by 2023, compared with less than $1 billion in 2015. The demand side can also store electricity from the grid, for example charging a battery for a vehicle and storage heaters, district heating, or providing thermal ice storage or storage for buildings. At peak demand, customers may choose from expensive wash-off solutions to reduce the cost of energy stored off-peak usage. Customers may also need to do things like change industrial food truck loads due to small variations in temperature. If communicated on a grid-wide scale, small changes to heating/cooling temperatures would instantly change consumption across the grid. A report released in December 2013 by the U.S. Department of Geyser Electric Proposed Legislation further details the benefits of E2M approaches to adding energy storage to the national electric grid. This report focuses on the use of peaking power plants to fill in supply gaps and demand responsive to shiftload to other time.\n"
     ]
    },
    {
     "name": "stderr",
     "output_type": "stream",
     "text": [
      " 47%|████▋     | 47/100 [1:44:45<2:19:12, 157.60s/it]"
     ]
    },
    {
     "name": "stdout",
     "output_type": "stream",
     "text": [
      "Cricket is a multi-faceted sport with different formats, depending on the standard of play, the desired level of formality and the time available. The term \"first-class cricket\" is used officially in England and Wales at least. Matches played at the highest international and domestic levels are those in which players and/or teams of a recognized high standard are taking part. Test cricket, One Day Internationals, Twenty20 Internationals and List A cricket are variations of those forms within the international sphere. There are four forms of cricket played: top-class, limited-overs, quarter-class and professional. The first-class game is played over a scheduled duration of three to five days. The second is limited overs cricket, which has a planned duration of one day only; the third is Twenty20 matches, which are completed in under four hours; and the fourth is T10 cricket, played indoors during the winter months. In addition to these four types of cricket, there is indoor cricket as well as lawn cricket. The official term for this type of cricket is \"professional cricket.\"Professional cricket is contested currently and one is historic. According to professional cricket rules, no more than two men may take part in a game. If a game is not completed within the allotted time then it is drawn, regardless of who has scored the most runs when time expires. No scoring can be done by either team. The object of professional cricket is to win as many games as possible without conceding any points.\n"
     ]
    },
    {
     "name": "stderr",
     "output_type": "stream",
     "text": [
      " 48%|████▊     | 48/100 [1:48:19<2:31:14, 174.51s/it]"
     ]
    },
    {
     "name": "stdout",
     "output_type": "stream",
     "text": [
      "The narrator explains the concept of cryptography, or cryptology, which is the study of techniques for secure communication in the presence of adversarial behavior. Modern cryptography exists at the intersection of the disciplines of mathematics, computer science, information security, electrical engineering, digital signal processing, physics, and others. \"Cryptography prior to the modern age was effectively synonymous with encryption, converting readable information (plaintext) to unintelligible nonsense text (ciphertext) which can only be read by reversing the process. The sender of an encrypted message shares the decryption (decoding) technique only with the intended recipients. In this chapter, the term \"cryptography\" is used to refer specifically to the use of cryptographic techniques and \"cryptology\" to refer to the combined study of cryptography and cryptanalysis. Definitions of cryptology are as follows: \"hidden, secret; romanized: kryptós \"hidden,\" meaning secret; and γράφειν graphein, meaning to write, or -λογ�α -logia, meaning study; respectively. More generally, cryptography is about constructing and analyzing protocols that prevent third parties or the public from reading private messages. Practical applications of cryptography include electronic commerce, chip-based payment cards, digital currencies, computer passwords, and military communications. Defenses against eavesdropping include data confidentiality, data integrity, authentication, and non-repudiation. Since the development of rotary cipher machines in World War I and the advent of computers inWorld War II, cryptography methods have become increasingly complex and their applications more varied. Cryptography has potential for use as a tool for espionage and sedition has led many governments to classify it as a weapon and to limit or even prohibit its use and export. It also plays a major role in digital rights management and copyright infringement disputes with regard to digital media.  == Terminology ==Definition   Definition of cryptographic systems includes those that rely on mathematical theory and computer science practice; cryptographic algorithms are designed around computational hardness assumptions, making such algorithms hard to break in actual practice by any adversary. Such schemes, if well designed, are therefore termed \"computationally secure\". Theoretical advances in integer factorization algorithms and faster computing technology require these designs to be continually reevaluated and, if necessary, adapted. Information-theoretically secure schemes that provably cannot be broken even with unlimited computing power, such as the one-time pad, are much more difficult to use in practice than the best theoretically breakable but computationally secure schemes. The growth of cryptographic technology has raised a number of legal issues in the Information Age.\n"
     ]
    },
    {
     "name": "stderr",
     "output_type": "stream",
     "text": [
      " 49%|████▉     | 49/100 [1:49:15<1:58:11, 139.04s/it]"
     ]
    },
    {
     "name": "stdout",
     "output_type": "stream",
     "text": [
      "FIFA hosts the FIFA World Cup, the most prestigious association football tournament in the world. The viewership at the 2018 World Cup was estimated to be 3.57 billion, close to half of the entire population. Previous international competitions include the British Home Championship and the 1906 Intercalated Games. In 1908, football became an official Olympic sport. At the 1908 Summer Olympics in London, the Football Association staged a tournament for amateur players only and was regarded suspiciously as a show rather than a competition. Sir Thomas Lipton organizes the Sir Thomas Lipton Trophy tournament in Turin in 1909. The competition is sometimes called The First World Cup and features the finest professional club sides from Italy, Germany and Switzerland. In 1914, FIFA officially recognizes the \"world cup\" as the main event of the Games. Uruguay hosts the 2026 World Cup.\n"
     ]
    },
    {
     "name": "stderr",
     "output_type": "stream",
     "text": [
      " 50%|█████     | 50/100 [1:50:25<1:38:34, 118.29s/it]"
     ]
    },
    {
     "name": "stdout",
     "output_type": "stream",
     "text": [
      "A solar eclipse occurs when the Moon passes between Earth and the Sun, thereby obscuring the view of the Sun from a small part of the Earth, totally or partially. It is more rare than a lunar eclipse because there is a more precise alignment between the two planets. An eclipse is a natural phenomenon, but for some ancient and modern cultures, solar eclipses were attributed to supernatural causes or regarded as bad omens. Looking directly at the Sun can lead to permanent eye damage, so special eye protection or indirect viewing techniques are used when viewing a solar eclipse. There are four types of solar eclipsing: total solar eclipse, which occurs every 18 months, annular eclipses, partial solar eclipsights, hybrid eclipses, and total eclipses. The term \"central eclipse\" comes from the Latin word for \"total\" or \"annual,\" meaning that the disk of the sun is completely obscured by the moon. A central eclipse is also called a \"tottering eclipse\". More detailed information about eclipses can be found in this chapter.\n"
     ]
    },
    {
     "name": "stderr",
     "output_type": "stream",
     "text": [
      " 51%|█████     | 51/100 [1:54:12<2:03:13, 150.89s/it]"
     ]
    },
    {
     "name": "stdout",
     "output_type": "stream",
     "text": [
      "In this chapter, Wollstonecraft explains the concept of social media, which refers to interactive Web 2.0 applications that facilitate the creation and sharing of \"content, ideas, interests, and other forms of expression through virtual communities and networks\". Social media services such as Twitter, Facebook, WhatsApp, Telegram, Messenger, WeChat, ShareChat, Instagram, QZone, Weibo, VK, Tumblr, Baidu Tieba, and LinkedIn are some of the most popular social media platforms. In addition, there are many others including Flickr, Classmatescom, Six Degreescom, and more. The term social media is used to refer to new forms of media that involve interactive participation. It may also refer to the ability to bring people together through the use of technology such as chat rooms, bulletin boards, message boards, news reports, blogs, and similar types of sites. From the earliest days of the World Wide Web, social media has been used to facilitate communication among individuals and to document memories, learn about and explore things, advertise things, and make friendships. People have used social media for a wide range of purposes ranging from advertising to communicating and organizing in times of political unrest. Social media can also be used to read or share news, whether it is true or false. In order to better an individual's sense of connectedness with real or online communities and as a communication tool for corporations, business, entrepreneurs, non-profit organizations, advocacy groups, political parties, and governments, social movements using social media uses social media as a tool. Early computing was very early on in the history of information technology. A system called PLATO was invented in 1960 by the government of Illinois. It offered features such as notes, messages, instant messenger, Talkomatic, perhaps the first online chat room, instant newspaper, News Report, a crowdsourced online newspaper, and access lists. By the late-1970s, advances in machine-to-machine communication such as the telephone, typewriting, and cultural etiquette were already being developed. Later, artificial intelligence became the dominant method of communication described in the Federal Communications Commission's (FCC) Circulation Board System 6 at the Department of Engineering at the University of North Carolina. In the early 1980s, the electronic bulletin board system (BBS) began to gain popularity. Message forums arose with the BBS phenomenon throughout the 1980s and early 1990s. When the WorldWide Web was added to the web in the mid-1990s, message basins evolved from the old ways of bulletin boards to the new medium of the web, becoming much more important due to the ease of handling large groups of people simultaneously rather than requiring expensive per-person access. Many countries had multiple BBSs running on various platforms such as Apple II, Atari, IBM PC, Commodore 64, Sinclair and similar personal computers. During the early 2000s, socialmedia platforms gained widespread popularity. There are over 4.76 billion social media users in the world, which, as of January 2023, equates to 59.4% of the total global population.Social media outlets differ from traditional media in many ways: quality, reach, frequency, usability, relevancy, and permanence. They operate according to a dialogic transmission system, whereas traditional media outlets operate under a monologic transmission model, i.e., one source to many receivers. For example, a newspaper is delivered to many subscribers and a radio station broadcasts the same programs to an entire city. Since the dramatic expansion of the Internet, digital rhetoric can be said to represent or identify a culture. Studying the rhetoric that exists in the digital environment has become a crucial new process for many scholars. Observers have noted a wide variety of positive and negative impacts when it comes to the useof social media.\n"
     ]
    },
    {
     "name": "stderr",
     "output_type": "stream",
     "text": [
      " 52%|█████▏    | 52/100 [1:56:16<1:54:05, 142.62s/it]"
     ]
    },
    {
     "name": "stdout",
     "output_type": "stream",
     "text": [
      "In this chapter, the author explains the fundamental theory of quantum mechanics, which describes the behavior of matter at the scale of atoms and subatomic particles. It is the foundation of all aspects of quantum physics, including \"quantum chemistry, quantum field theory, quantum technology, quantum science, and quantum information science. The general outline of the theory is as follows: \"Quantum mechanics is a fundamental theory in physics... describes the history of nature.\" It is a branch of classical physics that describes many aspects of nature at the large scale but is inadequate for describing phenomena at the subatomic and microscopic scales. It differs from classical physics in that energy, momentum, angular momentum, and other quantities of a bound system are restricted to discrete values (quantization); measurements of the system show characteristics of both particles and waves (wave-particle duality); and there are limits to how accurately the value of a physical quantity can be predicted prior to its measurement, given a complete set of initial conditions. Quantum mechanics arose gradually from theories to explain observations that could not be reconciled with classical physics, such as Planck's solution to the black-ray problem and Albert Einstein's 1905 paper explaining the photoelectric effect. These early attempts to understand microscopic phenomena, now known as the old quantum theory, led to the development of the full quantum mechanics in the 1920s by Niels Bohr, Erwin Schrödinger, Werner Heisenberg, Max Born, Paul Dirac, and others. The modern theory is formulated in various specially developed mathematical formalisms. Quantum mechanics has been validated experimentally to an extremely high degree of accuracy. A fundamental feature of the underlying the theoryis that it usually cannot predict with certainty what will happen, but only give probabilities. The most famous form of this uncertainty principle is that no matter how a quantum particle is prepared or how carefully experiments are carried out.\n"
     ]
    },
    {
     "name": "stderr",
     "output_type": "stream",
     "text": [
      " 53%|█████▎    | 53/100 [2:01:36<2:33:23, 195.83s/it]"
     ]
    },
    {
     "name": "stdout",
     "output_type": "stream",
     "text": [
      "A stock exchange is an exchange \"or bourse where stockbrokers and traders can buy and sell shares of equity stock, bonds, and other securities. Many large companies have their stocks listed on a stock exchange. This makes the stock more liquid and thus more attractive to many investors. There are 60 stock exchanges in the world. Of these, 16 have a market capitalization of $1 trillion or more. The largest stock markets as of January 2022 are in North America, Europe, or Asia. Stock exchange = Stock market. A stock market, equity market, or share market is the aggregation of buyers and sellers of stocks, which represent ownership claims on businesses. These may include securities listed on public stock exchanges as well as stock that is only traded privately, such as shares of private companies which are sold to investors through equity crowdfunding platforms. Investment is usually made with an investment strategy in mind. In this chapter, the size of the market is discussed. The total market capitalized stocks worldwide has risen from US$2.5 trillion in 1980 to US$93.7 trillion by the end of 2020. == Stock exchange == Market participant == Market participants include individual retail investors, institutional investors, pension funds, insurance companies, mutual funds, index funds, exchange-traded funds, hedge funds, hedge funds, public funds, investor groups, banks and various other financial institutions), and also publicly traded corporations trading in their own shares. === Demographics of market participation === Direct Investment = Direct Investment involves owning shares directly; indirect investment involves buying and selling shares indirectly. Both direct and indirect investments are taxed in the same way that OTC derivatives are. Investment in pension funds and 401ks are taxed as either directly or as a percentage of the value of the funds withdrawn from the accounts. Similarly, the money used to directly purchase stock is subject to taxation as are any dividends or capital gains they generate for the holder. Intirect participation means placing orders on the floor of a trading floor. Open outcry is a method of bidding and offer prices. The other type of stock exchange has a network of computers where trades are made electronically. An example of such an exchange is the NASDAQ. The New York Stock Exchange (NYSE) is a physical exchange with a hybrid market for placing orders electronically from one location to another. The mean value of all stock holdings across the entire income distribution is valued at $269,900 as of 2013. Qualitatively, the racial composition of stock market ownership shows households headed by whites are nearly four and six times as likely to directly own stocks than those headed by blacks and Hispanics respectively. As of 2011, the national rate of direct participation was 19.3% in 1992 to 52.6% in 2007, with the median value of these holdings rising from $14,778 to $17,000. Indirect participation in the form of retirement accounts rose from 39.9% in1992 to 45.3%. Total participation in direct versus indirect participation refers to the proportion of households directly own stock and 10.7% hold stocks indirectly. Direct owned stock in the bottom quintile of income is $4,000 and is $78,600 in the top quarter of income as of 2007. Direct held stock in middle and upper class households is $6,300 and $214,800 respectively. During the Great Recession of 2008, households in the lower half of the income distribution have lessened their participation rate both directly and indirectly from 53.2% in2007 to 48.8% in 2013. Direct and indirect holdings at the bottom half of income distribution moved slightly downward from $5380 in 2007 to $53,600 during the same time. Financial regulators have probed dark pools. Glossary of terms  Identifier : Market participant Definition of market segmentation Market segmentation is based on the number of different types of securities: equities, fixed interest securities, bonds and derivatives. It does not refer to specific segments of the stock market but rather to the group of securities that are traded over the counter or OTC. For example, mortgages, non-interest securities, commercial paper, real estate, gold and silver bullion, etc. Assured promissory notes differ in the amount of taxation per unit of value due to the nature of the underlying securities. Capital gains on sale in the United States vary greatly depending on the type of security. Some states allow individuals to invest directly while others tax people who do not want to be taxed. Commodities like crude oil and natural gas are exempt from taxation since they do not carry forward risk. Derivatives are taxed according to the structure of the OTC market. Natural gas is taxed as neither directly nor OTC because there are no buyers or sellers willing to pay a set price for the product. Bonds are taxed under the federal government's Equal Partnership Act of 1934.\n"
     ]
    },
    {
     "name": "stderr",
     "output_type": "stream",
     "text": [
      " 54%|█████▍    | 54/100 [2:06:49<2:57:07, 231.03s/it]"
     ]
    },
    {
     "name": "stdout",
     "output_type": "stream",
     "text": [
      "What is a car? It's a motor vehicle with wheels. Most definitions of cars state that they run primarily on roads, seat one to eight people, have four wheels, and mainly transport people, not cargo. French inventor Nicolas-Joseph Cugnot built the first steampowered road vehicle in 1769, while French-born Swiss inventor François Isaac de Rivaz designed and constructed the first internal combustion-powered automobile in 1808. The modern car--a practical, marketable automobile for everyday use—was invented in 1886 by German inventor Carl Benz. He patented his Benz Patent-Motorwagen during the early 20th century. The first cars affordable by the masses was the 1908 Model T. Over the decades, more and more features and controls are added to vehicles. Most cars in use in the early 2020s are propelled by an internal combustion engine, fueled by the combustion of fossil fuels. Electric cars, which were invented early in the history of the car, became commercially available in the 2000s and are predicted to cost less to buy than petrol-driven cars before 2025. There are costs and benefits to car use. The costs to the individual include acquiring the vehicle, interest payments, financing, repairs and maintenance, fuel, depreciation, driving time, parking fees, taxes, and insurance; the costs to society include maintaining roads, land use, road congestion, air pollution, noise pollution, public health, and disposing of the vehicle at the end of its life. People's ability to move flexibly from place to place has far-reaching implications for the nature of societies. Around one billion cars are in use worldwide. Car usage is increasing rapidly in China, India, and other newly industrialized countries. The English word car is believed to originate from Latin carrus/carrum \"wheeled vehicle\" or \"two-wheeled cart\" both of which in turn derive from Gaulish karros \"chariot.\" It originally referred to any wheeled horse-drawn vehicle, such as a cart, carriage, or wagon. \"Motor car,\" attested from 1895, is the usual formal term in British English. \"Autocar,\" a variant likewise attented from 1895 and literally meaning \"self-propelled car,\" is now considered archaic. It fell out of favor in Britain and is now used chiefly in North America, where the abbreviated form \"auto\" commonly appears as an adjective in compound formations like \"auto industry\" and \"auto mechanic\". == History The first steam-powered vehicle was designed by Ferdinand Verbiest in 1672. It was a 65-centimetre-long (26-inferior scale-model toy for the Kangxi Emperor that was unable to carry or carry driver or a single person. It is not known if Verbiest's model was ever successfully built or not. He is widely credited with building the first full-scale vehicle, which was a limited utility vehicle. In 1807, Nicophore Niepce and his brother Claude created what was probably the world's firstInternal combustion engine. They installed it in a boat on the river Saone in France. Coincidentally, the Swiss inventor Jean-Jacques Rousseau designed his own De Rivaz internal combustion engines. Both design was successful. Other German engineers, including Gottlieb Daimler, Wilhelm Maybach, and Siegfried Marcus, were working on cars at about the same time. The year 1886 is regarded as the birth year of the modern car—a practical means of transportation. Carl Benz patented his patent for his first engine, which had been designed in 1878. His first Motorwagen was built in 1885 in Mannheim, Germany. He was awarded the patent for its invention as of his application on 29 January 1886 under the auspices of his major company, Benz & Cie., which was founded in 1883. About 25 Benz vehicles were sold between 1888 and 1893, when his first four-wheeler was introduced along with a cheaper model. They also were powered with four-stroke engines of his own design. Emile Roger of France began producing Benz engines under license, now adding the Benz car to his line of products. Because France was more open to the early cars, initially more were built and sold in France through Roger than Benz sold in Germany. In August 1888, Bertha Benz undertook the first road trip by car to prove the roadworthiness of her husband's invention. During the last years of the 19th century, Benz became the largest car company in the world with 572 units produced in 1899 and, because of its size, Benz&Cie., became a joint-stock company..\n"
     ]
    },
    {
     "name": "stderr",
     "output_type": "stream",
     "text": [
      " 55%|█████▌    | 55/100 [2:08:49<2:28:22, 197.84s/it]"
     ]
    },
    {
     "name": "stdout",
     "output_type": "stream",
     "text": [
      "A budget is a calculation plan, usually but not always financial, for a defined period, often one year or a month. Companies, governments, families, and other organizations use budgets to express strategic plans of activities in measurable terms. A budget expresses intended expenditures along with proposals for how to meet them with resources. It may express a surplus or a deficit. Government The budget of a government is a summary or plan of the anticipated resources from taxes and expenditures of that government. There are three types of government budgets: the operating or current budget, the capital or investment budget, and the cash flow budget. By country United States The federal budget is prepared by the Office of Management and Budget, and submitted to Congress for consideration. Invariably, Congress makes many and substantial changes. Nearly all American states are required to have balanced budgets, but the federal government is allowed to run deficits. India The budget is published by the Budget Division of the Ministry of Finance annually. The present Indian Finance Minister is Nirmala Sitharaman. The budget includes supplementary excess grants. When a proclamation by the President as to the failure of the Constitutional machinery is in operation in relation to a State or a Union Territory, preparation of the Budget of such State.The first budget of India was submitted on 18 February 1860 by James Wilson. P C Mahalanobis is known as the father of Indian budget. Iran The 2022-23 Iranian national budget is the latest one. Philippines The Philippine budget is considered the most complicated in the world. It incorporates multiple approaches in one single budget system: line item, budget execution, performance, budget accountability, and zero-based budgeting. Personal budget or personal budget refers to a personal budget or home budget. It can also refer to non-cash resources, such as staff or time. Corporate budget or corporate budget is an estimate of the future revenues and expenses of a business or organization. Various countries and unions have created four types of tax jurisdictions: interstate, state, local and tax jurisdictions with a special status (Free Trade Zones). Each of them provides a money flow to the corresponding revenue budget levels. This process of budgeting process typically requires considerable effort, often involving dozens of staff; final sign off resides with both the financial director and the operations director.\n"
     ]
    },
    {
     "name": "stderr",
     "output_type": "stream",
     "text": [
      " 56%|█████▌    | 56/100 [2:14:03<2:50:37, 232.67s/it]"
     ]
    },
    {
     "name": "stdout",
     "output_type": "stream",
     "text": [
      "What is a car? It's a motor vehicle with wheels. Most definitions of cars state that they run primarily on roads, seat one to eight people, have four wheels, and mainly transport people, not cargo. French inventor Nicolas-Joseph Cugnot built the first steampowered road vehicle in 1769, while French-born Swiss inventor François Isaac de Rivaz designed and constructed the first internal combustion-powered automobile in 1808. The modern car--a practical, marketable automobile for everyday use—was invented in 1886 by German inventor Carl Benz. He patented his Benz Patent-Motorwagen during the early 20th century. The first cars affordable by the masses was the 1908 Model T. Over the decades, more and more features and controls are added to vehicles. Most cars in use in the early 2020s are propelled by an internal combustion engine, fueled by the combustion of fossil fuels. Electric cars, which were invented early in the history of the car, became commercially available in the 2000s and are predicted to cost less to buy than petrol-driven cars before 2025. There are costs and benefits to car use. The costs to the individual include acquiring the vehicle, interest payments, financing, repairs and maintenance, fuel, depreciation, driving time, parking fees, taxes, and insurance; the costs to society include maintaining roads, land use, road congestion, air pollution, noise pollution, public health, and disposing of the vehicle at the end of its life. People's ability to move flexibly from place to place has far-reaching implications for the nature of societies. Around one billion cars are in use worldwide. Car usage is increasing rapidly in China, India, and other newly industrialized countries. The English word car is believed to originate from Latin carrus/carrum \"wheeled vehicle\" or \"two-wheeled cart\" both of which in turn derive from Gaulish karros \"chariot.\" It originally referred to any wheeled horse-drawn vehicle, such as a cart, carriage, or wagon. \"Motor car,\" attested from 1895, is the usual formal term in British English. \"Autocar,\" a variant likewise attented from 1895 and literally meaning \"self-propelled car,\" is now considered archaic. It fell out of favor in Britain and is now used chiefly in North America, where the abbreviated form \"auto\" commonly appears as an adjective in compound formations like \"auto industry\" and \"auto mechanic\". == History The first steam-powered vehicle was designed by Ferdinand Verbiest in 1672. It was a 65-centimetre-long (26-inferior scale-model toy for the Kangxi Emperor that was unable to carry or carry driver or a single person. It is not known if Verbiest's model was ever successfully built or not. He is widely credited with building the first full-scale vehicle, which was a limited utility vehicle. In 1807, Nicophore Niepce and his brother Claude created what was probably the world's firstInternal combustion engine. They installed it in a boat on the river Saone in France. Coincidentally, the Swiss inventor Jean-Jacques Rousseau designed his own De Rivaz internal combustion engines. Both design was successful. Other German engineers, including Gottlieb Daimler, Wilhelm Maybach, and Siegfried Marcus, were working on cars at about the same time. The year 1886 is regarded as the birth year of the modern car—a practical means of transportation. Carl Benz patented his patent for his first engine, which had been designed in 1878. His first Motorwagen was built in 1885 in Mannheim, Germany. He was awarded the patent for its invention as of his application on 29 January 1886 under the auspices of his major company, Benz & Cie., which was founded in 1883. About 25 Benz vehicles were sold between 1888 and 1893, when his first four-wheeler was introduced along with a cheaper model. They also were powered with four-stroke engines of his own design. Emile Roger of France began producing Benz engines under license, now adding the Benz car to his line of products. Because France was more open to the early cars, initially more were built and sold in France through Roger than Benz sold in Germany. In August 1888, Bertha Benz undertook the first road trip by car to prove the roadworthiness of her husband's invention. During the last years of the 19th century, Benz became the largest car company in the world with 572 units produced in 1899 and, because of its size, Benz&Cie., became a joint-stock company..\n"
     ]
    },
    {
     "name": "stderr",
     "output_type": "stream",
     "text": [
      " 57%|█████▋    | 57/100 [2:16:34<2:29:05, 208.03s/it]"
     ]
    },
    {
     "name": "stdout",
     "output_type": "stream",
     "text": [
      "A president is the leader of an organization, company, community, club, trade union, university or other group. The relationship between a president and a chief executive officer varies, depending on the structure of the specific organization. The powers of a president vary widely across organizations and such powers come from specific authorization in the bylaws like Robert's Rules of Order. In this chapter, Robert uses the term president to describe the type of overseer that foreman or overseer is used today. It has now also come to mean \"chief officer\" in terms of administrative or executive duties. Power and authority According to Robert, the role of the president in an organization can be divided into many different roles. Some organizations have the authority to hire staff, make financial decisions, etc., while others give the president only advisory services. Other organizations may have no executive powers and use the president as a spokesman for the organization. Presidents also presides over meetings and makes decisions according to the rules of the group. Disciplinary procedures If the president exceeds the given authority or engages in misconduct or fails to perform his duties, the president may face disciplinary procedures. Such procedures may include censure, suspension, or removal from office. President-elect Some organizations may elect a president-elect in addition to the position of president. Generally, the membership of the organization elects apresident-elect and when the term of the presidency-elect is complete, that person automatically becomes president. Immediate past president Some organizations might elect someone with the same title as the president but with the title of immediate past president instead. The organization can have such a position only if its bylaws provide it. The duties of such a post would also have to be provided in the BYL. Presentation Circumstances Most organizations have a position of corporate president as the legal recognized highest rank of corporate officer, ranking above the various vice presidents but on its own generally considered subordinate, in practice, to the CEO. The president is authorized to make executive decisions only if the business model allows for it. Historical Context The term president was used in the same way foreman before the industrial revolution (the term is still used in that sense today). It later came to mean chiefs of industry. Powers and authority The powers granted to the president vary greatly across organizations. In addition to presiding over meetings, a president has the duties of maintaining impartiality and does not interrupt speakers if they have the floor. National Association of Parliamentarians, Education Committee, Federalist Paper, Office of Management and Budget, Department of Labor, Harvard Business School, University of Engineering and Sciences, Unitarian Church, Girl Scouts, United Way, Quaid-Nixon Board of Trade Unions, Women's Christian League, Boy Scouts of America, Boys and Girls Club, Girl Scout Troop 740, United Service clubs, International Rescue Mission, Yarmouth Baptist Church, Jr. Intrepid Pursuit of the Dream Many years ago, Charles Darwin discovered how to write and publish scientific papers using handwritten manuscripts. Since then, scientists have been publishing scientific papers in books since the early nineteenth century. No matter what field you're in, there are always people who want to write about it.\n"
     ]
    },
    {
     "name": "stderr",
     "output_type": "stream",
     "text": [
      " 58%|█████▊    | 58/100 [2:19:59<2:25:05, 207.28s/it]"
     ]
    },
    {
     "name": "stdout",
     "output_type": "stream",
     "text": [
      "Association football, more commonly known as football or soccer, is a team sport played between two teams of 11 players. With an estimated 250 million players active in over 200 countries and territories, it is the most popular sport. The game of association football is played according to the Laws of the Game, a set of rules that has been in effect since 1863 and maintained by the IFAB since 1886. The history of kicking ball in England dates back to at least the eighth century. The modern rules of Association football are based on the mid-19th century efforts to standardize the widely varying forms of football played in the public schools of England. The word soccer arrived at its current form in 1895. Association football is one of a family of football codes that emerged from various ball games played worldwide since antiquity. Kicking ball games arose independently several times across multiple cultures. An image of an episkyros player depicted in low relief on a stele of c.375 is found in the UEFA Museum of Athens. In Ancient Greece, Episkyros were Greek ball games. Phaininda and Episkyro's resemble modern volleyball. Kemari, a ceremonial rather than a competitive game, was played by pushing a mari, a ball made of animal skin, into a rectangular-framed goal. In North America, pasuckuakohowog was a ball game played by the Algonquians; it was described as \"almost identical to the kind of folk football being played in Europe at the same time, in which the ball was kicked through goals\". The predecessors of association Football in themselves do not have a classical history. They are basing on the laws of the game laid down by the Cambridge rules, first written in 1848. However, they were not universally adopted. Some clubs unconnected to schools or universities formed throughout the English-speaking world to play different codes of football. These came up with their own distinct codes of rules, most notably the Sheffield Football Club, formed by former public school pupils in 1857, which led to the formation of a Sheffield FA in 1867. In 1862, John Charles Thring of Uppingham School also wrote the rules for The Football Association, which eventually issued the first comprehensive set of fundamental rules, forming the present set of the Laws Of the Game on 8 December 1863. Eleven clubs ratified the original thirteen laws governing the game. The sticking point was hacking, which a twelfth club at the meeting, Blackheath FC, had wanted to keep, resulting in them withdrawing from the FA. Other English rugby clubs followed this lead and did not join the FA, and instead formed the Rugby Football Union. England is also home to the world's first football league, founded in 1888 by Aston Villa director William McGregor. The original format contained 12 clubs from the Midlands and Northern England. Since 1889, the structure of the International Football Association Board (IFAB) was formed after a meeting in Manchester attended by representatives from the Football Association, the Scottish FAs, the Royal Astronomical Society, the Irish FA, ConmebOL, CONMEBOL, OFC and UEFA. The FIFA, the governing body of the World Cup and the FIFA Women's World Cup were formed in 1904. For the twentieth century, the FA hosts the Copa Libertadores, the greatest tournament in the world.\n"
     ]
    },
    {
     "name": "stderr",
     "output_type": "stream",
     "text": [
      " 59%|█████▉    | 59/100 [2:22:00<2:03:55, 181.35s/it]"
     ]
    },
    {
     "name": "stdout",
     "output_type": "stream",
     "text": [
      "A film is a work of visual art that simulates experiences and communicates ideas, stories, perceptions, feelings, beauty, or atmosphere through the use of moving images. The word \"cinema\" is often used to refer to filmmaking and the film industry, and the art form that is the result of it. Before the introduction of digital production, a series of still images were recorded on a strip of chemically sensitized celluloid (photographic film stock) usually at a rate of 24 frames per second. The images are transmitted through a movie projector at the same rate as they were recorded, with a Geneva drive ensuring that each frame remains still during its short projection time. There is usually a sound and sensory stimulations. First motion pictures. By the late 1850s, the first examples of instantaneous photography came about and provided hope that motion photography would soon be possible. It took a few decades before it was successfully combined with a method to record series of sequential images in real-time. Many other terms exist for an individual motion picture, including \"picture\", \"picture show\", \"moving picture\", \"photoplay\" and \"flick\". The most common term in the United States is \"movie,\" while in Europe the word \"film\" is preferred. Etymology and alternative terms. The name \"film originally referred to the thin layer of photochemical emulsion on the celluloid strip that used to be the actual medium for recording and displaying motion pictures.\" Flick is a slang term, first recorded in 1926. It originates from the verb flicker. In scholarly texts and critical essays, the last of these is commonly used. In the early years, the word'sheet' was sometimes used instead of \"screen\". Back in the nineteenth century, celluloid was quite common.\n"
     ]
    },
    {
     "name": "stderr",
     "output_type": "stream",
     "text": [
      " 60%|██████    | 60/100 [2:27:01<2:24:50, 217.27s/it]"
     ]
    },
    {
     "name": "stdout",
     "output_type": "stream",
     "text": [
      "Hazel Kyrk, a Ph.D. student at University of Chicago, studies the concept of personal finance in 1920. Herbert A. Simon, a Nobel laureate, proposed in 1947 that people may not always make the best financial decisions because they have limited educational resources and personal inclinations. Dan Ariely, another Nobel Laureate, argued in 2009 that the 2008 financial crisis showed that human beings do not necessarily make rational financial decisions. Personal finance is the financial management of an individual or family unit's budget, savings, and spending over time. It is also the management of one's money according to goals and long-term goals. The term \"personal\" was originally used to refer to a category of financial instruments such as checking, savings accounts, credit cards, and consumer loans. In this chapter, McGurk focuses on the importance of personal finances and how it fits into the broader picture of financial management for individuals and families. History Brief: Before personal finance was developed, the disciplines of home economics were taught in various colleges for over 100 years. The earliest known research in personal Finance was done in 1920 by Hazel Kyrk. Margaret Reid, a professor of Home Economics at the same university, is recognized as one of the pioneers in the study of consumer behavior and Household behavior.Research into personal finance is based on several theories, such as social exchange theory and andragogy (adult learning theory).Professional organizations such as the American Association of Family and Consumer Sciences and the American Council on Consumer Interests started to play an important role in developing this field from the 1950s to the 1970s. Attendances of the two societies mainly come from faculty and graduates from business and home economics colleges. AFCPE started to offer several certifications for professionals in the field, including Accredited Financial Counselor and Certified Housing Counselor. Certified Financial Planner (CFP Board) became standard in the CFP Board in 1985. Until the late 1990s, there was very little attention given to the studyof personal finance but universities such as Brigham Young University, Iowa State University, Idaho State University and San Francisco State University began to offer financial educational programs in both undergraduate and graduate programs since the 1990s. They published several papers in journals such as The Journal of Financial Counseling and Planning and the Journal of Personal Finance. Introduction to financial education In the United States President's Advisory Council on Financial Capability was set up in 2008 to encourage financial capability among the American people and establish a standard in financial education. It also stressed the need of developing a standard curriculum in financial literacy. Definition Of Financial Literacy There is no standardized curriculum for personal finance education until after the2008 financial crisis. Various education programs are offered catering to specific segments of the population such as youth and women. However, most financial advisors offer their own specialized financial services with the caveat that their advice may not be appropriate for one person and may differ slightly from that of a high-wealth individual. 3rd and 4th Trends In Medical Care and Rising Medical Expenses Medical expenses have all seen an exponential rise over the years. Many of these medical expenses are not covered by insurance but are instead paid for through private/individual insurance or through public/national insurance. In many cases, insurance is either provided by the employer or the government. Monitoring and Reassessment : The financial plan is monitored for possible adjustments or reassessments as time passes. Typical goals that most adults and young adults have are paying off credit card/student loans, investing for retirement, investing for investment for retirement, investing investments for college costs for children, and paying medical expenses. Setting financial goals helps to direct financial planning. Execution Execution: Execution of a financial plan often requires discipline and perseverance. Most people obtain assistance from professionals such as accountants, financial planners, investment advisers, investment bankers, and lawyers. No formal education for Personal Finance There is a great need for people to understand and take control of their finances. This illustrates the need to learn personal finance from an early age so that they can distinguish between needs vs. wants and plan accordingly. Principles Individual situations vary greatly and tax and financial regulations vary throughout countries and across borders. Still, good personal finance advice boils down to a few simple points: Pay off your credit card balances every month in full save 20% of income create an emergency fund that can last at least 6 months Maximize contributions to tax-advantaged funds such as a 401(k) retirement funds, individual retirement accounts, and 529 education savings plans. Investing savings: Avoid trading individual securities for low-cost mutual funds Look at diversified mutual fundsLook at risk due to low costMutual funds look at risk appropriately to an individual's target year If a key component of financial planning is required, then it is necessary to commit personal duty to act promptly. Personal inventory and financial statements include household bills, bank accounts, balance sheets, house bills, cash balances, and even clothes. Assigning financial goals is similar to goal setting. Goal setting is done to meet specific financial requirements. Gaining financial goals includes achieving short-term aims such\n"
     ]
    },
    {
     "name": "stderr",
     "output_type": "stream",
     "text": [
      " 61%|██████    | 61/100 [2:30:17<2:17:03, 210.85s/it]"
     ]
    },
    {
     "name": "stdout",
     "output_type": "stream",
     "text": [
      "In this chapter, the narrator explains the concept of solar power, also known as \"solar electricity,\" which is the conversion of energy from sunlight into electricity. Photovoltaic cells convert light into an electric current using the photovoltatic effect. Concentrated solar power systems use lenses or mirrors and solar tracking systems to focus a large area of sunlight to a hot spot, often to drive a steam turbine. \"Solar power\" was initially used as a source of electricity for small and medium-sized applications, from the calculator powered by a single solar cell to remote homes powered by an off-grid rooftop PV system. As the cost of solar electricity has fallen, grid-connected solar PV systems' capacity and production have grown more or less exponentially, doubling about every three years. In 2022, solar generated 4.5% of the world's electricity, compared to 1% in 2015. Low-carbon power has been recommended as part of a plan to limit climate change. The International Energy Agency said in 2022 that more effort was needed for grid integration and the mitigation of policy, regulation and financing challenges.\n"
     ]
    },
    {
     "name": "stderr",
     "output_type": "stream",
     "text": [
      " 62%|██████▏   | 62/100 [2:31:50<1:51:11, 175.56s/it]"
     ]
    },
    {
     "name": "stdout",
     "output_type": "stream",
     "text": [
      "Franklin Delano Roosevelt, better known by his initials FDR, was the 32nd president of the United States from 1933 until his death in 1945. He was a member of the Democratic Party and the only U.S. president to serve more than two terms. During his first term, during the Great Depression, he implemented the New Deal, the centerpiece of which was the creation of the Securities and Exchange Commission, the National Labor Relations Act, the Federal Deposit Insurance Corporation, and Social Security. In addition, he authorized the declaration of war on Japan at Pearl Harbor on December 7, 1941 and initiates the planning for the United Nations. Early life and marriage; Childhood; Family and early career; Education and early years; Governorship; Marriage; Family, family, and marital affairs; Circumstances Franklin Delano II was born on January 30, 1882 in the Hudson Valley town of Hyde Park, New York, to businessman James Roosevelt I and his second wife, Sara Ann Delano. His parents come from wealthy New York families, the Roosevelts, the Aspinwalls, and the Delanos, and he is the fifth cousin of Theodore Roosevelt. They were married on March 17, 1905. Over the course of their marriage, they have six children. Franklin has several extra-marital affairs, including with Eleanor's social secretary Lucy Mercer and her uncle, the naval admiral William Coolidge. The couple also has a vacation home on Campobello Island, which Sara also gave the couple. Though she considers sex \"an ordeal to be endured,\" Eleanor thinks that it should be endured.\n"
     ]
    },
    {
     "name": "stderr",
     "output_type": "stream",
     "text": [
      " 63%|██████▎   | 63/100 [2:33:52<1:38:17, 159.38s/it]"
     ]
    },
    {
     "name": "stdout",
     "output_type": "stream",
     "text": [
      "The next day, the narrator reports, they receive a letter like the one they got that morning. This one's about as exciting as it sounds: it's about to be time for lunch. The narrator describes what happened after he left to check his mail. A man named Peter ran into him on the street and said he had a message for him. Peter ran off to tell the man that he had failed to deliver his message because he was afraid to ask questions. When he returned, the man was holding up a piece of paper that looked like this:\n"
     ]
    },
    {
     "name": "stderr",
     "output_type": "stream",
     "text": [
      " 64%|██████▍   | 64/100 [2:36:07<1:31:11, 151.99s/it]"
     ]
    },
    {
     "name": "stdout",
     "output_type": "stream",
     "text": [
      "Cars is a 2006 American animated sports comedy film produced by Pixar Animation Studios for Walt Disney Pictures. It was the final film independently produced by the studio before it was purchased by Disney in January 2006. The cast includes Owen Wilson, Paul Newman, Bonnie Hunt, Larry the Cable Guy, Tony Shalhoub, Cheech Marin, Michael Wallis, George Carlin, Paul Dooley, Jenifer Lewis, Guido Quaroni, Michael Keaton, Katherine Helmond, John Ratzenberger and Richard Petty. The plot follows a young racecar named Lightning McQueen who is stranded in a forgotten town called Radiator Springs where he learns to be humbler and more respectful towards others. On the way to the Dinoco 400 race at the Los Angeles International Speedway, a mishap leaves him stranded alone in the desert town of Radiator springs. He receives an unexpected community service assignment: he is assigned to repaving the main road. In the process, he meets his old friends from \"Radiator Springs\" and revives the town. He discovers that the town was once a bustling attraction for drivers on Route 66 before the construction of Interstate 40 caused them to lose all their business traffic. He also discovers that Doc, reticent about his past, used to race as the legendary Fabulous Hudson Hornet until a disastrous crash ended his racing career. Afterward, he decides to stay in Rariviator Springs with his new friends. At the race, his friends help him rally his team and Chick wins the Piston Cup. The crowd and media furiously condemn Chick's victory but praise Lightning's integrity and sportsmanship. Although offered a Dinoco sponsorship, Lightning declines and re-signs with his current sponsor, Rust-eze Bumper Ointment. Back at Radiator sires, he reunites with Sally, Mater and the other cars and declares his intention to establish his racing headquarters there and revitalize the town, while also training under Doc's mentorship. Voice cast Owen Wilson as Lightning mcQueen and Paul Newman as Doc Hudson. Various vocal roles are given for various car types including those of Stock #1, #2, #3, #4, and #5 respectively.\n"
     ]
    },
    {
     "name": "stderr",
     "output_type": "stream",
     "text": [
      " 65%|██████▌   | 65/100 [2:37:50<1:20:14, 137.56s/it]"
     ]
    },
    {
     "name": "stdout",
     "output_type": "stream",
     "text": [
      "In this chapter, the narrator explains how asymmetric cryptography, or public key cryptography, works. In a public key encryption system, anyone can encrypt a message, yielding a ciphertext, but only those who know the corresponding private key can decrypt the ciphertext to obtain the original message. This does not conceal metadata like the source's identity or the time of the transmission. It also protects the content of the message since the secret of the public key is concealed from the recipient. Similarly, in a digital signature system, a sender can use a private key and a message to create a signature. Anyone with the corresponding public key can verify that the signature matches the message, but a forger who does not know the private key cannot be able to find any message/signature pair that will pass verification with the public one. For example, a software publisher can create a keypair and include it in a piece of software installed on a computer; later, the publisher can release an update that contains the signed public key version of the software, and any computer receiving the update can confirm it is genuine by verifying the signature using the pub key. In contrast, a malicious update that does not contain the shared public key will not be checked by any computer. As long as the publisher keeps the private keys secret, even if a forver can distribute malicious updates to the computers, they cannot convince the computers that any malicious updates are genuine. Weaknesses In order to protect against these weaknesses, security-related systems need to be constantly aware of potential weaknesses. Aside from poor choice of an asymmetric key, or too short a key length, the chief security risk is that \"the private key of a pair becomes known\". All security of messages, authentication, etc., will then be lost. Additionally, with the advent of quantum computing, many different approaches have been developed to overcome the problem.\n"
     ]
    },
    {
     "name": "stderr",
     "output_type": "stream",
     "text": [
      " 66%|██████▌   | 66/100 [2:39:57<1:16:05, 134.29s/it]"
     ]
    },
    {
     "name": "stdout",
     "output_type": "stream",
     "text": [
      "In this chapter, Wiesner describes the science of using quantum mechanics to perform cryptographic tasks. The best known example is \"quantum key distribution,\" which offers an information-theoretically secure solution to the key exchange problem. The advantage of this approach to cryptography lies in the fact that it allows the completion of various cryptographic tasks that were proven or conjectured to be impossible using conventional communication. In particular, it allows one to perform tasks that could previously be performed only by classical means. It also has applications in areas such as health care and defense where one cannot copy data that is encoded in a quantum state. This paper discusses the history of QKD. In the early 1970s, scientists began discussing the concept of quantum conjugate coding. Although they initially failed to publish their findings, they eventually published in 1983 in SIGACT News. In this paper, they showed how to store or transmit two messages by encoding them in two different types of light, such as linear and circular polarization. They can receive and decode either one or the other. It was not until Charles H. Bennett of the IBM's Thomas J. Watson Research Center and Gilles Brassard of the Paris branch of theIBM met in 1979 at the 20th IEEE Symposium on the Foundations of Computer Science, held in Puerto Rico, that they discovered how to incorporate these findings. In 1984, they published their own protocol for secure communication, now called BB84. Similarly, in 1991, Artur Ekert demonstrated a protocol based on Bell's inequalities for device-independent quantum key distribution. Companies that manufacture quantum cryptography systems include MagiQ Technologies Inc. (Boston), ID Quantique (Geneva), QuintessenceLabs (Canberra, Australia), Toshiba (Tokyo), QNu Labs (India) and Sequrenet (Paris). Advantages Cryptography is the strongest link in the chain of data security, However, interested parties cannot assume that cryptographic keys will remain secure indefinitely. Quantum cryptography has the potential to encrypt data for longer periods than classical cryptography. Using classical cryptography, scientists could guarantee encryption beyond approximately 30 years, but some stakeouts could use longer periods of protection. Take, for example, the healthcare industry, which uses electronic medical record systems to store and transmit patient data.\n"
     ]
    },
    {
     "name": "stderr",
     "output_type": "stream",
     "text": [
      " 67%|██████▋   | 67/100 [2:43:24<1:25:53, 156.18s/it]"
     ]
    },
    {
     "name": "stdout",
     "output_type": "stream",
     "text": [
      "In many countries, when a customer submits an application for credit from a bank, credit card company or store, their information is forwarded to a credit bureau. This bureau matches the name, address and other identifying information on the credit applicant with information retained by the bureau in its files. The gathered records are then used by lenders to determine an individual's credit worthiness; that is, determining an man's ability and track record of repaying a debt. Lenders like to see consumer debt obligations paid regularly and on time, and therefore focus particularly on missed payments and may not, for example, consider an overpayment as an offset for a missed payment. Calculating a credit score, using the FICO scoring system, Doyce explains several factors that affect a consumers credit score. In general, they look for any of the following negative events: charge offs, collections, late payments, repossessions, foreclosures, settlements, bankruptcies, liens and judgements. The Search for a New Credit (Credit inquiries) Various types of inquiries are noted every time a company requests some information from a consumer's credit file. There are several kinds of inquiries that may or may not affect one's credit score but all can have an effect on lenders and credit scoring models. Most lenders make credit granting decisions based on both ability to repay a debt and willingness to extend a credit card or loan. These factors help lenders determine whether to extend credit, and on what terms. The other factor in determining whether a lender will provide consumer credit or a loan is dependent on income. The higher the income, all other things being equal, the more credit the consumer can access. However, lenders must consider income in making a decision as well as ability to pay back a debt due to a history of regular, unmissed payments. How do credit reports and scores work? Although there is some debate over the accuracy of credit reports, industry participants maintain that the data in reports is very accurate. The Consumer Data Industry Association testified before the United States Congress that less than two percent of those reports that resulted in a consumer dispute had data deleted because it was in error. Nonetheless, there is widespread concern that information in credit reports is prone to error. Thus, a series of laws aimed to resolve both the errors and the perception of errors has been passed. If a US consumer disputes some information in a credit report, the credit bureau has 30 days to verify the data. The majority of these consumer disputes are resolved within 14 days and then the consumer is notified of the resolution. The Federal Trade Commission states that 95% of those who dispute an item seem satisfied with the outcome. Similarly, in Canada, the Fair Credit Reporting Act governs businesses that compile credit reports.\n"
     ]
    },
    {
     "name": "stderr",
     "output_type": "stream",
     "text": [
      " 68%|██████▊   | 68/100 [2:44:36<1:09:48, 130.88s/it]"
     ]
    },
    {
     "name": "stdout",
     "output_type": "stream",
     "text": [
      "In this chapter, Deryn Sharp explains the concept of battery electric vehicles, also known as BEVs. A battery electric vehicle is a type of electric vehicle that exclusively uses chemical energy stored in rechargeable battery packs to power propulsion. BeVs include all forms of transportation including motorbikes, scooters, skateboards, railcars, watercraft, forklifts, buses, trucks and cars. The top selling all-electric car ever is the Tesla Model 3 with 645,000 sales, closely followed by the Nissan Leaf with over 500,000 sold as of September 2020. Daryn Sharp introduces many of the terms used in the discussion of battery electrics in this chapter. She discusses the different types of battery technology such as lead-acid and lithium-ion batteries, which have different energy densities. Battery electric cars are becoming more attractive with the rise in the oil prices and the advancement of new battery technology (lithium-ion) that have higher power and energy density.\n"
     ]
    },
    {
     "name": "stderr",
     "output_type": "stream",
     "text": [
      " 69%|██████▉   | 69/100 [2:46:57<1:09:08, 133.83s/it]"
     ]
    },
    {
     "name": "stdout",
     "output_type": "stream",
     "text": [
      "A solar cell or photovoltaic cell is an electrical device that converts the energy of light directly into electricity. It can be used as a power source, detecting light or other electromagnetic radiation near the visible range, or measuring light intensity. The operation of a PV cell requires three basic attributes: The absorption of light, generating excitons. The separation of charge carriers of opposite types. The separate extraction of those carriers to an external circuit. In this chapter, we focus on the applications of solar cells in electric vehicles.Vehicular applications  Solar cars are one of the oldest alternative energy vehicles. They use solar panels to convert absorbed light into electrical energy that is then stored in batteries. Space applications for solar cells require that they be both highly efficient and extremely lightweight. Additionally, large satellites require large solar arrays to produce electricity. Several milestones have been made in the history of solar technology. Other milestones include: 1888 - Russian physicist Aleksandr Stoletov built the first cell based on the outer photoelectric effect discovered by Heinrich Hertz in 1887. 1904 - Julius Elster, together with Hans Friedrich Geitel, devised the first practical photoelectric cell. 1905 - Albert Einstein proposed a new quantum theory of light and explained the photoelectric effects in a landmark paper, for which he received the Nobel Prize in Physics in 1921. 1941 - Vadim Lashkaryov discovered p-n-junctions in Cu2O and Ag2S protocells. 1946 - Russell Ohl patented the modern junction semiconductor solar cell. 1948 - Kurt Lehovec may have been the first to explain the photovoltaic effect in the peer reviewed journal Physical Review. 1954 - The first practical photovolaic cell was publicly demonstrated at Bell Laboratories. 1958 - Solar cells gained prominence with their incorporation onto the Vanguard I satellite. 1959 - The United States launched Explorer 6 featuring large wing-shaped solar arrays, which became a common feature in satellites. 1960s - 1970s : \"Solar cells were first used in a prominent application when they were proposed and flown on the Vanguard satellite in 1958 as an alternative power source to the primary battery power source. By adding cells to the outside of the vehicle, the mission time could be extended with no major changes to the spacecraft or its power systems.\" 1988 - General Motors ended up winning the event by a significant margin with their Sunraycer vehicle that achieved speeds of over 40 mph.\n"
     ]
    },
    {
     "name": "stderr",
     "output_type": "stream",
     "text": [
      " 70%|███████   | 70/100 [2:48:06<57:08, 114.30s/it]  "
     ]
    },
    {
     "name": "stdout",
     "output_type": "stream",
     "text": [
      "Shor's algorithm is a quantum algorithm for finding the prime factors of an integer. It is one of the few known quantum algorithms with compelling potential applications and strong evidence of superpolynomial speedup compared to best known classical (that is, non-quantum) algorithms. However, factoring numbers of practical significance requires far more qubits than available in the near future. Other concern is that noise in quantum circuits may undermine results, requiring additional qubits for quantum error correction.\n"
     ]
    },
    {
     "name": "stderr",
     "output_type": "stream",
     "text": [
      " 71%|███████   | 71/100 [2:49:16<48:48, 100.98s/it]"
     ]
    },
    {
     "name": "stdout",
     "output_type": "stream",
     "text": [
      "In this chapter, Willis describes the business function concerned with \"profit, expenses, cash and credit.\" The discipline is then tasked with the \"efficient acquisition and deployment\" of both short- and long-term financial resources, to ensure the objectives of the enterprise are achieved. He focuses on short-term working capital management and manages fluctuations in foreign currency and product cycles, often through hedging. The function also entails the efficient and effective day-to-day management of funds, and thus overlaps treasury management. It is also involved with long term strategic financial management, focused on i.a. capital structure management, including capital raising, capital budgeting, capital allocation (capital allocation between business units or products) and dividend policy. Financial management is the business process concerned with profit maximization. Profit maximization happens when marginal cost is equal to marginal revenue. This is the main objective of financial management. Cash flow is the short run goal; maintaining proper cash flow ensures the survival of company; see cashflow forecast. Determining the capital structure: Capital structure is how a firm finances its overall operations and growth by using different sources of funds. Once the requirement of funds has estimated, the financial manager should decide the mix of debt and equity and also types of debt. Relationship with other areas of finance include investment management and investment strategy. The term \"financial management\" refers to a company's financial strategy, while personal finance or financial life management refers to an individual's management strategy. A financial planner, or personal financial planner, is a professional who prepares financial plans here. See Financial modeling for discussion.\n"
     ]
    },
    {
     "name": "stderr",
     "output_type": "stream",
     "text": [
      " 72%|███████▏  | 72/100 [2:53:01<1:04:30, 138.22s/it]"
     ]
    },
    {
     "name": "stdout",
     "output_type": "stream",
     "text": [
      "In this chapter, Wollstonecraft explains the concept of limited overs cricket, also known as one-day cricket, or white ball cricket, a version of the sport of cricket in which a match is generally completed in one day. The concept contrasts with Test and first-class matches, which can take up to five days to complete. One-Day cricket is popular with spectators as it can encourage aggressive, risky, entertaining batting, often results in cliffhanger endings, and ensures that a spectator can watch an entire match without committing to 5 days of continuous attendance. In terms of the game's structure, each team bats only once, and each innings is limited to a set number of overs, usually fifty in One Day Internationals and between forty and sixty in List A. List A cricket is the classification of the limited-overs (one-day) form of cricket, technically as the domestic level. Matches that qualify as List A include those played between two national teams. Other events that do not qualify for List A status include freewheeling contests such as friendly matches and duel matches. In order to prevent two top-class bowlers from playing against each other, bowling restrictions are placed on the number of total overs. Fielding restrictions are also introduced. White balls are used instead of the traditional red balls. The white balls are supposed to be otherwise identical to traditional balls, but according to BBC Sport, some cricketers claim that the harder surface causes white balls to swing more. The categorization of cricket matches as \"List A\" was not officially endorsed by the International Cricket Council until 2006, when the ICC announced that it would determine this classification similar to that done for first class matches. There are many innovations in the game of cricket made possible by the introduction of the over. For example, the use of a Super Over to decide the result of tied matches. 100-ball cricket (another form of one-doad cricket with 100 deliveries per side) became very popular in England in 2003. It makes several changes to the usual laws of cricket including the addition of a super over. One day Internationals = One Day leaguesThe idea for a limited overs, limited 50-over cricket tournament was first played in 1951 at Tripunithura in Kochi, Kerala. It is thought to be the brain child of KV Kelappan Thampuran, a former cricketer and the first Secretary of the Kerala Cricket Association. This tournament was very small but did attract commercial television coverage and positive commentary by journalists who noted the potential to attract sponsors and spectators amid declining attendance levels. The following year, the first full-scale one-ooh competition between first division teams was played, the knock-out Gillette Cup, won by Sussex. The amount of overs was reduced to 60 for the 1964 season. Both types of competitions continued to be played throughout the entire country where cricket is played. The presentation of the Royal London One Day League began in 1969 and the Royal One Hundred Cup/Royal Twenty20 cricket began in 1971. There is now one Fifty-Day Cup, the World Cup, the World Qualifier and the World Twenty20. The World Cup involves all the Test-playing nations and other national sides who qualify through the ICC World Cup Qualifier. It usually consists of round-robin stages, followed by semi-finals and a final. The international Cricket Council determines the venue far in advance. The ICC World Cricket League is an ODI competition for national teams with either Associate or Affiliate status. list A status = List A grade. Cricbric dates from the early 1900s and has been played since the late nineteenth century. Various editions of the World Rugby One Day Challenge were played during the early twentieth century.\n"
     ]
    },
    {
     "name": "stderr",
     "output_type": "stream",
     "text": [
      " 73%|███████▎  | 73/100 [2:56:40<1:13:11, 162.64s/it]"
     ]
    },
    {
     "name": "stdout",
     "output_type": "stream",
     "text": [
      "Efficiency of solar cells is the \"portion of energy in the form of sunlight that can be converted via photovoltaics into electricity by the solar cell. The efficiency of a solar cell, in combination with latitude and climate, determines the annual energy output of the system. For example, a solar panel with 20% efficiency and an area of 1 m2 will produce 200 kWh/yr if exposed to the Standard Test Condition solar irradiance value of 1000 W/m2 for 2.74 hours a day. In addition, the dispersion and intensity of solar radiation vary greatly between each country. The global regions that have high radiation levels throughout the year are the Middle East, Northern Chile, Australia, China, and Southwestern U.S. In a high-yield solar area like central Colorado, which receives 2000 kWh/mm2/year, a panel can be expected to produce 400 kWh/year; however, in Michigan, where the area receives only 1400 kWh/minor, yields are significantly lower. Several factors affect a cell's conversion efficiency, including its reflectance, temperature, thermodynamic efficiency, charge carrier separation efficiency, quantum efficiency, open-circuit voltage, and fill factor. As of 2022, the world record for solar cell efficiency is 47.1% set in 2019 by multi-junction concentrator solar cells developed at National Renewable Energy Laboratory (NREL) in Golden, Colorado,USA. The record in real-world conditions is also held by NREL, who developed triple junction cells with a tested efficiency of 39.5%. Factors affecting energy conversion efficiency were expounded in a landmark paper by William Shockley and Hans Queisser in 1961. See Shockley-Queisser limit and infinite-stack limit. If one has a source of heat at temperature Ts and cooler heat sink at temperature Tc, the maximum theoretically possible value for the ratio of work obtained from heat to heat produced is 1 Tc/Ts. If we take 6000 K for the temperature of the sun and 300 K for ambient conditions on earth, this comes to 95%. In 1981, Alexis de Vos and Herman Pauwels showed that this is achievable with a stack of an infinite number of cells with band gaps ranging from infinity to zero. This means that the electric power supplied by the stack is 95% of the net amount of light absorbed. Quantum efficiency refers to the percentage of photons that are converted to electric current when the cell is operated under short circuit conditions. There are two types of quantum that are usually referred to when talking about solar cells. The external quantum efficiency includes the external quantum property of the solar array as well as the effect of optical losses such as transmission and reflection. In particular, some measures can be taken to reduce these losses. The reflection losses can be dramatically reduced using a technique called \"texturization.\" The internal quantum efficiency is the product of the scientific method known as \"light trapping,\" a method that modifies the average light path. The second type is the internalquantum efficiency, this measurement of the internalQuantum efficiency gives a deeper insight of the material itself. It consists of several parameters other than those previously discussed. Reflectance losses are accounted for by the quantum efficiency value, as they affect \"external quantum efficiency\" while recombination losses are calculated by the qubit ratio. Resistive losses are primarily accounted for through the fill factor but also contribute to the quantum efficiencies and VOC ratio values.\n"
     ]
    },
    {
     "name": "stderr",
     "output_type": "stream",
     "text": [
      " 74%|███████▍  | 74/100 [3:01:45<1:28:53, 205.12s/it]"
     ]
    },
    {
     "name": "stdout",
     "output_type": "stream",
     "text": [
      "In this chapter, Mill explains the concept of power. Power is the social production of an effect that determines the capacities, actions, beliefs, or conduct of actors. It does not only refer to threat or use of force by one actor against another, but may also be exerted through diffuse means (such as institutions). Power may also take structural forms such as distinguishing between a master and an enslaved person, a householder and their relatives, an employer and their employees, a parent and their child, a political representative and their voters, etc. The term authority is often used for power that is perceived as legitimate or socially approved by the social structure. Power can be seen as either evil or unjust, however, power can also be good and as something inherited or given for exercising humanistic objectives that will help, move, and empower others as well. In social science and politics, power refers to influence in the following way: power is relative; it depends on the specific understandings A and B each apply to their relationship and requires B's recognition of a quality in A that would motivate B to change in the way A intends. Drawing on the wrong power base can have unintended effects, including a reduction in A's own power. Mill identifies five bases of power according to which sources of power exist. Legitimate power = \"positional power\". This is the power of an individual because of the relative position and duties of the holder of the position within an organization. Coercive power includes threats and coercion. Referent power is the ability of individuals to attract others and build loyalty. Abuse is possible when someone who lacks integrity and honesty rises to power, placing them in a situation where they are able to gain personal advantage at the cost of the group's position. Expert power = Qualified power  refers to the skills or expertise of the people in an organization with whom the organization needs to function efficiently. Unlike the others, people tend to look to these areas of expertise rather than looking to themselves. Reward power is similar to co-operation power insofar as rewards are given frequently. Threats and punishment are common tools of coercion. Implying or threatening that someone will be fired, demoted, denied privileges, or given undesirable assignments - these are characteristics of using coercive power. Extensive use of coercive power is rarely appropriate in an organizational setting, and relying on these forms of power alone will result in a very cold, impoverished style of leadership. This is a type of power commonly seen in the fashion industry by coupling with legitimate power; it is referred to in the industry-specific literature as \"glamorization of structural domination and exploitation\". Principles in interpersonal relationships  include Laura K., Peter A., Geric R. Andersen, Close Encounters, Communication in Relationships, and Principles in Social Relationships. Power as a perception: Power is a perception in the sense that some people can have objective power but still have trouble influencing others. Some people become influential even though they don't overtly use powerful behavior. Power exists in relationships. Power tends to be unstable alone and is not enough for a leader who wants longevity and respect. When combined with other sources ofpower, however, it can help a person achieve great success. Generous power is derived from mutual understanding and consensus. Dependence power indicates that those dependent on their relationship or partner are less powerful, especially if they know their partner is uncommitted and might leave them. soft power and hard power == Theories ============ Definitions of Base Power : Power is different from influence. Influence is the state of affairs that holds in a given relationship, A-B, such that a given influence attempt by A over B makes A's desired change in B more likely. Conceived this way, power is fundamentally relative. French and Raven define power as the sum of all the qualities that hold power relevant to the relationship between two parties involved. They divide power into five major qualities. French defines power as being based on the five significant categories of such qualities while not excluding other minor categories. Quoting John R. P. French'1959 classic study, Sociology of Power, social psychologists John Roxane French and Bertram Raven develop a schema of sources of powers by which to analyse how power plays work work work/fail to work in a specific relationship. Further bases have since been argued by Gareth Morgan in his 1986 book Images of Organization. Leguine power = Legitimate physical power, also called \"positific power,\" is the same kind of power held by an individual due to the relative standing of the person holding the position. Referential power is indirect power--the ability of men to appeal to others and win loyalty. Nationalism and patriotism count towards an intangible sort of referent power. Referring to sports figures for product endorsements, Mill discusses the negative influence of commercial power. Direct power is any form of power that has little real credibility outside the sports arena. Intruder power is anyone who uses direct power to get what they want without getting any benefit from it. Hard power is anything that induces others to yield.\n"
     ]
    },
    {
     "name": "stderr",
     "output_type": "stream",
     "text": [
      " 75%|███████▌  | 75/100 [3:02:15<1:03:39, 152.77s/it]"
     ]
    },
    {
     "name": "stdout",
     "output_type": "stream",
     "text": [
      "In this list of the youngest and oldest presidents by age, Age of Presidents is plotted. In order of decreasing age, the first table charts the age of each president of the United States at the time of his or her inauguration, first inauguration if elected to multiple and consecutive terms, upon leaving office, and lifetime span from January 2023 to December 6, 2023. The youngest president was Theodore Roosevelt at age 42, the youngest at his election to the office was John F. Kennedy at age 43, the most recent president was Barack Obama at age 62, and the longest lived president was Jimmy Carter at age 99. Presidential age-related data is also plotted in graphical form.\n"
     ]
    },
    {
     "name": "stderr",
     "output_type": "stream",
     "text": [
      " 76%|███████▌  | 76/100 [3:06:48<1:15:29, 188.73s/it]"
     ]
    },
    {
     "name": "stdout",
     "output_type": "stream",
     "text": [
      "Most presidents of the United States received a college education, even the earliest. College degrees have set the Presidents apart from the general population, and presidents have held degrees even though it was quite rare and unnecessary for practicing most occupations, including law. Of the 45 individuals to have been the president, 25 graduated from a private undergraduate college, nine graduated from public undergraduate colleges, 12 graduated from no degree and 12 attended graduate schools. Of these, every president since 1953 has had a bachelor's degree, reflecting the increasing importance of higher education in the nation. The following is a list by university attended and did not graduate from college. Some presidents attended more than one institution. Some scholars believe that some presidents attended multiple institutions. George Washington never attended college, although the College of William & Mary did issue him a surveyor's certificate. A total of 20 presidents attended some form of graduate school. Many who were lawyers did not attend law school but became lawyers after independent study under the tutelage of established attorneys. Some had attended college before beginning their legal studies, and several studied law without first having attended college. Records on the number of years spent in college are available at the end of this chapter.\n"
     ]
    },
    {
     "name": "stderr",
     "output_type": "stream",
     "text": [
      " 77%|███████▋  | 77/100 [3:07:43<57:01, 148.74s/it]  "
     ]
    },
    {
     "name": "stdout",
     "output_type": "stream",
     "text": [
      "In mathematics and computer science, an algorithm is a finite sequence of rigorous instructions, typically used to solve a class of specific problems or to perform computation. More advanced algorithms can use conditionals to divert the code execution through various routes, refer to as automated decision-making. In contrast, a heuristic is an approach to problem solving that may not be fully specified or may not guarantee correct or optimal results. The transition from one state to the next is not necessarily deterministic; some algorithms, known as randomized algorithms, incorporate random input. Throughout history, step-by-step procedures for solving mathematical problems have been attested. Algorithms are used as specifications for performing calculations and data processing. In addition, they can be used to make automated decisions and inferences.\n"
     ]
    },
    {
     "name": "stderr",
     "output_type": "stream",
     "text": [
      " 78%|███████▊  | 78/100 [3:10:02<53:26, 145.76s/it]"
     ]
    },
    {
     "name": "stdout",
     "output_type": "stream",
     "text": [
      "In this chapter, Wollstonecraft explains the concept of energy storage, which is \"the capture of energy produced at one time for use at a later time to reduce imbalances between energy demand and energy production. Energy storage involves converting energy from forms that are difficult to store to more conveniently or economically storable forms. Some technologies provide short-term energy storage while others can endure for much longer. Bulk energy storage is dominated by hydroelectric dams, but there are also pumped-storage hydroelectricity (PSH) systems as well as compressed air energy storage. Flown energy storage consists of gas turbines, solar panels, and other energy storage devices. The author discusses the different types of energy stored in various forms: \"energy comes in multiple forms including radiation, chemical, gravitational potential, electrical potential, electricity, elevated temperature, latent heat and kinetic.\" In the industrial revolution, electrical power was largely generated by burning fossil fuel, but with increasing concerns about air pollution, energy imports, and climate change, the growth of renewable energy such as solar and wind power has led to the adoption of these sources. Access to electricity is now a question of economics and financial viability, and not solely on technical aspects. Similarly, electric vehicles are gradually replacing combustion engines. However, powering long-distance transportation without burning fuel remains in development. energy storage differs from conventional energy storage in that it does not involve burning fuel. It can be useful for both storing energy during times of over-production and when the demand for electricity increases or decreases. Several energy storage methods are used in the utility-scale power grid: mechanical energy storage, electrochemical, battery, large dams, and direct current generation. Most notably, pumped-source energy storage--the ability to store and release energy at times of peak demand is very useful.\n"
     ]
    },
    {
     "name": "stderr",
     "output_type": "stream",
     "text": [
      " 79%|███████▉  | 79/100 [3:11:32<45:10, 129.06s/it]"
     ]
    },
    {
     "name": "stdout",
     "output_type": "stream",
     "text": [
      "The Deutsch-Jozsa problem is a black box problem that can be solved efficiently by a quantum computer with no error. It yields an oracle, or an equal or equivalent class of problems on a classical computer. For this reason, it falls under the category of \"semi-comic\" or \"routinely solved.\" The problem is solved in such a way that the outcome is immediately apparent to all involved. The end.\n"
     ]
    },
    {
     "name": "stderr",
     "output_type": "stream",
     "text": [
      " 80%|████████  | 80/100 [3:12:04<33:18, 99.90s/it] "
     ]
    },
    {
     "name": "stdout",
     "output_type": "stream",
     "text": [
      "A storage room or storeroom is a room in a building for storing objects. It is not designed for permanent residence, but is more appropriate for short-term storage. In dwelling, storage rooms are used to store less used tools and items that are not used on a daily basis. They can be lockable and can be located in a housing unit or a common area, indoors or outdoors. Renting out storage space is one of the most common ways people go about renting out their self-storage space. Television shows and other storage rooms can try to help people deal with hoarders. The Hoarders is one such show.\n"
     ]
    },
    {
     "name": "stderr",
     "output_type": "stream",
     "text": [
      " 81%|████████  | 81/100 [3:12:58<27:17, 86.20s/it]"
     ]
    },
    {
     "name": "stdout",
     "output_type": "stream",
     "text": [
      "In this chapter, Deryn Sharp explains the concepts of classical mechanics, which are used to describe the motion of large objects such as spacecraft, planets, stars and galaxies. She also introduces concepts such as velocity and acceleration. Finally, she gives a historical overview of the field of quantum mechanics.\n"
     ]
    },
    {
     "name": "stderr",
     "output_type": "stream",
     "text": [
      " 82%|████████▏ | 82/100 [3:14:00<23:39, 78.86s/it]"
     ]
    },
    {
     "name": "stdout",
     "output_type": "stream",
     "text": [
      "A quantum computer is a type of computer that takes advantage of \"quantum mechanical phenomena. At small scales, physical matter exhibits properties of both particles and waves, and quantum computing leverages this behavior, specifically quantum superposition and entanglement. It represents a two-state system, just like a classical bit. The design of quantum algorithms involves creating procedures that allow a quantum computer to perform calculations efficiently and quickly. However, the current state of the art is largely experimental and impractical, with several obstacles to useful applications. \"Quantum supremacy\" has drawn significant attention to problems that can be solved on a large scale quantum computer whereas classical computers would not finish \"such tasks\" in sufficient time. For many years, the fields of quantum mechanics and computer science have been meeting in distinct academic communities. From the 1920s to the early 1980s, scientists have been inventing ways to make devices that can perform certain tasks more easily than previous generations' machines. Over the next ten years, advances in technology such as superconductors and ion traps have continued to develop.\n"
     ]
    },
    {
     "name": "stderr",
     "output_type": "stream",
     "text": [
      " 83%|████████▎ | 83/100 [3:16:12<26:53, 94.92s/it]"
     ]
    },
    {
     "name": "stdout",
     "output_type": "stream",
     "text": [
      "The novel opens with the biography of Peter David Shore, Baron Shore of Stepney. It is written by Patrick Cosgrave, who describes him as \"the only possible Labour Party leader of whom a Conservative leader had cause to walk in fear\" and along with Enoch Powell one of the \"most captivating rhetoricians of the age\". In his obituary, Cosgrave comments that between Harold Wilson and Tony Blair he is the only Labour leader whom a Tory leader had occasion to fear. His politics career begins with his joining the Labour Party in the early 1950s. He becomes head of the party's research department and later serves as head of its policy committee. During the period of World War II he served in the Royal Air Force and spent most of his time in India. He became a member of the Cambridge Apostles, an elite society with an elite membership during the later stages of the war. He belongs to the political economy section of the history club. He joins the Labour Partys Research Department and takes charge of the renewal of party policy after its third consecutive defeat in 1959. He supports Hugh Gaitskell but his adherence to the Campaign for Nuclear Disarmament from 1958 leads to a breach in relations for several years. He comes close to Harold Wilson when Wilson is elected as party leader in 1964. When Wilson appoints Shore Parliamentary Private Secretary to serve as Parliamentary Secretary to the Prime Minister, he makes him Shadow Minister for Economic Affairs. From 1967 to 1969 he serves as Secretary of State for economic affairs under Michael Foot. From 1969 to 1972 he holds the post of Minister without Portfolio. From 1972 to 1974 he was Secretary of state for Trade. From 1974 until his death he was a Member of the Board of Trustees of the Tower Hamlets hospital. The family is traced back to Great Yarmouth, Norfolk. They have two sons and two daughters. On September 27, 1948, they married Dr. Elizabeth Murray, Duchess of Shore and Catherine Wrong. They had two daughters and two sons. In Chapter 2, we are introduced to the mother of the three Shore children. She is described as a middle-class person living in a middle class environment. Her main interests are medicine and women's health. A further section is given in which focuses on her work with the public health service. This section ends with a discussion of Margaret Thatcher.\n"
     ]
    },
    {
     "name": "stderr",
     "output_type": "stream",
     "text": [
      " 84%|████████▍ | 84/100 [3:17:47<25:16, 94.80s/it]"
     ]
    },
    {
     "name": "stdout",
     "output_type": "stream",
     "text": [
      "In this chapter, Wollstonecraft explains the concept of energy, or \"activity,\" which is a \"quantitative property that is transferred to a physical system, recognizable in the performance of work and in the form of heat and light.\" Energy is a conserved quantity. It can be converted into form, but not created or destroyed. The unit of measurement for energy in the International System of Units (SI) is the joule. Common forms of energy include the kinetic energy of a moving object, the potential energy stored by an object, elastic energy stored in a solid object, chemical energy associated with chemical reactions, the radiant energy carried by electromagnetic radiation, and the internal energy contained within a thermodynamic system. In addition, there are many other types of energy used in practical applications. For example, food safety, public health, and industrial processes all depend upon energy. The word energy derives from Ancient Greek and means \"activity.\" It was first used in the 4th century B.C. by Hippolytus Aeneas' work on energeia, lit. \"activity, operation,\" which possibly appears for the first time in the work of Aristotle in the fourth century BC. In classical mechanics, energy is a conceptually and mathematically treated property, as it is a core concept. Work, a function of mechanics have been developed using energy as a single concept. Various economic theories have been proposed over the years. The concept of conservation of energy has been applied to several different kinds of phenomena.\n"
     ]
    },
    {
     "name": "stderr",
     "output_type": "stream",
     "text": [
      " 85%|████████▌ | 85/100 [3:18:52<21:27, 85.83s/it]"
     ]
    },
    {
     "name": "stdout",
     "output_type": "stream",
     "text": [
      "Grover's algorithm, also known as the \"quadracheal search algorithm,\" is a type of search that finds the most probable solution to a problem by examining only the inputs to a black box function. It was devised by Lov Grover in 1996. It can be used for both classical and non-classical problems. For example, one could use it to find the correct answer to a riddle in a text book.\n"
     ]
    },
    {
     "name": "stderr",
     "output_type": "stream",
     "text": [
      " 86%|████████▌ | 86/100 [3:19:13<15:31, 66.50s/it]"
     ]
    },
    {
     "name": "stdout",
     "output_type": "stream",
     "text": [
      "The regulation of sport is done by a sport governing body, resulting in a core of agreed rules. This method promotes a sport globally, in a very successful way. It also promotes the universality of each sport by ensuring that the same gameplay rules are being practiced worldwide. The regulation of sports is also highly regulated, with contracts limiting who can show footage.\n"
     ]
    },
    {
     "name": "stderr",
     "output_type": "stream",
     "text": [
      " 87%|████████▋ | 87/100 [3:20:48<16:13, 74.88s/it]"
     ]
    },
    {
     "name": "stdout",
     "output_type": "stream",
     "text": [
      "This is a list of presidents of the United States by other offices, either elected or appointed. All except Donald Trump have served as at least one of the following: Vice President; senators; a member of Congress; a governor of a state; a Cabinet secretary; a general of the U.S. Army. The executive branch of the government elects the president. The vice-presidents include thirteen former vice presidents who all attempt to run for the presidency but fail. Of these, three attempt to do so and win the election: Humphrey, Mondale, and Gore. Ambassadors are included as well as federal judicial appointees. Senators serve together in the House of Representatives and several future presidents serve with each other in the Senate. Representatives are elected without ever serving as the vice-president. Senators become involved in political life only after they reach the Senate and begin their presidencies. This practice known as \"presidencies\" takes place between the creation of the House and the adoption of the Constitution. Representatives represent the interests of the people and not the government. Senators represent the states and representatives of the governed. There are no women in this list. It is interesting to note that Abraham Lincoln, John Adams, Thomas Jefferson, William Henry Bolingbroke, James Madison, Alexander Hamilton, and Martin Van Buren were all assassinated before they attained the office of the presidency. Benjamin Harrison briefly served under both Woodrow Wilson and Theodore Roosevelt. Both Buchanan and Pierce served under Vice Presidents Van Bourn (182900) and Tyler (1834) and later served with Pierce (1837&#8216&#1842&#631741&#6420&#65191825&#881&#894&#903&#942&#9501&#1001 &#1002 And here's a fun fact: Abraham Lincoln would continue to serve alongside each other (1848–1849). Garfield was elected senator for Ohio in 1880, but he did not take up the office due to being elected President later that year. His term ended in 1892.\n"
     ]
    },
    {
     "name": "stderr",
     "output_type": "stream",
     "text": [
      " 88%|████████▊ | 88/100 [3:24:11<22:40, 113.40s/it]"
     ]
    },
    {
     "name": "stdout",
     "output_type": "stream",
     "text": [
      "A stadium, or stadia, is a place or venue for outdoor sports, concerts, or other events. It can be a field or stage surrounded by a tiered structure designed to allow spectators to stand or sit and view the event. Many large sports venues are also used for concerts. The word \"stadium\" comes from the Greek word \"stadion\" which means \"to build\". A typical type of stadion is a 600-foot (180 m) long fixed dome. Most stadions have an enclosed space that can hold at least 10,000 people.Types Of Stadiums The first stadiums were basic facilities designed for the purpose of fitting as many spectators in as possible. With the growth of organized sport in the late Victorian era, especially association football, baseball, cricket, and baseball in the United States, the first such structures were built. They became the most important structures. Other popular stadium sports include gridiron football,baseball, baseball, cricket, the various codes of rugby, lacrosse, bandy, bandys, and bullfighting. Etymology \"Stadium\" is the Latin form of the Greek equivalent of the Roman word \"stadtion\". In classical times the word meant \"place of meeting,\" but it was more commonly used for public gathering places like theaters and amphitheaters. Modernity The first modern stadiums were those that caters to the use of organized sports. They were distinguished from conventional stadiums by their enclosing roofs. Some had partial retractable seating arrangements and some had moveable fields. The term \"dome\" has become standard for all covered stadiums. Seats were separated according to the size of the capacity. Even though there were no running tracks or dedicated arenas, athletics could be accommodated in these types of stadiums. Domes were connected to the greater spaces through truss supported by perforated tunnels. Commercially, commercial enterprises often invested in new technology such as soundproofing and artificial turf. More recently, along came the rise of ebullient private hospitals and social housing. These developments took place in developed nations such as England, Ireland, France, Germany, Spain, Italy, and Turkey. All these sources of income were then combined with state-of-the-art industrial power. Transportation was seen as the mainstay of civilization until World War I. Thereafter, investment in infrastructure led to the development of railways, automobiles, light railroads, telegraph wires, electric lighting, telephone service, and the railway system. What we now have access to today consists of roads, railways, motorways, passenger trains, and freight freeways. Our narrator takes pains to explain the distinction between these three different types of transportation. He does not want to overemphasize the importance of efficient transportation; however, he does see the benefits of investing in infrastructure when it comes to safety and efficiency. For example, if a train station needs to be repaired, it can easily be done without putting in more than one track. If a railroad yard needs replacing due to bad weather, they can simply be torn down and replaced with more modern tracks.\n"
     ]
    },
    {
     "name": "stderr",
     "output_type": "stream",
     "text": [
      " 89%|████████▉ | 89/100 [3:27:31<25:33, 139.41s/it]"
     ]
    },
    {
     "name": "stdout",
     "output_type": "stream",
     "text": [
      "In this chapter, Willis explores the concept of credit risk and how lenders manage it. In a nutshell, \"credit risk\" is when a borrower fails to make timely payments on a loan or credit card. To mitigate credit risk, lenders perform a credit check on the borrower, require the borrower to take out appropriate insurance, such as mortgage insurance, or seek security from a third party. In addition, lenders may charge higher interest rates on loans that are too far past due. Risk-based pricing - Lenders may charge a higher interest rate to borrowers who are more likely to default on their loans. Concentration risk - The risk associated with any single exposure or group of exposures with the potential to produce large enough losses to threaten a bank's core operations. Country risk - Losses resulting from a sovereign state freezing foreign currency payments (transfer/conversion risk) or when it defaults on its obligations (sovereign risk); this type of risk is prominently associated with the country's macroeconomic performance and its political stability. Assessment - Significant resources and sophisticated programs are used to analyze and manage risk. Most lenders employ their models (credit scorecards) to rank potential and existing customers according to risk, and then apply appropriate strategies. Credit scoring models also form part of the framework used by banks or lending institutions to grant credit to clients. Various sources of information about credit risk are used including: operating experience, management expertise, asset quality, and leverage and liquidity ratios. Counterparty risk === A counterparty risk, also known as a settlement risk or counterparty credit risk covenant, is a risk that a counterparty will not pay as obligated on a bond, derivative, insurance policy, or other contract. Financial institutions or other transaction counterparties may hedge or take out credit insurance or, particularly in the context of derivatives, requirement the posting of collateral. This can occur due to temporary liquidity issues or longer-term systemic reasons. Risk sensitive methodology - It is a \"risk-sensitive methodology.\" Mitigation measures include: Diversification - Lending to a small number of borrowers may reduce credit risk by diversifying the borrower pool. Deposit insurance - Governments may establish deposit insurance to guarantee bank deposits in the event of insolvency and encourage consumers to hold their savings in the banking system instead of in cash. Many Sovereign Sovereign risk means the inability or inability of a government to meet or meet its loan obligations; for example, governments may refuse or be unable to pay its loan obligation or guarantee the existence of certain loans. Sovereign risk considerations include the sovereigns sovereign balance sheet, sovereign wealth funds, foregone taxes, and the sovereign reserve ratio. Intrinsic Risk - Uncertainty regarding the value of future returns on invested capital can result in higher borrowing costs.\n"
     ]
    },
    {
     "name": "stderr",
     "output_type": "stream",
     "text": [
      " 90%|█████████ | 90/100 [3:28:42<19:47, 118.79s/it]"
     ]
    },
    {
     "name": "stdout",
     "output_type": "stream",
     "text": [
      "The history of film technology traces the development of techniques for the recording, construction and presentation of motion pictures. When the medium came about in the 19th century, there already was a centuries old tradition of screening moving images through shadow play and the magic lantern that were very popular with audiences in many parts of the world. In the first years after this breakthrough, most motion pictures lasted about 50 seconds. By the end of the 1920s, movies grew much longer and the medium quickly developed into one of the most important tools of communication and entertainment. The rise of new media and digitization have caused many aspects of different media to overlap with film, resulting in shifts in ideas about the definition of film. To differentiate film from television, distinguishable characteristics are: a film is usually not transmitted live and is commonly a standalone release, or at least not part of a very regular ongoing schedule. The term \"film\" mostly refers to relatively long and big productions that can be best enjoyed by large audiences on a large screen in a movie theatre, usually relating a story full of emotions, while the term \"video\" is mostly used for shorter, small-scale productions that seem to be intended for home viewing, or for instructional presentations to smaller groups.\n"
     ]
    },
    {
     "name": "stderr",
     "output_type": "stream",
     "text": [
      " 91%|█████████ | 91/100 [3:31:26<19:51, 132.34s/it]"
     ]
    },
    {
     "name": "stdout",
     "output_type": "stream",
     "text": [
      "The history of film chronicles the development of a visual art form created using film technologies that began in the late 19th century. The advent of film as an artistic medium is not clearly defined, but the commercial, public screening of ten of the Lumière brothers' short films in Paris on December 28, 1895 is regarded as the breakthrough of projected cinematographic motion pictures. Prior pioneers had shown their self-made Bioscop to a paying audience on 1 November 1895, but they lacked the quality, financial backing, stamina, and luck to find the momentum that made the cinématographe Luminère into worldwide success. The first decade of motion pictures saw film move from a novelty to an established mass entertainment industry, with film production companies and studios established all over the world. During the early 1900s, television, home video, and the internet influenced the distribution and consumption of films. Various film genres emerged and enjoyed variable degrees of success over time, with huge differences among, for instance, horror. Advances towards projection William Kennedy Dickson patents a device that can produce visuals to accompany the sounds produced from the phonograph. Building upon previous machines by Muybridge, Marey, Anschütz and others, Dickson and his team created the Kinetoscope peep-box viewer, with celluloid loops containing about half a minute of motion picture entertainment. Many of the movies featured well-known vaudeville acts performing in multiple viewing parlorors across major cities by 1895. As the initial novelty wears off, the invention causes a duchess of films and causes business to wane. The Dickson Company eventually provides sound accompaniment to many of the Dickson recordings. Rixtographography, or \"chronophotography,\" was conducted in addition to recording locomotion. In 1887, Ottomar Anschutz begins presenting his chronophotographic recordings in motion using a device he called the Elektrischen Schnellseher. By 1891, he had started mass production of a coin-operated peep box viewing device of the same name that was exhibited at international exhibitions and fairs. Improvements in digital methods and techniques became more and more popular during the 1990s.\n"
     ]
    },
    {
     "name": "stderr",
     "output_type": "stream",
     "text": [
      " 92%|█████████▏| 92/100 [3:34:00<18:31, 138.92s/it]"
     ]
    },
    {
     "name": "stdout",
     "output_type": "stream",
     "text": [
      "An electric car or electric vehicle (EV) is a passenger automobile that is propelled by an electric traction motor. Compared to conventional internal combustion engine (ICE) vehicles, electric cars are quieter, more responsive, have superior energy conversion efficiency and no exhaust emissions, and lower overall vehicle emissions. The term \"electric car\" typically refers to battery electric vehicle, but may also include plug-in hybrid electric vehicle/PHEV, range-extended electric vehicle /REEV, and fuel cell electric vehicle. The electric vehicle battery usually needs to be plugged into a main electricity power supply for recharging, in order to achieve the cruising range. Recharging an electric car can be done at a variety of charging stations; these charging stations can be installed in private homes, parking garages and public areas. There are also research and development in other technologies such as battery swapping and inductive charging. As the recharging infrastructure is still in its relative infancy, range anxiety and time cost are frequent psychological obstacles against electric cars during consumer purchasing decisions. By 2023, China will have the largest stock of electric vehicles in the world. China currently has the largest government incentive for electric vehicles, tax credits, subsidies, and other non-monetary incentives, while several countries have legislated to phase-out sales of fossil fuel cars, to reduce air pollution and limit climate change. EVs are expected to account for nearly one-fifth of global car sales by 2023 according to the International Energy Agency. Throughout the 20th century, electric vehicles become increasingly popular until advances in internal-combustion engine engines and mass production of cheaper gasoline- and diesel-powered vehicles, especially the Ford Model T, led to a decline. In the early 1990s, the California Air Resources Board (CARB) begins to push for more fuel-efficient, lower-emissions vehicles, with the ultimate goal of a move to zero-emission vehicles such as electric vehicles. In response, automakers develop electric models. Better Place, a venture backed company based in Palo Alto, California, develops and sells battery charging and battery swapping services for electric cars. The company plans to deploy electric vehicle networks in Israel, Denmark and Hawaii on a country-by-country basis. In January 2008, Better Place announces a memorandum of understanding with Renault-Nissan to build the world's first Electric Recharge Grid Operator (ERGO) model for Israel. Under the agreement, Better Place would build the electric recharge grid and Renault- Nissan would provide the electric automobiles. However, the company's financial difficulties were caused by mismanagement, wasteful efforts to establish toeholds and run pilots in too many countries, the high investment required to develop the charging and swapping infrastructure, and a market penetration far lower than originally predicted.\n"
     ]
    },
    {
     "name": "stderr",
     "output_type": "stream",
     "text": [
      " 93%|█████████▎| 93/100 [3:35:17<14:02, 120.32s/it]"
     ]
    },
    {
     "name": "stdout",
     "output_type": "stream",
     "text": [
      "In this chapter, the narrator explains the rise of streaming television and how this service differs from traditional terrestrial television. Streaming television is the \"digital distribution of television content over the Internet\". It differs from dedicated terrestrial television in that it can be delivered over the cloud rather than over the air. The term \"streaming\" was used for the first time in this chapter. In the early 1990s, it was not possible to squeeze enough information out of a single cable or telephone connection to provide an acceptable quality streaming service. By the late 2000s, however, due to developments in technology such as MPEG- compression and HTTP-based streaming, many companies began offering streaming services. Today, more and more content is streamed over the web and on-demand services such as Netflix, Amazon Instant Video, and Amazon Prime Video offer streaming services as a means for watching television. Access control Some streaming services incorporate digital rights management (DRI) systems where parents are required to grant parental control over their children's access to streaming content. Others have honor systems where users are asked to prove their age and birth date in order to be able to watch certain content. Smart TVs took over the television market after 2010 and continue to partner with new providers to bring streaming video to even more users. As of 2015, smart TVs are the only type of middle-class television being produced.\n"
     ]
    },
    {
     "name": "stderr",
     "output_type": "stream",
     "text": [
      " 94%|█████████▍| 94/100 [3:36:43<11:00, 110.01s/it]"
     ]
    },
    {
     "name": "stdout",
     "output_type": "stream",
     "text": [
      "The Data Encryption Standard (DES) is a symmetric-key algorithm for the encryption of digital data. Although its key length of 56 bits makes it too small for many modern applications, it has had a long history and has been influential in the advancement of cryptography. It was developed by IBM and based on an earlier design by Horst Feistel. In 1973, the agency of the National Bureau of Standards solicits proposals for a data encryption standard. After consulting with the National Security Agency, the NBS selected a slightly modified version (strengthened against differential cryptanalysis, but weakened against brute-force attacks), which was published as an official Federal Information Processing Standard (FIPS) for the United States in 1977. The publication of the NSA-approved encryption standard led to its quick adoption and widespread academic scrutiny. Controversies arose from classified design elements, a relatively short key length, the symmetric block cipher design, and the involvement of theNSA, raising suspicions about a backdoor. The S-boxes that had prompted those suspicions were designed by the NSA to remove a backdoor they secretly knew (differential cryptanalysis). However, the key size was drastically reduced so that they could break the cipher by brute force attack. DES is believed to be nearly secure in its original form, Triple DES, although there are theoretical attacks. It has been superseded by the Advanced Encrypt Standard (AES) and later by the Foreign Service's own Vermeer.\n"
     ]
    },
    {
     "name": "stderr",
     "output_type": "stream",
     "text": [
      " 95%|█████████▌| 95/100 [3:38:35<09:13, 110.67s/it]"
     ]
    },
    {
     "name": "stdout",
     "output_type": "stream",
     "text": [
      "In quantum computing, an algorithm is an algorithm that runs on a realistic model of quantum computation, the most commonly used model being the quantum circuit model of computation. A classical (or non-quantum) algorithm is one that has a finite sequence of instructions or step-by-step procedure for solving a problem, whereas a quantum algorithm is a step by step procedure, where each of the steps can be performed on a quantum computer. In this chapter, the term \"quantum algorithm\" is used for those algorithms which seem inherently quantum or use some essential feature of quantum calculation, such as quantum superposition or quantum entanglement. Problems which are undecidable using classical computers remain undicidable using quantum computers. The best-known algorithms are Shor's algorithm for factoring and Grover's algorithm to searching an unstructured database or an ordered list. Shor performs about ten times faster than the best classical algorithm for addition and running a sieve. Overview Quantum algorithms are usually described in terms of their circuit form, with a quantum circuit that acts on some input qubits and terminates with a measurement. They may also be stated in other models ofQuantum computation such as the Hamiltonian oracle model. Quantum algorithms can be categorized by the main techniques used by the algorithm. Some commonly used techniques/ideas in quantum algorithms include phase kickback, phase estimation, the quantum Fourier transform, quantum walks, amplitude amplification, quantum dilution, quantum amplitude amplification and topological quantum field theory.\n"
     ]
    },
    {
     "name": "stderr",
     "output_type": "stream",
     "text": [
      " 96%|█████████▌| 96/100 [3:39:54<06:44, 101.21s/it]"
     ]
    },
    {
     "name": "stdout",
     "output_type": "stream",
     "text": [
      "In this chapter, the author explains the concept of a solar cell and its relationship to electricity. A solar cell is a device that uses light to produce electricity. It consists of two semiconductor elements, one an \"n\" type with free electrons and the other a \"p\" type without free electrons, i.e., no holes. When a cell is exposed to sunlight, it loses energy as it moves through the n-type part of the cell and gains it back through the p-type portion, thus creating an electric current. The efficiency of a cell based on this principle is determined by the amount of energy that is released from the cell into the surrounding environment.\n"
     ]
    },
    {
     "name": "stderr",
     "output_type": "stream",
     "text": [
      " 97%|█████████▋| 97/100 [3:41:43<05:10, 103.40s/it]"
     ]
    },
    {
     "name": "stdout",
     "output_type": "stream",
     "text": [
      "In this chapter, Wollstonecraft explains the concept of power, or energy conversion, in terms of energy transferred and converted per unit time. Power is a scalar quantity that can be divided into energy and time. For example, one kilogram of coal releases more energy than one ton of TNT, but since the TNT release occurs more quickly, it delivers more power. The dimension of power is energy divided by time. In general, \"power is the rate with respect to time at which work is done; it is the time derivative of work. We will now show that the mechanical power generated by a force F on a force C on a moving at the velocity v can be expressed as the product: If a constant force F is applied throughout a distance x, the work done is defined as W = Mathbf{F} /cdot \\mathbf {x} }. In this case, power can be written as: If instead the force is variable over a three-dimensional curve C, then the work is expressed in termsOf the line integral.From the fundamental theorem of calculus we know that \" hence the formula is valid for any general situation. The definition of power follows. It is the average amount of work done or energy converted per second. Average power is often called \"power\" when the context makes it clear. Instantaneous power is the limiting value of the average power as the time interval Δt approaches zero. When power P is constant, the amount of worked performed in time period t can be calculated as E rather than W. Mechanical power is also comes from the same principle as power.\n"
     ]
    },
    {
     "name": "stderr",
     "output_type": "stream",
     "text": [
      " 98%|█████████▊| 98/100 [3:46:41<05:23, 161.87s/it]"
     ]
    },
    {
     "name": "stdout",
     "output_type": "stream",
     "text": [
      "Dictionary.com defines \"content creation is the act of producing and sharing information or media content for specific audiences, particularly in digital contexts.\" Content creation encompasses various activities including maintaining and updating web sites, blogging, article writing, article publishing, photography, videography, online commentary, social media accounts, and editing and distribution of digital media. In a survey conducted by Pew, content creation was defined as \"the material people contribute to the online world.\" News organizations News organizations such as The New York Times, NPR, and CNN create some of the most shared content on the Web. Although the rise of digital news has disrupted traditional news outlets, many have adapted and have begun to produce content that is designed to function on the web and be shared on social media. The company Narrative Science is now using artificial intelligence to produce news articles and interpret data. Colleges, universities and think tanks Create content in the form of books, journal articles, white papers, and some forms of digital scholarship. Academic content may be either closed source or open access. Closed-source content can only be made available to authorized subscribers or subscribers. Open-access articles are free to the public with the publication and distribution costs shouldered by the institution publishing the content. Corporate content includes advertising and public relations content, as well as other types of content produced for profit. Auto-generated or auto-generated content may also include auto- generated content, with blocks of content generated by programs or bots for search engine optimization. Artists and writers Creators may create new content out of the desire to gain publicity or to bring about social reforms. African-Americans respond to their portrayals digitally through the use of social media such as Twitter and Tumblr. Black Twitter has allowed a community to share their problems and ideas. Government Through digitization, sunshine laws, open records laws, tax collection, governments may make statistical, legal or regulatory information available on the Internet. This has raised privacy issues. Governments also create online or digital propaganda or misinformation to support domestic and international goals. This can include astroturfing, or using media to create a false impression of mainstream belief or opinion. Citizens may also use open content, such as public records and open data, in the pursuit of public health and scientific goals. In addition, David Locke uses crowd-sourcing to help his mining company to develop more advanced technology. With the advent of the internet, teens have had more access to tools for sharing and creating content. Increase in accessibility to technology, especially due to lower prices, has led to an increase in accessibility of content creation tools as well for teens. Some teens use this to become content creators through online platforms like YouTube, while others use it to connect to friends through social networking sites. == Issues == Zones  Quality ===.Quality ===. The rise of anonymous and user-generated downloadable content presents both opportunities and challenges to Web users. It can lead to one-sided, unbalanced content that does not present a complete picture of an issue. The quality of digital contents varies from traditional academic or published writing. Digital media writing is often more engaging and accessible to a broader audience than academic writing, which is usually intended for a specialized audience. Accademic institutions typically use conversational tone, personal anecdotes, multimedia elements, and multimedia elements like images and videos to enhance the reader's experience. Digital journalists tend to use colloquial tones, personal statistics, and slideshows to reach a larger audience. At the same time, professional communicators need to use professional (academic) communicators to reach an audience, as they do with class wikis or video lectures. Open data initiative, institutions may make raw data supporting their experiments or conclusions available onThe Web. Artistic works, music, movies, literature, and art are also major forms of content. Independent artists, including authors and musicians, have found commercial success by making their work available on BitTorrent. Government Uses Open Content To support diplomatic and public health goals, governments sometimes make statistics, open documents, and open political speeches on the Net. Other governments may also rely on open data and crowdsourcing to support complex policy problems. For example, the National Aeronautics and Space Administration joined in an Asteroid Mining Company to develop heap mining techniques to help with near-Earth resources. According to David Locke, \"The world has more and more potential for open data sharing.\" Users engage more willingly in the production and sharing of digital content. Throughout the world, according to Pew research, about one in four internet users are significant content creators, and users in emerging markets lead the world in engagement. Around 21 million teens used the internet and 57% or 12 million teens consider themselves content creators. Teens now have greater access to content, content-making applications, and the ability to publish to different types of media,Such as Facebook, Blogger, Instagram, DeviantArt, or Tumblr. Gradually, the growth of anonymous/UGC\" refers to the amount of content they generate is sometimes referred to as the 1% rule, a rule of thumb that suggests that\n"
     ]
    },
    {
     "name": "stderr",
     "output_type": "stream",
     "text": [
      " 99%|█████████▉| 99/100 [3:48:01<02:17, 137.35s/it]"
     ]
    },
    {
     "name": "stdout",
     "output_type": "stream",
     "text": [
      "In this chapter, Mill explains the concept of digital marketing, which is the part of marketing that uses the Internet and \"digital technologies such as desktop computers, mobile phones, and other digital media and platforms to promote products and services\". It began in the 1990s with the advent of the iPhone and the rise of the Web. Now, companies use digital marketing strategies that include combination of search engine optimization, social media optimization, content marketing, influencer marketing, content automation, campaign marketing, data-driven marketing, e-commerce marketing, social media marketing, social advertising, direct marketing, ad placement, display advertising, radio and TV advertising, callbacks, and on-hold mobile ringtones. The term \"digital marketing\" was coined in the late 1990s by a company called Archie Search Company. In the early 2000s, with the growth of the smartphone and the invention of the iPod, more and more people start searching for products online and making decisions about their needs online before visiting a store or making a purchase. This created a problem for the marketing department of a company, so they found new ways to integrate digital technology into their business plans. They also began investing in brand awareness, the extent to which customers and the general public are familiar with and recognize a particular brand. In 2007, marketing automation was developed as a response to the ever-evolving marketing climate. However, despite the benefits of marketing automation, many companies fail to adopt it to their everyday uses correctly.\n"
     ]
    },
    {
     "name": "stderr",
     "output_type": "stream",
     "text": [
      "100%|██████████| 100/100 [3:49:05<00:00, 137.45s/it]"
     ]
    },
    {
     "name": "stdout",
     "output_type": "stream",
     "text": [
      "The United States of America is a federal republic consisting of 50 states, a federal district, five major territories and various minor islands. The states and the whole are each sovereign entity with their own constitution and government. Each state is represented in the federal Congress by two senators and two representatives. Senators and representatives are distributed among the states in proportion to the most recent constitutionally mandated decennial census. Additionally, each state is entitled to select a number of electors to vote in the Electoral College, the body that elects the president of the United States. The United States has control over fourteen territories including American Samoa, Guam, the Northern Mariana Islands, Puerto Rico and the U.S. Virgin Islands. Territories are considered to be unorganized, meaning they have not had an organic act enacted by Congress; the four other territories are organized, meaning an organic acts have been passed by Congress. The remaining territories are unincorporated, meaning the Constitution does not fully apply to them. See also: Bureau of Political geography. Country map. State map. Federal district map. Territorial map. Disputed territories\n"
     ]
    },
    {
     "name": "stderr",
     "output_type": "stream",
     "text": [
      "\n"
     ]
    }
   ],
   "source": [
    "from tqdm import tqdm\n",
    "i = 0\n",
    "final = {}\n",
    "for flag in tqdm(content):\n",
    "  sentences = nltk.tokenize.sent_tokenize(flag)\n",
    "  length = 0\n",
    "  chunk = \"\"\n",
    "  chunks = []\n",
    "  count = -1\n",
    "\n",
    "  for sentence in sentences:\n",
    "      count += 1\n",
    "      combined_length = len(tokenizer.tokenize(sentence)) + length\n",
    "\n",
    "      if combined_length <= tokenizer.max_len_single_sentence:\n",
    "          chunk += sentence + \" \"\n",
    "          length = combined_length\n",
    "\n",
    "          if count == len(sentences) - 1:\n",
    "              chunks.append(chunk.strip())  # save the chunk\n",
    "      else:\n",
    "          # Handle the case where a sentence itself exceeds the maximum length\n",
    "          if len(tokenizer.tokenize(sentence)) > tokenizer.max_len_single_sentence:\n",
    "              # Split the sentence into chunks that fit the maximum length\n",
    "              sub_chunks = [sentence[i:i + tokenizer.max_len_single_sentence]\n",
    "                            for i in range(0, len(sentence), tokenizer.max_len_single_sentence)]\n",
    "              chunks.extend(sub_chunks)\n",
    "          else:\n",
    "              chunks.append(chunk.strip())  # save the chunk\n",
    "              length = 0\n",
    "              chunk = \"\"\n",
    "              chunk += sentence + \" \"\n",
    "              length = len(tokenizer.tokenize(sentence))\n",
    "  inputs = [tokenizer(chunk, return_tensors=\"pt\") for chunk in chunks]\n",
    "  c_1 = \"\"\n",
    "  for input in inputs:\n",
    "    output = model.generate(**input)\n",
    "    x = tokenizer.decode(output[0], skip_special_tokens=True)\n",
    "    print(x)\n",
    "    c_1 += x + \" \"\n",
    "  final[i] = c_1\n",
    "  i += 1"
   ]
  },
  {
   "cell_type": "code",
   "execution_count": 7,
   "id": "ec52672a",
   "metadata": {
    "execution": {
     "iopub.execute_input": "2023-12-09T18:23:14.594557Z",
     "iopub.status.busy": "2023-12-09T18:23:14.593999Z",
     "iopub.status.idle": "2023-12-09T18:23:14.600951Z",
     "shell.execute_reply": "2023-12-09T18:23:14.599354Z"
    },
    "papermill": {
     "duration": 0.041727,
     "end_time": "2023-12-09T18:23:14.603711",
     "exception": false,
     "start_time": "2023-12-09T18:23:14.561984",
     "status": "completed"
    },
    "tags": []
   },
   "outputs": [],
   "source": [
    "import json"
   ]
  },
  {
   "cell_type": "code",
   "execution_count": 8,
   "id": "6c969ceb",
   "metadata": {
    "execution": {
     "iopub.execute_input": "2023-12-09T18:23:14.674864Z",
     "iopub.status.busy": "2023-12-09T18:23:14.673891Z",
     "iopub.status.idle": "2023-12-09T18:23:14.684744Z",
     "shell.execute_reply": "2023-12-09T18:23:14.683534Z"
    },
    "papermill": {
     "duration": 0.046585,
     "end_time": "2023-12-09T18:23:14.687687",
     "exception": false,
     "start_time": "2023-12-09T18:23:14.641102",
     "status": "completed"
    },
    "tags": []
   },
   "outputs": [
    {
     "name": "stdout",
     "output_type": "stream",
     "text": [
      "Dictionary has been exported to led_large_sum.txt\n"
     ]
    }
   ],
   "source": [
    "output_file_path = 'led_large_sum.txt'\n",
    "\n",
    "# Convert the dictionary to JSON format\n",
    "json_data = json.dumps(final, indent=2)\n",
    "\n",
    "# Write the JSON data to a text file\n",
    "with open(output_file_path, 'w') as file:\n",
    "    file.write(json_data)\n",
    "\n",
    "print(f'Dictionary has been exported to {output_file_path}')"
   ]
  }
 ],
 "metadata": {
  "kaggle": {
   "accelerator": "none",
   "dataSources": [
    {
     "datasetId": 4133947,
     "sourceId": 7157925,
     "sourceType": "datasetVersion"
    }
   ],
   "dockerImageVersionId": 30615,
   "isGpuEnabled": false,
   "isInternetEnabled": true,
   "language": "python",
   "sourceType": "notebook"
  },
  "kernelspec": {
   "display_name": "Python 3",
   "language": "python",
   "name": "python3"
  },
  "language_info": {
   "codemirror_mode": {
    "name": "ipython",
    "version": 3
   },
   "file_extension": ".py",
   "mimetype": "text/x-python",
   "name": "python",
   "nbconvert_exporter": "python",
   "pygments_lexer": "ipython3",
   "version": "3.10.12"
  },
  "papermill": {
   "default_parameters": {},
   "duration": 13842.113668,
   "end_time": "2023-12-09T18:23:17.563981",
   "environment_variables": {},
   "exception": null,
   "input_path": "__notebook__.ipynb",
   "output_path": "__notebook__.ipynb",
   "parameters": {},
   "start_time": "2023-12-09T14:32:35.450313",
   "version": "2.4.0"
  },
  "widgets": {
   "application/vnd.jupyter.widget-state+json": {
    "state": {
     "0571c828bfbe48289548d9a1b5086314": {
      "model_module": "@jupyter-widgets/controls",
      "model_module_version": "1.5.0",
      "model_name": "HBoxModel",
      "state": {
       "_dom_classes": [],
       "_model_module": "@jupyter-widgets/controls",
       "_model_module_version": "1.5.0",
       "_model_name": "HBoxModel",
       "_view_count": null,
       "_view_module": "@jupyter-widgets/controls",
       "_view_module_version": "1.5.0",
       "_view_name": "HBoxView",
       "box_style": "",
       "children": [
        "IPY_MODEL_402eb8f1551143feb8f61451b6225220",
        "IPY_MODEL_a5cd0bcd4ce048b1bcd4cccde90f7082",
        "IPY_MODEL_b1e5fc1efbbc4111a782c5b321d4f304"
       ],
       "layout": "IPY_MODEL_3cf1f5abaee94ff2904f4219634f4638"
      }
     },
     "088d1db8ea6e480cb8594621f1102152": {
      "model_module": "@jupyter-widgets/base",
      "model_module_version": "1.2.0",
      "model_name": "LayoutModel",
      "state": {
       "_model_module": "@jupyter-widgets/base",
       "_model_module_version": "1.2.0",
       "_model_name": "LayoutModel",
       "_view_count": null,
       "_view_module": "@jupyter-widgets/base",
       "_view_module_version": "1.2.0",
       "_view_name": "LayoutView",
       "align_content": null,
       "align_items": null,
       "align_self": null,
       "border": null,
       "bottom": null,
       "display": null,
       "flex": null,
       "flex_flow": null,
       "grid_area": null,
       "grid_auto_columns": null,
       "grid_auto_flow": null,
       "grid_auto_rows": null,
       "grid_column": null,
       "grid_gap": null,
       "grid_row": null,
       "grid_template_areas": null,
       "grid_template_columns": null,
       "grid_template_rows": null,
       "height": null,
       "justify_content": null,
       "justify_items": null,
       "left": null,
       "margin": null,
       "max_height": null,
       "max_width": null,
       "min_height": null,
       "min_width": null,
       "object_fit": null,
       "object_position": null,
       "order": null,
       "overflow": null,
       "overflow_x": null,
       "overflow_y": null,
       "padding": null,
       "right": null,
       "top": null,
       "visibility": null,
       "width": null
      }
     },
     "0e585b9525504161af78b4f8768ce9f3": {
      "model_module": "@jupyter-widgets/controls",
      "model_module_version": "1.5.0",
      "model_name": "HBoxModel",
      "state": {
       "_dom_classes": [],
       "_model_module": "@jupyter-widgets/controls",
       "_model_module_version": "1.5.0",
       "_model_name": "HBoxModel",
       "_view_count": null,
       "_view_module": "@jupyter-widgets/controls",
       "_view_module_version": "1.5.0",
       "_view_name": "HBoxView",
       "box_style": "",
       "children": [
        "IPY_MODEL_fc2399b3226846dbab04c6cf42924900",
        "IPY_MODEL_f8c6a023fc704481a93147e140d830a2",
        "IPY_MODEL_dc198e7ea27a4a7eb58edfa34a32db45"
       ],
       "layout": "IPY_MODEL_0f644abc1786422bb3d7455a364a8fc6"
      }
     },
     "0e946c89473740458fc7e1ade6daddd3": {
      "model_module": "@jupyter-widgets/base",
      "model_module_version": "1.2.0",
      "model_name": "LayoutModel",
      "state": {
       "_model_module": "@jupyter-widgets/base",
       "_model_module_version": "1.2.0",
       "_model_name": "LayoutModel",
       "_view_count": null,
       "_view_module": "@jupyter-widgets/base",
       "_view_module_version": "1.2.0",
       "_view_name": "LayoutView",
       "align_content": null,
       "align_items": null,
       "align_self": null,
       "border": null,
       "bottom": null,
       "display": null,
       "flex": null,
       "flex_flow": null,
       "grid_area": null,
       "grid_auto_columns": null,
       "grid_auto_flow": null,
       "grid_auto_rows": null,
       "grid_column": null,
       "grid_gap": null,
       "grid_row": null,
       "grid_template_areas": null,
       "grid_template_columns": null,
       "grid_template_rows": null,
       "height": null,
       "justify_content": null,
       "justify_items": null,
       "left": null,
       "margin": null,
       "max_height": null,
       "max_width": null,
       "min_height": null,
       "min_width": null,
       "object_fit": null,
       "object_position": null,
       "order": null,
       "overflow": null,
       "overflow_x": null,
       "overflow_y": null,
       "padding": null,
       "right": null,
       "top": null,
       "visibility": null,
       "width": null
      }
     },
     "0f644abc1786422bb3d7455a364a8fc6": {
      "model_module": "@jupyter-widgets/base",
      "model_module_version": "1.2.0",
      "model_name": "LayoutModel",
      "state": {
       "_model_module": "@jupyter-widgets/base",
       "_model_module_version": "1.2.0",
       "_model_name": "LayoutModel",
       "_view_count": null,
       "_view_module": "@jupyter-widgets/base",
       "_view_module_version": "1.2.0",
       "_view_name": "LayoutView",
       "align_content": null,
       "align_items": null,
       "align_self": null,
       "border": null,
       "bottom": null,
       "display": null,
       "flex": null,
       "flex_flow": null,
       "grid_area": null,
       "grid_auto_columns": null,
       "grid_auto_flow": null,
       "grid_auto_rows": null,
       "grid_column": null,
       "grid_gap": null,
       "grid_row": null,
       "grid_template_areas": null,
       "grid_template_columns": null,
       "grid_template_rows": null,
       "height": null,
       "justify_content": null,
       "justify_items": null,
       "left": null,
       "margin": null,
       "max_height": null,
       "max_width": null,
       "min_height": null,
       "min_width": null,
       "object_fit": null,
       "object_position": null,
       "order": null,
       "overflow": null,
       "overflow_x": null,
       "overflow_y": null,
       "padding": null,
       "right": null,
       "top": null,
       "visibility": null,
       "width": null
      }
     },
     "0f9a9b5b89ae4d8584ac027e86d43c0c": {
      "model_module": "@jupyter-widgets/controls",
      "model_module_version": "1.5.0",
      "model_name": "HTMLModel",
      "state": {
       "_dom_classes": [],
       "_model_module": "@jupyter-widgets/controls",
       "_model_module_version": "1.5.0",
       "_model_name": "HTMLModel",
       "_view_count": null,
       "_view_module": "@jupyter-widgets/controls",
       "_view_module_version": "1.5.0",
       "_view_name": "HTMLView",
       "description": "",
       "description_tooltip": null,
       "layout": "IPY_MODEL_13e6f44d6e0e437297c4786915fa6a8e",
       "placeholder": "​",
       "style": "IPY_MODEL_bc6a64be386c4f7a84c78d9be3be8639",
       "value": " 456k/456k [00:00&lt;00:00, 1.87MB/s]"
      }
     },
     "13e186e0a30643a2b8bd8832a7280444": {
      "model_module": "@jupyter-widgets/controls",
      "model_module_version": "1.5.0",
      "model_name": "ProgressStyleModel",
      "state": {
       "_model_module": "@jupyter-widgets/controls",
       "_model_module_version": "1.5.0",
       "_model_name": "ProgressStyleModel",
       "_view_count": null,
       "_view_module": "@jupyter-widgets/base",
       "_view_module_version": "1.2.0",
       "_view_name": "StyleView",
       "bar_color": null,
       "description_width": ""
      }
     },
     "13e6f44d6e0e437297c4786915fa6a8e": {
      "model_module": "@jupyter-widgets/base",
      "model_module_version": "1.2.0",
      "model_name": "LayoutModel",
      "state": {
       "_model_module": "@jupyter-widgets/base",
       "_model_module_version": "1.2.0",
       "_model_name": "LayoutModel",
       "_view_count": null,
       "_view_module": "@jupyter-widgets/base",
       "_view_module_version": "1.2.0",
       "_view_name": "LayoutView",
       "align_content": null,
       "align_items": null,
       "align_self": null,
       "border": null,
       "bottom": null,
       "display": null,
       "flex": null,
       "flex_flow": null,
       "grid_area": null,
       "grid_auto_columns": null,
       "grid_auto_flow": null,
       "grid_auto_rows": null,
       "grid_column": null,
       "grid_gap": null,
       "grid_row": null,
       "grid_template_areas": null,
       "grid_template_columns": null,
       "grid_template_rows": null,
       "height": null,
       "justify_content": null,
       "justify_items": null,
       "left": null,
       "margin": null,
       "max_height": null,
       "max_width": null,
       "min_height": null,
       "min_width": null,
       "object_fit": null,
       "object_position": null,
       "order": null,
       "overflow": null,
       "overflow_x": null,
       "overflow_y": null,
       "padding": null,
       "right": null,
       "top": null,
       "visibility": null,
       "width": null
      }
     },
     "16fdb4bebde0477ca2ee61350e8f479c": {
      "model_module": "@jupyter-widgets/controls",
      "model_module_version": "1.5.0",
      "model_name": "DescriptionStyleModel",
      "state": {
       "_model_module": "@jupyter-widgets/controls",
       "_model_module_version": "1.5.0",
       "_model_name": "DescriptionStyleModel",
       "_view_count": null,
       "_view_module": "@jupyter-widgets/base",
       "_view_module_version": "1.2.0",
       "_view_name": "StyleView",
       "description_width": ""
      }
     },
     "170fde5c4cd64e43ae221d4608f18098": {
      "model_module": "@jupyter-widgets/base",
      "model_module_version": "1.2.0",
      "model_name": "LayoutModel",
      "state": {
       "_model_module": "@jupyter-widgets/base",
       "_model_module_version": "1.2.0",
       "_model_name": "LayoutModel",
       "_view_count": null,
       "_view_module": "@jupyter-widgets/base",
       "_view_module_version": "1.2.0",
       "_view_name": "LayoutView",
       "align_content": null,
       "align_items": null,
       "align_self": null,
       "border": null,
       "bottom": null,
       "display": null,
       "flex": null,
       "flex_flow": null,
       "grid_area": null,
       "grid_auto_columns": null,
       "grid_auto_flow": null,
       "grid_auto_rows": null,
       "grid_column": null,
       "grid_gap": null,
       "grid_row": null,
       "grid_template_areas": null,
       "grid_template_columns": null,
       "grid_template_rows": null,
       "height": null,
       "justify_content": null,
       "justify_items": null,
       "left": null,
       "margin": null,
       "max_height": null,
       "max_width": null,
       "min_height": null,
       "min_width": null,
       "object_fit": null,
       "object_position": null,
       "order": null,
       "overflow": null,
       "overflow_x": null,
       "overflow_y": null,
       "padding": null,
       "right": null,
       "top": null,
       "visibility": null,
       "width": null
      }
     },
     "1a26017941324f67b62529fc4c6e119a": {
      "model_module": "@jupyter-widgets/controls",
      "model_module_version": "1.5.0",
      "model_name": "ProgressStyleModel",
      "state": {
       "_model_module": "@jupyter-widgets/controls",
       "_model_module_version": "1.5.0",
       "_model_name": "ProgressStyleModel",
       "_view_count": null,
       "_view_module": "@jupyter-widgets/base",
       "_view_module_version": "1.2.0",
       "_view_name": "StyleView",
       "bar_color": null,
       "description_width": ""
      }
     },
     "1ac36cec3993407a82046c77315e137c": {
      "model_module": "@jupyter-widgets/base",
      "model_module_version": "1.2.0",
      "model_name": "LayoutModel",
      "state": {
       "_model_module": "@jupyter-widgets/base",
       "_model_module_version": "1.2.0",
       "_model_name": "LayoutModel",
       "_view_count": null,
       "_view_module": "@jupyter-widgets/base",
       "_view_module_version": "1.2.0",
       "_view_name": "LayoutView",
       "align_content": null,
       "align_items": null,
       "align_self": null,
       "border": null,
       "bottom": null,
       "display": null,
       "flex": null,
       "flex_flow": null,
       "grid_area": null,
       "grid_auto_columns": null,
       "grid_auto_flow": null,
       "grid_auto_rows": null,
       "grid_column": null,
       "grid_gap": null,
       "grid_row": null,
       "grid_template_areas": null,
       "grid_template_columns": null,
       "grid_template_rows": null,
       "height": null,
       "justify_content": null,
       "justify_items": null,
       "left": null,
       "margin": null,
       "max_height": null,
       "max_width": null,
       "min_height": null,
       "min_width": null,
       "object_fit": null,
       "object_position": null,
       "order": null,
       "overflow": null,
       "overflow_x": null,
       "overflow_y": null,
       "padding": null,
       "right": null,
       "top": null,
       "visibility": null,
       "width": null
      }
     },
     "1bb9196a76404a25af0a904918e26054": {
      "model_module": "@jupyter-widgets/base",
      "model_module_version": "1.2.0",
      "model_name": "LayoutModel",
      "state": {
       "_model_module": "@jupyter-widgets/base",
       "_model_module_version": "1.2.0",
       "_model_name": "LayoutModel",
       "_view_count": null,
       "_view_module": "@jupyter-widgets/base",
       "_view_module_version": "1.2.0",
       "_view_name": "LayoutView",
       "align_content": null,
       "align_items": null,
       "align_self": null,
       "border": null,
       "bottom": null,
       "display": null,
       "flex": null,
       "flex_flow": null,
       "grid_area": null,
       "grid_auto_columns": null,
       "grid_auto_flow": null,
       "grid_auto_rows": null,
       "grid_column": null,
       "grid_gap": null,
       "grid_row": null,
       "grid_template_areas": null,
       "grid_template_columns": null,
       "grid_template_rows": null,
       "height": null,
       "justify_content": null,
       "justify_items": null,
       "left": null,
       "margin": null,
       "max_height": null,
       "max_width": null,
       "min_height": null,
       "min_width": null,
       "object_fit": null,
       "object_position": null,
       "order": null,
       "overflow": null,
       "overflow_x": null,
       "overflow_y": null,
       "padding": null,
       "right": null,
       "top": null,
       "visibility": null,
       "width": null
      }
     },
     "1c23b0cdc78e4a3b9cfa1cf09d9a9f46": {
      "model_module": "@jupyter-widgets/controls",
      "model_module_version": "1.5.0",
      "model_name": "HTMLModel",
      "state": {
       "_dom_classes": [],
       "_model_module": "@jupyter-widgets/controls",
       "_model_module_version": "1.5.0",
       "_model_name": "HTMLModel",
       "_view_count": null,
       "_view_module": "@jupyter-widgets/controls",
       "_view_module_version": "1.5.0",
       "_view_name": "HTMLView",
       "description": "",
       "description_tooltip": null,
       "layout": "IPY_MODEL_a6fa66ea6546408cb9b28d17f3e17eed",
       "placeholder": "​",
       "style": "IPY_MODEL_e0de6c4b95b64fcb97d22afc95d5110f",
       "value": " 798k/798k [00:00&lt;00:00, 879kB/s]"
      }
     },
     "1d71f45ac3714c4b99496ef6a8a6f5cd": {
      "model_module": "@jupyter-widgets/base",
      "model_module_version": "1.2.0",
      "model_name": "LayoutModel",
      "state": {
       "_model_module": "@jupyter-widgets/base",
       "_model_module_version": "1.2.0",
       "_model_name": "LayoutModel",
       "_view_count": null,
       "_view_module": "@jupyter-widgets/base",
       "_view_module_version": "1.2.0",
       "_view_name": "LayoutView",
       "align_content": null,
       "align_items": null,
       "align_self": null,
       "border": null,
       "bottom": null,
       "display": null,
       "flex": null,
       "flex_flow": null,
       "grid_area": null,
       "grid_auto_columns": null,
       "grid_auto_flow": null,
       "grid_auto_rows": null,
       "grid_column": null,
       "grid_gap": null,
       "grid_row": null,
       "grid_template_areas": null,
       "grid_template_columns": null,
       "grid_template_rows": null,
       "height": null,
       "justify_content": null,
       "justify_items": null,
       "left": null,
       "margin": null,
       "max_height": null,
       "max_width": null,
       "min_height": null,
       "min_width": null,
       "object_fit": null,
       "object_position": null,
       "order": null,
       "overflow": null,
       "overflow_x": null,
       "overflow_y": null,
       "padding": null,
       "right": null,
       "top": null,
       "visibility": null,
       "width": null
      }
     },
     "1eb7456075b9441285b9436cec4b2d9f": {
      "model_module": "@jupyter-widgets/controls",
      "model_module_version": "1.5.0",
      "model_name": "ProgressStyleModel",
      "state": {
       "_model_module": "@jupyter-widgets/controls",
       "_model_module_version": "1.5.0",
       "_model_name": "ProgressStyleModel",
       "_view_count": null,
       "_view_module": "@jupyter-widgets/base",
       "_view_module_version": "1.2.0",
       "_view_name": "StyleView",
       "bar_color": null,
       "description_width": ""
      }
     },
     "1f2a9a521b434478b49b588ca5d0c48a": {
      "model_module": "@jupyter-widgets/controls",
      "model_module_version": "1.5.0",
      "model_name": "FloatProgressModel",
      "state": {
       "_dom_classes": [],
       "_model_module": "@jupyter-widgets/controls",
       "_model_module_version": "1.5.0",
       "_model_name": "FloatProgressModel",
       "_view_count": null,
       "_view_module": "@jupyter-widgets/controls",
       "_view_module_version": "1.5.0",
       "_view_name": "ProgressView",
       "bar_style": "success",
       "description": "",
       "description_tooltip": null,
       "layout": "IPY_MODEL_a8ffc8a33f6b4e90adf5fc7c26a06dfd",
       "max": 456356.0,
       "min": 0.0,
       "orientation": "horizontal",
       "style": "IPY_MODEL_13e186e0a30643a2b8bd8832a7280444",
       "value": 456356.0
      }
     },
     "207b83a41942470e8741bcb1e8bb67f9": {
      "model_module": "@jupyter-widgets/base",
      "model_module_version": "1.2.0",
      "model_name": "LayoutModel",
      "state": {
       "_model_module": "@jupyter-widgets/base",
       "_model_module_version": "1.2.0",
       "_model_name": "LayoutModel",
       "_view_count": null,
       "_view_module": "@jupyter-widgets/base",
       "_view_module_version": "1.2.0",
       "_view_name": "LayoutView",
       "align_content": null,
       "align_items": null,
       "align_self": null,
       "border": null,
       "bottom": null,
       "display": null,
       "flex": null,
       "flex_flow": null,
       "grid_area": null,
       "grid_auto_columns": null,
       "grid_auto_flow": null,
       "grid_auto_rows": null,
       "grid_column": null,
       "grid_gap": null,
       "grid_row": null,
       "grid_template_areas": null,
       "grid_template_columns": null,
       "grid_template_rows": null,
       "height": null,
       "justify_content": null,
       "justify_items": null,
       "left": null,
       "margin": null,
       "max_height": null,
       "max_width": null,
       "min_height": null,
       "min_width": null,
       "object_fit": null,
       "object_position": null,
       "order": null,
       "overflow": null,
       "overflow_x": null,
       "overflow_y": null,
       "padding": null,
       "right": null,
       "top": null,
       "visibility": null,
       "width": null
      }
     },
     "28b1a5475fff4a8d8ae341425f10ec7e": {
      "model_module": "@jupyter-widgets/controls",
      "model_module_version": "1.5.0",
      "model_name": "HTMLModel",
      "state": {
       "_dom_classes": [],
       "_model_module": "@jupyter-widgets/controls",
       "_model_module_version": "1.5.0",
       "_model_name": "HTMLModel",
       "_view_count": null,
       "_view_module": "@jupyter-widgets/controls",
       "_view_module_version": "1.5.0",
       "_view_name": "HTMLView",
       "description": "",
       "description_tooltip": null,
       "layout": "IPY_MODEL_3cb74f55b8f7434d93a4a0b762919c87",
       "placeholder": "​",
       "style": "IPY_MODEL_356b57dae1f84dc4b13134d5f5edeeb7",
       "value": "tokenizer.json: 100%"
      }
     },
     "2f26eae7507b4057b399ff6e33aea36a": {
      "model_module": "@jupyter-widgets/base",
      "model_module_version": "1.2.0",
      "model_name": "LayoutModel",
      "state": {
       "_model_module": "@jupyter-widgets/base",
       "_model_module_version": "1.2.0",
       "_model_name": "LayoutModel",
       "_view_count": null,
       "_view_module": "@jupyter-widgets/base",
       "_view_module_version": "1.2.0",
       "_view_name": "LayoutView",
       "align_content": null,
       "align_items": null,
       "align_self": null,
       "border": null,
       "bottom": null,
       "display": null,
       "flex": null,
       "flex_flow": null,
       "grid_area": null,
       "grid_auto_columns": null,
       "grid_auto_flow": null,
       "grid_auto_rows": null,
       "grid_column": null,
       "grid_gap": null,
       "grid_row": null,
       "grid_template_areas": null,
       "grid_template_columns": null,
       "grid_template_rows": null,
       "height": null,
       "justify_content": null,
       "justify_items": null,
       "left": null,
       "margin": null,
       "max_height": null,
       "max_width": null,
       "min_height": null,
       "min_width": null,
       "object_fit": null,
       "object_position": null,
       "order": null,
       "overflow": null,
       "overflow_x": null,
       "overflow_y": null,
       "padding": null,
       "right": null,
       "top": null,
       "visibility": null,
       "width": null
      }
     },
     "303ec4c8f8d840248e6d1f107e64cb61": {
      "model_module": "@jupyter-widgets/base",
      "model_module_version": "1.2.0",
      "model_name": "LayoutModel",
      "state": {
       "_model_module": "@jupyter-widgets/base",
       "_model_module_version": "1.2.0",
       "_model_name": "LayoutModel",
       "_view_count": null,
       "_view_module": "@jupyter-widgets/base",
       "_view_module_version": "1.2.0",
       "_view_name": "LayoutView",
       "align_content": null,
       "align_items": null,
       "align_self": null,
       "border": null,
       "bottom": null,
       "display": null,
       "flex": null,
       "flex_flow": null,
       "grid_area": null,
       "grid_auto_columns": null,
       "grid_auto_flow": null,
       "grid_auto_rows": null,
       "grid_column": null,
       "grid_gap": null,
       "grid_row": null,
       "grid_template_areas": null,
       "grid_template_columns": null,
       "grid_template_rows": null,
       "height": null,
       "justify_content": null,
       "justify_items": null,
       "left": null,
       "margin": null,
       "max_height": null,
       "max_width": null,
       "min_height": null,
       "min_width": null,
       "object_fit": null,
       "object_position": null,
       "order": null,
       "overflow": null,
       "overflow_x": null,
       "overflow_y": null,
       "padding": null,
       "right": null,
       "top": null,
       "visibility": null,
       "width": null
      }
     },
     "32c81cc882fb49398e8d8eceddbf1b75": {
      "model_module": "@jupyter-widgets/controls",
      "model_module_version": "1.5.0",
      "model_name": "HTMLModel",
      "state": {
       "_dom_classes": [],
       "_model_module": "@jupyter-widgets/controls",
       "_model_module_version": "1.5.0",
       "_model_name": "HTMLModel",
       "_view_count": null,
       "_view_module": "@jupyter-widgets/controls",
       "_view_module_version": "1.5.0",
       "_view_name": "HTMLView",
       "description": "",
       "description_tooltip": null,
       "layout": "IPY_MODEL_6d7154e052a6410780e34812712f74ad",
       "placeholder": "​",
       "style": "IPY_MODEL_fd9b8e0f467a4000b19d47594e74c7e7",
       "value": " 2.11M/2.11M [00:00&lt;00:00, 7.44MB/s]"
      }
     },
     "356b57dae1f84dc4b13134d5f5edeeb7": {
      "model_module": "@jupyter-widgets/controls",
      "model_module_version": "1.5.0",
      "model_name": "DescriptionStyleModel",
      "state": {
       "_model_module": "@jupyter-widgets/controls",
       "_model_module_version": "1.5.0",
       "_model_name": "DescriptionStyleModel",
       "_view_count": null,
       "_view_module": "@jupyter-widgets/base",
       "_view_module_version": "1.2.0",
       "_view_name": "StyleView",
       "description_width": ""
      }
     },
     "3708589685e64c11bcf57665a80eead6": {
      "model_module": "@jupyter-widgets/controls",
      "model_module_version": "1.5.0",
      "model_name": "FloatProgressModel",
      "state": {
       "_dom_classes": [],
       "_model_module": "@jupyter-widgets/controls",
       "_model_module_version": "1.5.0",
       "_model_name": "FloatProgressModel",
       "_view_count": null,
       "_view_module": "@jupyter-widgets/controls",
       "_view_module_version": "1.5.0",
       "_view_name": "ProgressView",
       "bar_style": "success",
       "description": "",
       "description_tooltip": null,
       "layout": "IPY_MODEL_9391c76ad5d44ab2951aae05f7288a14",
       "max": 798293.0,
       "min": 0.0,
       "orientation": "horizontal",
       "style": "IPY_MODEL_1a26017941324f67b62529fc4c6e119a",
       "value": 798293.0
      }
     },
     "3cb74f55b8f7434d93a4a0b762919c87": {
      "model_module": "@jupyter-widgets/base",
      "model_module_version": "1.2.0",
      "model_name": "LayoutModel",
      "state": {
       "_model_module": "@jupyter-widgets/base",
       "_model_module_version": "1.2.0",
       "_model_name": "LayoutModel",
       "_view_count": null,
       "_view_module": "@jupyter-widgets/base",
       "_view_module_version": "1.2.0",
       "_view_name": "LayoutView",
       "align_content": null,
       "align_items": null,
       "align_self": null,
       "border": null,
       "bottom": null,
       "display": null,
       "flex": null,
       "flex_flow": null,
       "grid_area": null,
       "grid_auto_columns": null,
       "grid_auto_flow": null,
       "grid_auto_rows": null,
       "grid_column": null,
       "grid_gap": null,
       "grid_row": null,
       "grid_template_areas": null,
       "grid_template_columns": null,
       "grid_template_rows": null,
       "height": null,
       "justify_content": null,
       "justify_items": null,
       "left": null,
       "margin": null,
       "max_height": null,
       "max_width": null,
       "min_height": null,
       "min_width": null,
       "object_fit": null,
       "object_position": null,
       "order": null,
       "overflow": null,
       "overflow_x": null,
       "overflow_y": null,
       "padding": null,
       "right": null,
       "top": null,
       "visibility": null,
       "width": null
      }
     },
     "3cf1f5abaee94ff2904f4219634f4638": {
      "model_module": "@jupyter-widgets/base",
      "model_module_version": "1.2.0",
      "model_name": "LayoutModel",
      "state": {
       "_model_module": "@jupyter-widgets/base",
       "_model_module_version": "1.2.0",
       "_model_name": "LayoutModel",
       "_view_count": null,
       "_view_module": "@jupyter-widgets/base",
       "_view_module_version": "1.2.0",
       "_view_name": "LayoutView",
       "align_content": null,
       "align_items": null,
       "align_self": null,
       "border": null,
       "bottom": null,
       "display": null,
       "flex": null,
       "flex_flow": null,
       "grid_area": null,
       "grid_auto_columns": null,
       "grid_auto_flow": null,
       "grid_auto_rows": null,
       "grid_column": null,
       "grid_gap": null,
       "grid_row": null,
       "grid_template_areas": null,
       "grid_template_columns": null,
       "grid_template_rows": null,
       "height": null,
       "justify_content": null,
       "justify_items": null,
       "left": null,
       "margin": null,
       "max_height": null,
       "max_width": null,
       "min_height": null,
       "min_width": null,
       "object_fit": null,
       "object_position": null,
       "order": null,
       "overflow": null,
       "overflow_x": null,
       "overflow_y": null,
       "padding": null,
       "right": null,
       "top": null,
       "visibility": null,
       "width": null
      }
     },
     "402eb8f1551143feb8f61451b6225220": {
      "model_module": "@jupyter-widgets/controls",
      "model_module_version": "1.5.0",
      "model_name": "HTMLModel",
      "state": {
       "_dom_classes": [],
       "_model_module": "@jupyter-widgets/controls",
       "_model_module_version": "1.5.0",
       "_model_name": "HTMLModel",
       "_view_count": null,
       "_view_module": "@jupyter-widgets/controls",
       "_view_module_version": "1.5.0",
       "_view_name": "HTMLView",
       "description": "",
       "description_tooltip": null,
       "layout": "IPY_MODEL_1ac36cec3993407a82046c77315e137c",
       "placeholder": "​",
       "style": "IPY_MODEL_dbcd3909513b4cb8a6273b18a28e63f3",
       "value": "tokenizer_config.json: 100%"
      }
     },
     "4a7a3bb7f2df44c380dd2e772ccc74f2": {
      "model_module": "@jupyter-widgets/base",
      "model_module_version": "1.2.0",
      "model_name": "LayoutModel",
      "state": {
       "_model_module": "@jupyter-widgets/base",
       "_model_module_version": "1.2.0",
       "_model_name": "LayoutModel",
       "_view_count": null,
       "_view_module": "@jupyter-widgets/base",
       "_view_module_version": "1.2.0",
       "_view_name": "LayoutView",
       "align_content": null,
       "align_items": null,
       "align_self": null,
       "border": null,
       "bottom": null,
       "display": null,
       "flex": null,
       "flex_flow": null,
       "grid_area": null,
       "grid_auto_columns": null,
       "grid_auto_flow": null,
       "grid_auto_rows": null,
       "grid_column": null,
       "grid_gap": null,
       "grid_row": null,
       "grid_template_areas": null,
       "grid_template_columns": null,
       "grid_template_rows": null,
       "height": null,
       "justify_content": null,
       "justify_items": null,
       "left": null,
       "margin": null,
       "max_height": null,
       "max_width": null,
       "min_height": null,
       "min_width": null,
       "object_fit": null,
       "object_position": null,
       "order": null,
       "overflow": null,
       "overflow_x": null,
       "overflow_y": null,
       "padding": null,
       "right": null,
       "top": null,
       "visibility": null,
       "width": null
      }
     },
     "4d91facc70b1488b8ced7a3c0fa25993": {
      "model_module": "@jupyter-widgets/controls",
      "model_module_version": "1.5.0",
      "model_name": "DescriptionStyleModel",
      "state": {
       "_model_module": "@jupyter-widgets/controls",
       "_model_module_version": "1.5.0",
       "_model_name": "DescriptionStyleModel",
       "_view_count": null,
       "_view_module": "@jupyter-widgets/base",
       "_view_module_version": "1.2.0",
       "_view_name": "StyleView",
       "description_width": ""
      }
     },
     "4f5bc89ac4114dda8a944abc33d7b311": {
      "model_module": "@jupyter-widgets/controls",
      "model_module_version": "1.5.0",
      "model_name": "HBoxModel",
      "state": {
       "_dom_classes": [],
       "_model_module": "@jupyter-widgets/controls",
       "_model_module_version": "1.5.0",
       "_model_name": "HBoxModel",
       "_view_count": null,
       "_view_module": "@jupyter-widgets/controls",
       "_view_module_version": "1.5.0",
       "_view_name": "HBoxView",
       "box_style": "",
       "children": [
        "IPY_MODEL_28b1a5475fff4a8d8ae341425f10ec7e",
        "IPY_MODEL_938f08bca27145e0956f9ffa311a250e",
        "IPY_MODEL_32c81cc882fb49398e8d8eceddbf1b75"
       ],
       "layout": "IPY_MODEL_67dc2c02538541c2b76996da78f19c61"
      }
     },
     "527996b724984420aafc4d457ebe91a7": {
      "model_module": "@jupyter-widgets/controls",
      "model_module_version": "1.5.0",
      "model_name": "DescriptionStyleModel",
      "state": {
       "_model_module": "@jupyter-widgets/controls",
       "_model_module_version": "1.5.0",
       "_model_name": "DescriptionStyleModel",
       "_view_count": null,
       "_view_module": "@jupyter-widgets/base",
       "_view_module_version": "1.2.0",
       "_view_name": "StyleView",
       "description_width": ""
      }
     },
     "52dc86e55ae14754985a4f969c19b338": {
      "model_module": "@jupyter-widgets/controls",
      "model_module_version": "1.5.0",
      "model_name": "HTMLModel",
      "state": {
       "_dom_classes": [],
       "_model_module": "@jupyter-widgets/controls",
       "_model_module_version": "1.5.0",
       "_model_name": "HTMLModel",
       "_view_count": null,
       "_view_module": "@jupyter-widgets/controls",
       "_view_module_version": "1.5.0",
       "_view_name": "HTMLView",
       "description": "",
       "description_tooltip": null,
       "layout": "IPY_MODEL_170fde5c4cd64e43ae221d4608f18098",
       "placeholder": "​",
       "style": "IPY_MODEL_adad0c79ea3d4f7293b1cca643d46842",
       "value": " 1.44k/1.44k [00:00&lt;00:00, 80.8kB/s]"
      }
     },
     "5d3b928ad51f47818526de090e552d8d": {
      "model_module": "@jupyter-widgets/controls",
      "model_module_version": "1.5.0",
      "model_name": "DescriptionStyleModel",
      "state": {
       "_model_module": "@jupyter-widgets/controls",
       "_model_module_version": "1.5.0",
       "_model_name": "DescriptionStyleModel",
       "_view_count": null,
       "_view_module": "@jupyter-widgets/base",
       "_view_module_version": "1.2.0",
       "_view_name": "StyleView",
       "description_width": ""
      }
     },
     "5f01c80bf13c4b378619253b0add887a": {
      "model_module": "@jupyter-widgets/controls",
      "model_module_version": "1.5.0",
      "model_name": "DescriptionStyleModel",
      "state": {
       "_model_module": "@jupyter-widgets/controls",
       "_model_module_version": "1.5.0",
       "_model_name": "DescriptionStyleModel",
       "_view_count": null,
       "_view_module": "@jupyter-widgets/base",
       "_view_module_version": "1.2.0",
       "_view_name": "StyleView",
       "description_width": ""
      }
     },
     "605663a10a7e41e6b56d08ccb8202d03": {
      "model_module": "@jupyter-widgets/base",
      "model_module_version": "1.2.0",
      "model_name": "LayoutModel",
      "state": {
       "_model_module": "@jupyter-widgets/base",
       "_model_module_version": "1.2.0",
       "_model_name": "LayoutModel",
       "_view_count": null,
       "_view_module": "@jupyter-widgets/base",
       "_view_module_version": "1.2.0",
       "_view_name": "LayoutView",
       "align_content": null,
       "align_items": null,
       "align_self": null,
       "border": null,
       "bottom": null,
       "display": null,
       "flex": null,
       "flex_flow": null,
       "grid_area": null,
       "grid_auto_columns": null,
       "grid_auto_flow": null,
       "grid_auto_rows": null,
       "grid_column": null,
       "grid_gap": null,
       "grid_row": null,
       "grid_template_areas": null,
       "grid_template_columns": null,
       "grid_template_rows": null,
       "height": null,
       "justify_content": null,
       "justify_items": null,
       "left": null,
       "margin": null,
       "max_height": null,
       "max_width": null,
       "min_height": null,
       "min_width": null,
       "object_fit": null,
       "object_position": null,
       "order": null,
       "overflow": null,
       "overflow_x": null,
       "overflow_y": null,
       "padding": null,
       "right": null,
       "top": null,
       "visibility": null,
       "width": null
      }
     },
     "609e6481c3f64d53b314bf6163bf2979": {
      "model_module": "@jupyter-widgets/controls",
      "model_module_version": "1.5.0",
      "model_name": "DescriptionStyleModel",
      "state": {
       "_model_module": "@jupyter-widgets/controls",
       "_model_module_version": "1.5.0",
       "_model_name": "DescriptionStyleModel",
       "_view_count": null,
       "_view_module": "@jupyter-widgets/base",
       "_view_module_version": "1.2.0",
       "_view_name": "StyleView",
       "description_width": ""
      }
     },
     "64dc43cdc837420da7aef3fbe2f96766": {
      "model_module": "@jupyter-widgets/controls",
      "model_module_version": "1.5.0",
      "model_name": "HBoxModel",
      "state": {
       "_dom_classes": [],
       "_model_module": "@jupyter-widgets/controls",
       "_model_module_version": "1.5.0",
       "_model_name": "HBoxModel",
       "_view_count": null,
       "_view_module": "@jupyter-widgets/controls",
       "_view_module_version": "1.5.0",
       "_view_name": "HBoxView",
       "box_style": "",
       "children": [
        "IPY_MODEL_8faef7588a704fc6b4d409155a5950ff",
        "IPY_MODEL_3708589685e64c11bcf57665a80eead6",
        "IPY_MODEL_1c23b0cdc78e4a3b9cfa1cf09d9a9f46"
       ],
       "layout": "IPY_MODEL_303ec4c8f8d840248e6d1f107e64cb61"
      }
     },
     "6617f3966ce345b599681fe71566ea09": {
      "model_module": "@jupyter-widgets/controls",
      "model_module_version": "1.5.0",
      "model_name": "ProgressStyleModel",
      "state": {
       "_model_module": "@jupyter-widgets/controls",
       "_model_module_version": "1.5.0",
       "_model_name": "ProgressStyleModel",
       "_view_count": null,
       "_view_module": "@jupyter-widgets/base",
       "_view_module_version": "1.2.0",
       "_view_name": "StyleView",
       "bar_color": null,
       "description_width": ""
      }
     },
     "67dc2c02538541c2b76996da78f19c61": {
      "model_module": "@jupyter-widgets/base",
      "model_module_version": "1.2.0",
      "model_name": "LayoutModel",
      "state": {
       "_model_module": "@jupyter-widgets/base",
       "_model_module_version": "1.2.0",
       "_model_name": "LayoutModel",
       "_view_count": null,
       "_view_module": "@jupyter-widgets/base",
       "_view_module_version": "1.2.0",
       "_view_name": "LayoutView",
       "align_content": null,
       "align_items": null,
       "align_self": null,
       "border": null,
       "bottom": null,
       "display": null,
       "flex": null,
       "flex_flow": null,
       "grid_area": null,
       "grid_auto_columns": null,
       "grid_auto_flow": null,
       "grid_auto_rows": null,
       "grid_column": null,
       "grid_gap": null,
       "grid_row": null,
       "grid_template_areas": null,
       "grid_template_columns": null,
       "grid_template_rows": null,
       "height": null,
       "justify_content": null,
       "justify_items": null,
       "left": null,
       "margin": null,
       "max_height": null,
       "max_width": null,
       "min_height": null,
       "min_width": null,
       "object_fit": null,
       "object_position": null,
       "order": null,
       "overflow": null,
       "overflow_x": null,
       "overflow_y": null,
       "padding": null,
       "right": null,
       "top": null,
       "visibility": null,
       "width": null
      }
     },
     "67fe36aad9b24def904f7a3bb7f60cd0": {
      "model_module": "@jupyter-widgets/base",
      "model_module_version": "1.2.0",
      "model_name": "LayoutModel",
      "state": {
       "_model_module": "@jupyter-widgets/base",
       "_model_module_version": "1.2.0",
       "_model_name": "LayoutModel",
       "_view_count": null,
       "_view_module": "@jupyter-widgets/base",
       "_view_module_version": "1.2.0",
       "_view_name": "LayoutView",
       "align_content": null,
       "align_items": null,
       "align_self": null,
       "border": null,
       "bottom": null,
       "display": null,
       "flex": null,
       "flex_flow": null,
       "grid_area": null,
       "grid_auto_columns": null,
       "grid_auto_flow": null,
       "grid_auto_rows": null,
       "grid_column": null,
       "grid_gap": null,
       "grid_row": null,
       "grid_template_areas": null,
       "grid_template_columns": null,
       "grid_template_rows": null,
       "height": null,
       "justify_content": null,
       "justify_items": null,
       "left": null,
       "margin": null,
       "max_height": null,
       "max_width": null,
       "min_height": null,
       "min_width": null,
       "object_fit": null,
       "object_position": null,
       "order": null,
       "overflow": null,
       "overflow_x": null,
       "overflow_y": null,
       "padding": null,
       "right": null,
       "top": null,
       "visibility": null,
       "width": null
      }
     },
     "6ba7d616563a42d595e5838f1589a199": {
      "model_module": "@jupyter-widgets/base",
      "model_module_version": "1.2.0",
      "model_name": "LayoutModel",
      "state": {
       "_model_module": "@jupyter-widgets/base",
       "_model_module_version": "1.2.0",
       "_model_name": "LayoutModel",
       "_view_count": null,
       "_view_module": "@jupyter-widgets/base",
       "_view_module_version": "1.2.0",
       "_view_name": "LayoutView",
       "align_content": null,
       "align_items": null,
       "align_self": null,
       "border": null,
       "bottom": null,
       "display": null,
       "flex": null,
       "flex_flow": null,
       "grid_area": null,
       "grid_auto_columns": null,
       "grid_auto_flow": null,
       "grid_auto_rows": null,
       "grid_column": null,
       "grid_gap": null,
       "grid_row": null,
       "grid_template_areas": null,
       "grid_template_columns": null,
       "grid_template_rows": null,
       "height": null,
       "justify_content": null,
       "justify_items": null,
       "left": null,
       "margin": null,
       "max_height": null,
       "max_width": null,
       "min_height": null,
       "min_width": null,
       "object_fit": null,
       "object_position": null,
       "order": null,
       "overflow": null,
       "overflow_x": null,
       "overflow_y": null,
       "padding": null,
       "right": null,
       "top": null,
       "visibility": null,
       "width": null
      }
     },
     "6d7154e052a6410780e34812712f74ad": {
      "model_module": "@jupyter-widgets/base",
      "model_module_version": "1.2.0",
      "model_name": "LayoutModel",
      "state": {
       "_model_module": "@jupyter-widgets/base",
       "_model_module_version": "1.2.0",
       "_model_name": "LayoutModel",
       "_view_count": null,
       "_view_module": "@jupyter-widgets/base",
       "_view_module_version": "1.2.0",
       "_view_name": "LayoutView",
       "align_content": null,
       "align_items": null,
       "align_self": null,
       "border": null,
       "bottom": null,
       "display": null,
       "flex": null,
       "flex_flow": null,
       "grid_area": null,
       "grid_auto_columns": null,
       "grid_auto_flow": null,
       "grid_auto_rows": null,
       "grid_column": null,
       "grid_gap": null,
       "grid_row": null,
       "grid_template_areas": null,
       "grid_template_columns": null,
       "grid_template_rows": null,
       "height": null,
       "justify_content": null,
       "justify_items": null,
       "left": null,
       "margin": null,
       "max_height": null,
       "max_width": null,
       "min_height": null,
       "min_width": null,
       "object_fit": null,
       "object_position": null,
       "order": null,
       "overflow": null,
       "overflow_x": null,
       "overflow_y": null,
       "padding": null,
       "right": null,
       "top": null,
       "visibility": null,
       "width": null
      }
     },
     "6fac308e3a32438d9e63048c04055a63": {
      "model_module": "@jupyter-widgets/base",
      "model_module_version": "1.2.0",
      "model_name": "LayoutModel",
      "state": {
       "_model_module": "@jupyter-widgets/base",
       "_model_module_version": "1.2.0",
       "_model_name": "LayoutModel",
       "_view_count": null,
       "_view_module": "@jupyter-widgets/base",
       "_view_module_version": "1.2.0",
       "_view_name": "LayoutView",
       "align_content": null,
       "align_items": null,
       "align_self": null,
       "border": null,
       "bottom": null,
       "display": null,
       "flex": null,
       "flex_flow": null,
       "grid_area": null,
       "grid_auto_columns": null,
       "grid_auto_flow": null,
       "grid_auto_rows": null,
       "grid_column": null,
       "grid_gap": null,
       "grid_row": null,
       "grid_template_areas": null,
       "grid_template_columns": null,
       "grid_template_rows": null,
       "height": null,
       "justify_content": null,
       "justify_items": null,
       "left": null,
       "margin": null,
       "max_height": null,
       "max_width": null,
       "min_height": null,
       "min_width": null,
       "object_fit": null,
       "object_position": null,
       "order": null,
       "overflow": null,
       "overflow_x": null,
       "overflow_y": null,
       "padding": null,
       "right": null,
       "top": null,
       "visibility": null,
       "width": null
      }
     },
     "7ac78f20528a40089c74689800cef231": {
      "model_module": "@jupyter-widgets/controls",
      "model_module_version": "1.5.0",
      "model_name": "HTMLModel",
      "state": {
       "_dom_classes": [],
       "_model_module": "@jupyter-widgets/controls",
       "_model_module_version": "1.5.0",
       "_model_name": "HTMLModel",
       "_view_count": null,
       "_view_module": "@jupyter-widgets/controls",
       "_view_module_version": "1.5.0",
       "_view_name": "HTMLView",
       "description": "",
       "description_tooltip": null,
       "layout": "IPY_MODEL_4a7a3bb7f2df44c380dd2e772ccc74f2",
       "placeholder": "​",
       "style": "IPY_MODEL_5d3b928ad51f47818526de090e552d8d",
       "value": "config.json: 100%"
      }
     },
     "806db6b975224c578b3038c66e60640b": {
      "model_module": "@jupyter-widgets/controls",
      "model_module_version": "1.5.0",
      "model_name": "FloatProgressModel",
      "state": {
       "_dom_classes": [],
       "_model_module": "@jupyter-widgets/controls",
       "_model_module_version": "1.5.0",
       "_model_name": "FloatProgressModel",
       "_view_count": null,
       "_view_module": "@jupyter-widgets/controls",
       "_view_module_version": "1.5.0",
       "_view_name": "ProgressView",
       "bar_style": "success",
       "description": "",
       "description_tooltip": null,
       "layout": "IPY_MODEL_1d71f45ac3714c4b99496ef6a8a6f5cd",
       "max": 772.0,
       "min": 0.0,
       "orientation": "horizontal",
       "style": "IPY_MODEL_a180b93ac7ce49c88b624fd1499523de",
       "value": 772.0
      }
     },
     "84a45dd9f12b45c69f9bf1cc6c269332": {
      "model_module": "@jupyter-widgets/controls",
      "model_module_version": "1.5.0",
      "model_name": "FloatProgressModel",
      "state": {
       "_dom_classes": [],
       "_model_module": "@jupyter-widgets/controls",
       "_model_module_version": "1.5.0",
       "_model_name": "FloatProgressModel",
       "_view_count": null,
       "_view_module": "@jupyter-widgets/controls",
       "_view_module_version": "1.5.0",
       "_view_name": "ProgressView",
       "bar_style": "success",
       "description": "",
       "description_tooltip": null,
       "layout": "IPY_MODEL_d6485137345c410bb4f95b66ea10fa71",
       "max": 1443.0,
       "min": 0.0,
       "orientation": "horizontal",
       "style": "IPY_MODEL_1eb7456075b9441285b9436cec4b2d9f",
       "value": 1443.0
      }
     },
     "8bc6c0bc791444b9bd51dd8dee411f22": {
      "model_module": "@jupyter-widgets/base",
      "model_module_version": "1.2.0",
      "model_name": "LayoutModel",
      "state": {
       "_model_module": "@jupyter-widgets/base",
       "_model_module_version": "1.2.0",
       "_model_name": "LayoutModel",
       "_view_count": null,
       "_view_module": "@jupyter-widgets/base",
       "_view_module_version": "1.2.0",
       "_view_name": "LayoutView",
       "align_content": null,
       "align_items": null,
       "align_self": null,
       "border": null,
       "bottom": null,
       "display": null,
       "flex": null,
       "flex_flow": null,
       "grid_area": null,
       "grid_auto_columns": null,
       "grid_auto_flow": null,
       "grid_auto_rows": null,
       "grid_column": null,
       "grid_gap": null,
       "grid_row": null,
       "grid_template_areas": null,
       "grid_template_columns": null,
       "grid_template_rows": null,
       "height": null,
       "justify_content": null,
       "justify_items": null,
       "left": null,
       "margin": null,
       "max_height": null,
       "max_width": null,
       "min_height": null,
       "min_width": null,
       "object_fit": null,
       "object_position": null,
       "order": null,
       "overflow": null,
       "overflow_x": null,
       "overflow_y": null,
       "padding": null,
       "right": null,
       "top": null,
       "visibility": null,
       "width": null
      }
     },
     "8faef7588a704fc6b4d409155a5950ff": {
      "model_module": "@jupyter-widgets/controls",
      "model_module_version": "1.5.0",
      "model_name": "HTMLModel",
      "state": {
       "_dom_classes": [],
       "_model_module": "@jupyter-widgets/controls",
       "_model_module_version": "1.5.0",
       "_model_name": "HTMLModel",
       "_view_count": null,
       "_view_module": "@jupyter-widgets/controls",
       "_view_module_version": "1.5.0",
       "_view_name": "HTMLView",
       "description": "",
       "description_tooltip": null,
       "layout": "IPY_MODEL_2f26eae7507b4057b399ff6e33aea36a",
       "placeholder": "​",
       "style": "IPY_MODEL_609e6481c3f64d53b314bf6163bf2979",
       "value": "vocab.json: 100%"
      }
     },
     "90675520a5e941b2a25f24c8188718a8": {
      "model_module": "@jupyter-widgets/controls",
      "model_module_version": "1.5.0",
      "model_name": "HTMLModel",
      "state": {
       "_dom_classes": [],
       "_model_module": "@jupyter-widgets/controls",
       "_model_module_version": "1.5.0",
       "_model_name": "HTMLModel",
       "_view_count": null,
       "_view_module": "@jupyter-widgets/controls",
       "_view_module_version": "1.5.0",
       "_view_name": "HTMLView",
       "description": "",
       "description_tooltip": null,
       "layout": "IPY_MODEL_6fac308e3a32438d9e63048c04055a63",
       "placeholder": "​",
       "style": "IPY_MODEL_ac1d3953f581418aa546e3b88407d0cb",
       "value": "merges.txt: 100%"
      }
     },
     "938f08bca27145e0956f9ffa311a250e": {
      "model_module": "@jupyter-widgets/controls",
      "model_module_version": "1.5.0",
      "model_name": "FloatProgressModel",
      "state": {
       "_dom_classes": [],
       "_model_module": "@jupyter-widgets/controls",
       "_model_module_version": "1.5.0",
       "_model_name": "FloatProgressModel",
       "_view_count": null,
       "_view_module": "@jupyter-widgets/controls",
       "_view_module_version": "1.5.0",
       "_view_name": "ProgressView",
       "bar_style": "success",
       "description": "",
       "description_tooltip": null,
       "layout": "IPY_MODEL_b128ae8bf0234f3ebeb0f5c7ad783554",
       "max": 2108853.0,
       "min": 0.0,
       "orientation": "horizontal",
       "style": "IPY_MODEL_f7ba0df738ad4ba782cf979d3e1b3fe3",
       "value": 2108853.0
      }
     },
     "9391c76ad5d44ab2951aae05f7288a14": {
      "model_module": "@jupyter-widgets/base",
      "model_module_version": "1.2.0",
      "model_name": "LayoutModel",
      "state": {
       "_model_module": "@jupyter-widgets/base",
       "_model_module_version": "1.2.0",
       "_model_name": "LayoutModel",
       "_view_count": null,
       "_view_module": "@jupyter-widgets/base",
       "_view_module_version": "1.2.0",
       "_view_name": "LayoutView",
       "align_content": null,
       "align_items": null,
       "align_self": null,
       "border": null,
       "bottom": null,
       "display": null,
       "flex": null,
       "flex_flow": null,
       "grid_area": null,
       "grid_auto_columns": null,
       "grid_auto_flow": null,
       "grid_auto_rows": null,
       "grid_column": null,
       "grid_gap": null,
       "grid_row": null,
       "grid_template_areas": null,
       "grid_template_columns": null,
       "grid_template_rows": null,
       "height": null,
       "justify_content": null,
       "justify_items": null,
       "left": null,
       "margin": null,
       "max_height": null,
       "max_width": null,
       "min_height": null,
       "min_width": null,
       "object_fit": null,
       "object_position": null,
       "order": null,
       "overflow": null,
       "overflow_x": null,
       "overflow_y": null,
       "padding": null,
       "right": null,
       "top": null,
       "visibility": null,
       "width": null
      }
     },
     "99636aa4568a4b8e8d0d8c06c65ba69c": {
      "model_module": "@jupyter-widgets/controls",
      "model_module_version": "1.5.0",
      "model_name": "HBoxModel",
      "state": {
       "_dom_classes": [],
       "_model_module": "@jupyter-widgets/controls",
       "_model_module_version": "1.5.0",
       "_model_name": "HBoxModel",
       "_view_count": null,
       "_view_module": "@jupyter-widgets/controls",
       "_view_module_version": "1.5.0",
       "_view_name": "HBoxView",
       "box_style": "",
       "children": [
        "IPY_MODEL_aa56122363314e289f89896b89610405",
        "IPY_MODEL_806db6b975224c578b3038c66e60640b",
        "IPY_MODEL_edb5ac2fe7d7474ba3071419cbd5f32a"
       ],
       "layout": "IPY_MODEL_088d1db8ea6e480cb8594621f1102152"
      }
     },
     "a180b93ac7ce49c88b624fd1499523de": {
      "model_module": "@jupyter-widgets/controls",
      "model_module_version": "1.5.0",
      "model_name": "ProgressStyleModel",
      "state": {
       "_model_module": "@jupyter-widgets/controls",
       "_model_module_version": "1.5.0",
       "_model_name": "ProgressStyleModel",
       "_view_count": null,
       "_view_module": "@jupyter-widgets/base",
       "_view_module_version": "1.2.0",
       "_view_name": "StyleView",
       "bar_color": null,
       "description_width": ""
      }
     },
     "a5cd0bcd4ce048b1bcd4cccde90f7082": {
      "model_module": "@jupyter-widgets/controls",
      "model_module_version": "1.5.0",
      "model_name": "FloatProgressModel",
      "state": {
       "_dom_classes": [],
       "_model_module": "@jupyter-widgets/controls",
       "_model_module_version": "1.5.0",
       "_model_name": "FloatProgressModel",
       "_view_count": null,
       "_view_module": "@jupyter-widgets/controls",
       "_view_module_version": "1.5.0",
       "_view_name": "ProgressView",
       "bar_style": "success",
       "description": "",
       "description_tooltip": null,
       "layout": "IPY_MODEL_207b83a41942470e8741bcb1e8bb67f9",
       "max": 1321.0,
       "min": 0.0,
       "orientation": "horizontal",
       "style": "IPY_MODEL_6617f3966ce345b599681fe71566ea09",
       "value": 1321.0
      }
     },
     "a6fa66ea6546408cb9b28d17f3e17eed": {
      "model_module": "@jupyter-widgets/base",
      "model_module_version": "1.2.0",
      "model_name": "LayoutModel",
      "state": {
       "_model_module": "@jupyter-widgets/base",
       "_model_module_version": "1.2.0",
       "_model_name": "LayoutModel",
       "_view_count": null,
       "_view_module": "@jupyter-widgets/base",
       "_view_module_version": "1.2.0",
       "_view_name": "LayoutView",
       "align_content": null,
       "align_items": null,
       "align_self": null,
       "border": null,
       "bottom": null,
       "display": null,
       "flex": null,
       "flex_flow": null,
       "grid_area": null,
       "grid_auto_columns": null,
       "grid_auto_flow": null,
       "grid_auto_rows": null,
       "grid_column": null,
       "grid_gap": null,
       "grid_row": null,
       "grid_template_areas": null,
       "grid_template_columns": null,
       "grid_template_rows": null,
       "height": null,
       "justify_content": null,
       "justify_items": null,
       "left": null,
       "margin": null,
       "max_height": null,
       "max_width": null,
       "min_height": null,
       "min_width": null,
       "object_fit": null,
       "object_position": null,
       "order": null,
       "overflow": null,
       "overflow_x": null,
       "overflow_y": null,
       "padding": null,
       "right": null,
       "top": null,
       "visibility": null,
       "width": null
      }
     },
     "a7531f711968477fb92d001d66105b20": {
      "model_module": "@jupyter-widgets/base",
      "model_module_version": "1.2.0",
      "model_name": "LayoutModel",
      "state": {
       "_model_module": "@jupyter-widgets/base",
       "_model_module_version": "1.2.0",
       "_model_name": "LayoutModel",
       "_view_count": null,
       "_view_module": "@jupyter-widgets/base",
       "_view_module_version": "1.2.0",
       "_view_name": "LayoutView",
       "align_content": null,
       "align_items": null,
       "align_self": null,
       "border": null,
       "bottom": null,
       "display": null,
       "flex": null,
       "flex_flow": null,
       "grid_area": null,
       "grid_auto_columns": null,
       "grid_auto_flow": null,
       "grid_auto_rows": null,
       "grid_column": null,
       "grid_gap": null,
       "grid_row": null,
       "grid_template_areas": null,
       "grid_template_columns": null,
       "grid_template_rows": null,
       "height": null,
       "justify_content": null,
       "justify_items": null,
       "left": null,
       "margin": null,
       "max_height": null,
       "max_width": null,
       "min_height": null,
       "min_width": null,
       "object_fit": null,
       "object_position": null,
       "order": null,
       "overflow": null,
       "overflow_x": null,
       "overflow_y": null,
       "padding": null,
       "right": null,
       "top": null,
       "visibility": null,
       "width": null
      }
     },
     "a814670bfda348f9986bbddf5da4bd78": {
      "model_module": "@jupyter-widgets/controls",
      "model_module_version": "1.5.0",
      "model_name": "ProgressStyleModel",
      "state": {
       "_model_module": "@jupyter-widgets/controls",
       "_model_module_version": "1.5.0",
       "_model_name": "ProgressStyleModel",
       "_view_count": null,
       "_view_module": "@jupyter-widgets/base",
       "_view_module_version": "1.2.0",
       "_view_name": "StyleView",
       "bar_color": null,
       "description_width": ""
      }
     },
     "a8ffc8a33f6b4e90adf5fc7c26a06dfd": {
      "model_module": "@jupyter-widgets/base",
      "model_module_version": "1.2.0",
      "model_name": "LayoutModel",
      "state": {
       "_model_module": "@jupyter-widgets/base",
       "_model_module_version": "1.2.0",
       "_model_name": "LayoutModel",
       "_view_count": null,
       "_view_module": "@jupyter-widgets/base",
       "_view_module_version": "1.2.0",
       "_view_name": "LayoutView",
       "align_content": null,
       "align_items": null,
       "align_self": null,
       "border": null,
       "bottom": null,
       "display": null,
       "flex": null,
       "flex_flow": null,
       "grid_area": null,
       "grid_auto_columns": null,
       "grid_auto_flow": null,
       "grid_auto_rows": null,
       "grid_column": null,
       "grid_gap": null,
       "grid_row": null,
       "grid_template_areas": null,
       "grid_template_columns": null,
       "grid_template_rows": null,
       "height": null,
       "justify_content": null,
       "justify_items": null,
       "left": null,
       "margin": null,
       "max_height": null,
       "max_width": null,
       "min_height": null,
       "min_width": null,
       "object_fit": null,
       "object_position": null,
       "order": null,
       "overflow": null,
       "overflow_x": null,
       "overflow_y": null,
       "padding": null,
       "right": null,
       "top": null,
       "visibility": null,
       "width": null
      }
     },
     "aa56122363314e289f89896b89610405": {
      "model_module": "@jupyter-widgets/controls",
      "model_module_version": "1.5.0",
      "model_name": "HTMLModel",
      "state": {
       "_dom_classes": [],
       "_model_module": "@jupyter-widgets/controls",
       "_model_module_version": "1.5.0",
       "_model_name": "HTMLModel",
       "_view_count": null,
       "_view_module": "@jupyter-widgets/controls",
       "_view_module_version": "1.5.0",
       "_view_name": "HTMLView",
       "description": "",
       "description_tooltip": null,
       "layout": "IPY_MODEL_67fe36aad9b24def904f7a3bb7f60cd0",
       "placeholder": "​",
       "style": "IPY_MODEL_16fdb4bebde0477ca2ee61350e8f479c",
       "value": "special_tokens_map.json: 100%"
      }
     },
     "ac1d3953f581418aa546e3b88407d0cb": {
      "model_module": "@jupyter-widgets/controls",
      "model_module_version": "1.5.0",
      "model_name": "DescriptionStyleModel",
      "state": {
       "_model_module": "@jupyter-widgets/controls",
       "_model_module_version": "1.5.0",
       "_model_name": "DescriptionStyleModel",
       "_view_count": null,
       "_view_module": "@jupyter-widgets/base",
       "_view_module_version": "1.2.0",
       "_view_name": "StyleView",
       "description_width": ""
      }
     },
     "adad0c79ea3d4f7293b1cca643d46842": {
      "model_module": "@jupyter-widgets/controls",
      "model_module_version": "1.5.0",
      "model_name": "DescriptionStyleModel",
      "state": {
       "_model_module": "@jupyter-widgets/controls",
       "_model_module_version": "1.5.0",
       "_model_name": "DescriptionStyleModel",
       "_view_count": null,
       "_view_module": "@jupyter-widgets/base",
       "_view_module_version": "1.2.0",
       "_view_name": "StyleView",
       "description_width": ""
      }
     },
     "b128ae8bf0234f3ebeb0f5c7ad783554": {
      "model_module": "@jupyter-widgets/base",
      "model_module_version": "1.2.0",
      "model_name": "LayoutModel",
      "state": {
       "_model_module": "@jupyter-widgets/base",
       "_model_module_version": "1.2.0",
       "_model_name": "LayoutModel",
       "_view_count": null,
       "_view_module": "@jupyter-widgets/base",
       "_view_module_version": "1.2.0",
       "_view_name": "LayoutView",
       "align_content": null,
       "align_items": null,
       "align_self": null,
       "border": null,
       "bottom": null,
       "display": null,
       "flex": null,
       "flex_flow": null,
       "grid_area": null,
       "grid_auto_columns": null,
       "grid_auto_flow": null,
       "grid_auto_rows": null,
       "grid_column": null,
       "grid_gap": null,
       "grid_row": null,
       "grid_template_areas": null,
       "grid_template_columns": null,
       "grid_template_rows": null,
       "height": null,
       "justify_content": null,
       "justify_items": null,
       "left": null,
       "margin": null,
       "max_height": null,
       "max_width": null,
       "min_height": null,
       "min_width": null,
       "object_fit": null,
       "object_position": null,
       "order": null,
       "overflow": null,
       "overflow_x": null,
       "overflow_y": null,
       "padding": null,
       "right": null,
       "top": null,
       "visibility": null,
       "width": null
      }
     },
     "b1e5fc1efbbc4111a782c5b321d4f304": {
      "model_module": "@jupyter-widgets/controls",
      "model_module_version": "1.5.0",
      "model_name": "HTMLModel",
      "state": {
       "_dom_classes": [],
       "_model_module": "@jupyter-widgets/controls",
       "_model_module_version": "1.5.0",
       "_model_name": "HTMLModel",
       "_view_count": null,
       "_view_module": "@jupyter-widgets/controls",
       "_view_module_version": "1.5.0",
       "_view_name": "HTMLView",
       "description": "",
       "description_tooltip": null,
       "layout": "IPY_MODEL_8bc6c0bc791444b9bd51dd8dee411f22",
       "placeholder": "​",
       "style": "IPY_MODEL_4d91facc70b1488b8ced7a3c0fa25993",
       "value": " 1.32k/1.32k [00:00&lt;00:00, 75.1kB/s]"
      }
     },
     "bc6a64be386c4f7a84c78d9be3be8639": {
      "model_module": "@jupyter-widgets/controls",
      "model_module_version": "1.5.0",
      "model_name": "DescriptionStyleModel",
      "state": {
       "_model_module": "@jupyter-widgets/controls",
       "_model_module_version": "1.5.0",
       "_model_name": "DescriptionStyleModel",
       "_view_count": null,
       "_view_module": "@jupyter-widgets/base",
       "_view_module_version": "1.2.0",
       "_view_name": "StyleView",
       "description_width": ""
      }
     },
     "c5eb9cd205a044049ce6b87ed1dd7ce0": {
      "model_module": "@jupyter-widgets/controls",
      "model_module_version": "1.5.0",
      "model_name": "HBoxModel",
      "state": {
       "_dom_classes": [],
       "_model_module": "@jupyter-widgets/controls",
       "_model_module_version": "1.5.0",
       "_model_name": "HBoxModel",
       "_view_count": null,
       "_view_module": "@jupyter-widgets/controls",
       "_view_module_version": "1.5.0",
       "_view_name": "HBoxView",
       "box_style": "",
       "children": [
        "IPY_MODEL_7ac78f20528a40089c74689800cef231",
        "IPY_MODEL_84a45dd9f12b45c69f9bf1cc6c269332",
        "IPY_MODEL_52dc86e55ae14754985a4f969c19b338"
       ],
       "layout": "IPY_MODEL_605663a10a7e41e6b56d08ccb8202d03"
      }
     },
     "d6485137345c410bb4f95b66ea10fa71": {
      "model_module": "@jupyter-widgets/base",
      "model_module_version": "1.2.0",
      "model_name": "LayoutModel",
      "state": {
       "_model_module": "@jupyter-widgets/base",
       "_model_module_version": "1.2.0",
       "_model_name": "LayoutModel",
       "_view_count": null,
       "_view_module": "@jupyter-widgets/base",
       "_view_module_version": "1.2.0",
       "_view_name": "LayoutView",
       "align_content": null,
       "align_items": null,
       "align_self": null,
       "border": null,
       "bottom": null,
       "display": null,
       "flex": null,
       "flex_flow": null,
       "grid_area": null,
       "grid_auto_columns": null,
       "grid_auto_flow": null,
       "grid_auto_rows": null,
       "grid_column": null,
       "grid_gap": null,
       "grid_row": null,
       "grid_template_areas": null,
       "grid_template_columns": null,
       "grid_template_rows": null,
       "height": null,
       "justify_content": null,
       "justify_items": null,
       "left": null,
       "margin": null,
       "max_height": null,
       "max_width": null,
       "min_height": null,
       "min_width": null,
       "object_fit": null,
       "object_position": null,
       "order": null,
       "overflow": null,
       "overflow_x": null,
       "overflow_y": null,
       "padding": null,
       "right": null,
       "top": null,
       "visibility": null,
       "width": null
      }
     },
     "dbcd3909513b4cb8a6273b18a28e63f3": {
      "model_module": "@jupyter-widgets/controls",
      "model_module_version": "1.5.0",
      "model_name": "DescriptionStyleModel",
      "state": {
       "_model_module": "@jupyter-widgets/controls",
       "_model_module_version": "1.5.0",
       "_model_name": "DescriptionStyleModel",
       "_view_count": null,
       "_view_module": "@jupyter-widgets/base",
       "_view_module_version": "1.2.0",
       "_view_name": "StyleView",
       "description_width": ""
      }
     },
     "dc198e7ea27a4a7eb58edfa34a32db45": {
      "model_module": "@jupyter-widgets/controls",
      "model_module_version": "1.5.0",
      "model_name": "HTMLModel",
      "state": {
       "_dom_classes": [],
       "_model_module": "@jupyter-widgets/controls",
       "_model_module_version": "1.5.0",
       "_model_name": "HTMLModel",
       "_view_count": null,
       "_view_module": "@jupyter-widgets/controls",
       "_view_module_version": "1.5.0",
       "_view_name": "HTMLView",
       "description": "",
       "description_tooltip": null,
       "layout": "IPY_MODEL_0e946c89473740458fc7e1ade6daddd3",
       "placeholder": "​",
       "style": "IPY_MODEL_e190a5a249824ffa984ae8c39fc1e6cf",
       "value": " 1.84G/1.84G [00:28&lt;00:00, 68.0MB/s]"
      }
     },
     "e0de6c4b95b64fcb97d22afc95d5110f": {
      "model_module": "@jupyter-widgets/controls",
      "model_module_version": "1.5.0",
      "model_name": "DescriptionStyleModel",
      "state": {
       "_model_module": "@jupyter-widgets/controls",
       "_model_module_version": "1.5.0",
       "_model_name": "DescriptionStyleModel",
       "_view_count": null,
       "_view_module": "@jupyter-widgets/base",
       "_view_module_version": "1.2.0",
       "_view_name": "StyleView",
       "description_width": ""
      }
     },
     "e190a5a249824ffa984ae8c39fc1e6cf": {
      "model_module": "@jupyter-widgets/controls",
      "model_module_version": "1.5.0",
      "model_name": "DescriptionStyleModel",
      "state": {
       "_model_module": "@jupyter-widgets/controls",
       "_model_module_version": "1.5.0",
       "_model_name": "DescriptionStyleModel",
       "_view_count": null,
       "_view_module": "@jupyter-widgets/base",
       "_view_module_version": "1.2.0",
       "_view_name": "StyleView",
       "description_width": ""
      }
     },
     "e875d21f4e2946e8853f195f83040795": {
      "model_module": "@jupyter-widgets/controls",
      "model_module_version": "1.5.0",
      "model_name": "HBoxModel",
      "state": {
       "_dom_classes": [],
       "_model_module": "@jupyter-widgets/controls",
       "_model_module_version": "1.5.0",
       "_model_name": "HBoxModel",
       "_view_count": null,
       "_view_module": "@jupyter-widgets/controls",
       "_view_module_version": "1.5.0",
       "_view_name": "HBoxView",
       "box_style": "",
       "children": [
        "IPY_MODEL_90675520a5e941b2a25f24c8188718a8",
        "IPY_MODEL_1f2a9a521b434478b49b588ca5d0c48a",
        "IPY_MODEL_0f9a9b5b89ae4d8584ac027e86d43c0c"
       ],
       "layout": "IPY_MODEL_6ba7d616563a42d595e5838f1589a199"
      }
     },
     "edb5ac2fe7d7474ba3071419cbd5f32a": {
      "model_module": "@jupyter-widgets/controls",
      "model_module_version": "1.5.0",
      "model_name": "HTMLModel",
      "state": {
       "_dom_classes": [],
       "_model_module": "@jupyter-widgets/controls",
       "_model_module_version": "1.5.0",
       "_model_name": "HTMLModel",
       "_view_count": null,
       "_view_module": "@jupyter-widgets/controls",
       "_view_module_version": "1.5.0",
       "_view_name": "HTMLView",
       "description": "",
       "description_tooltip": null,
       "layout": "IPY_MODEL_fc804fba7cba4ee7ba6b55b7bfaf408b",
       "placeholder": "​",
       "style": "IPY_MODEL_5f01c80bf13c4b378619253b0add887a",
       "value": " 772/772 [00:00&lt;00:00, 47.2kB/s]"
      }
     },
     "f7ba0df738ad4ba782cf979d3e1b3fe3": {
      "model_module": "@jupyter-widgets/controls",
      "model_module_version": "1.5.0",
      "model_name": "ProgressStyleModel",
      "state": {
       "_model_module": "@jupyter-widgets/controls",
       "_model_module_version": "1.5.0",
       "_model_name": "ProgressStyleModel",
       "_view_count": null,
       "_view_module": "@jupyter-widgets/base",
       "_view_module_version": "1.2.0",
       "_view_name": "StyleView",
       "bar_color": null,
       "description_width": ""
      }
     },
     "f8c6a023fc704481a93147e140d830a2": {
      "model_module": "@jupyter-widgets/controls",
      "model_module_version": "1.5.0",
      "model_name": "FloatProgressModel",
      "state": {
       "_dom_classes": [],
       "_model_module": "@jupyter-widgets/controls",
       "_model_module_version": "1.5.0",
       "_model_name": "FloatProgressModel",
       "_view_count": null,
       "_view_module": "@jupyter-widgets/controls",
       "_view_module_version": "1.5.0",
       "_view_name": "ProgressView",
       "bar_style": "success",
       "description": "",
       "description_tooltip": null,
       "layout": "IPY_MODEL_1bb9196a76404a25af0a904918e26054",
       "max": 1839478370.0,
       "min": 0.0,
       "orientation": "horizontal",
       "style": "IPY_MODEL_a814670bfda348f9986bbddf5da4bd78",
       "value": 1839478370.0
      }
     },
     "fc2399b3226846dbab04c6cf42924900": {
      "model_module": "@jupyter-widgets/controls",
      "model_module_version": "1.5.0",
      "model_name": "HTMLModel",
      "state": {
       "_dom_classes": [],
       "_model_module": "@jupyter-widgets/controls",
       "_model_module_version": "1.5.0",
       "_model_name": "HTMLModel",
       "_view_count": null,
       "_view_module": "@jupyter-widgets/controls",
       "_view_module_version": "1.5.0",
       "_view_name": "HTMLView",
       "description": "",
       "description_tooltip": null,
       "layout": "IPY_MODEL_a7531f711968477fb92d001d66105b20",
       "placeholder": "​",
       "style": "IPY_MODEL_527996b724984420aafc4d457ebe91a7",
       "value": "model.safetensors: 100%"
      }
     },
     "fc804fba7cba4ee7ba6b55b7bfaf408b": {
      "model_module": "@jupyter-widgets/base",
      "model_module_version": "1.2.0",
      "model_name": "LayoutModel",
      "state": {
       "_model_module": "@jupyter-widgets/base",
       "_model_module_version": "1.2.0",
       "_model_name": "LayoutModel",
       "_view_count": null,
       "_view_module": "@jupyter-widgets/base",
       "_view_module_version": "1.2.0",
       "_view_name": "LayoutView",
       "align_content": null,
       "align_items": null,
       "align_self": null,
       "border": null,
       "bottom": null,
       "display": null,
       "flex": null,
       "flex_flow": null,
       "grid_area": null,
       "grid_auto_columns": null,
       "grid_auto_flow": null,
       "grid_auto_rows": null,
       "grid_column": null,
       "grid_gap": null,
       "grid_row": null,
       "grid_template_areas": null,
       "grid_template_columns": null,
       "grid_template_rows": null,
       "height": null,
       "justify_content": null,
       "justify_items": null,
       "left": null,
       "margin": null,
       "max_height": null,
       "max_width": null,
       "min_height": null,
       "min_width": null,
       "object_fit": null,
       "object_position": null,
       "order": null,
       "overflow": null,
       "overflow_x": null,
       "overflow_y": null,
       "padding": null,
       "right": null,
       "top": null,
       "visibility": null,
       "width": null
      }
     },
     "fd9b8e0f467a4000b19d47594e74c7e7": {
      "model_module": "@jupyter-widgets/controls",
      "model_module_version": "1.5.0",
      "model_name": "DescriptionStyleModel",
      "state": {
       "_model_module": "@jupyter-widgets/controls",
       "_model_module_version": "1.5.0",
       "_model_name": "DescriptionStyleModel",
       "_view_count": null,
       "_view_module": "@jupyter-widgets/base",
       "_view_module_version": "1.2.0",
       "_view_name": "StyleView",
       "description_width": ""
      }
     }
    },
    "version_major": 2,
    "version_minor": 0
   }
  }
 },
 "nbformat": 4,
 "nbformat_minor": 5
}
